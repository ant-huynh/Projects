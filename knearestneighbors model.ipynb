{
 "cells": [
  {
   "cell_type": "code",
   "execution_count": 1,
   "metadata": {},
   "outputs": [],
   "source": [
    "import pandas as pd"
   ]
  },
  {
   "cell_type": "code",
   "execution_count": 2,
   "metadata": {},
   "outputs": [],
   "source": [
    "onlinenews = 'OnlineNewsPopularity.csv'"
   ]
  },
  {
   "cell_type": "code",
   "execution_count": 3,
   "metadata": {},
   "outputs": [],
   "source": [
    "onlinenews_data = pd.read_csv(onlinenews)"
   ]
  },
  {
   "cell_type": "code",
   "execution_count": 4,
   "metadata": {},
   "outputs": [],
   "source": [
    "onlinenews_data_nourl = onlinenews_data.drop(columns = 'url')"
   ]
  },
  {
   "cell_type": "code",
   "execution_count": 5,
   "metadata": {},
   "outputs": [],
   "source": [
    "onlinenews_data_nourl['target']= 0"
   ]
  },
  {
   "cell_type": "code",
   "execution_count": 6,
   "metadata": {},
   "outputs": [],
   "source": [
    "data = onlinenews_data_nourl.drop(columns = ' timedelta')"
   ]
  },
  {
   "cell_type": "code",
   "execution_count": 7,
   "metadata": {},
   "outputs": [],
   "source": [
    "data.loc[data[' shares'] <= 946, 'target'] = 0"
   ]
  },
  {
   "cell_type": "code",
   "execution_count": 8,
   "metadata": {},
   "outputs": [],
   "source": [
    "data.loc[(data[' shares'] > 946) & (data[' shares'] <= 1400), 'target'] = 1"
   ]
  },
  {
   "cell_type": "code",
   "execution_count": 9,
   "metadata": {},
   "outputs": [],
   "source": [
    "data.loc[(data[' shares'] > 1400) & (data[' shares'] <= 2800), 'target'] = 2"
   ]
  },
  {
   "cell_type": "code",
   "execution_count": 10,
   "metadata": {},
   "outputs": [],
   "source": [
    "data.loc[(data[' shares'] > 2800), 'target'] = 3"
   ]
  },
  {
   "cell_type": "code",
   "execution_count": 11,
   "metadata": {},
   "outputs": [],
   "source": [
    "from sklearn.model_selection import train_test_split"
   ]
  },
  {
   "cell_type": "code",
   "execution_count": 12,
   "metadata": {},
   "outputs": [],
   "source": [
    "X_train, X_test, y_train, y_test = train_test_split(data,data['target'],test_size=0.5,random_state=0)"
   ]
  },
  {
   "cell_type": "code",
   "execution_count": 13,
   "metadata": {},
   "outputs": [],
   "source": [
    "from sklearn.neighbors import KNeighborsClassifier"
   ]
  },
  {
   "cell_type": "code",
   "execution_count": 14,
   "metadata": {},
   "outputs": [],
   "source": [
    "clf = KNeighborsClassifier(7, weights = 'distance', p = 1)"
   ]
  },
  {
   "cell_type": "code",
   "execution_count": 15,
   "metadata": {},
   "outputs": [
    {
     "data": {
      "text/plain": [
       "KNeighborsClassifier(algorithm='auto', leaf_size=30, metric='minkowski',\n",
       "           metric_params=None, n_jobs=None, n_neighbors=7, p=1,\n",
       "           weights='distance')"
      ]
     },
     "execution_count": 15,
     "metadata": {},
     "output_type": "execute_result"
    }
   ],
   "source": [
    "clf.fit(X_train,y_train)"
   ]
  },
  {
   "cell_type": "code",
   "execution_count": 16,
   "metadata": {},
   "outputs": [],
   "source": [
    "predicted = clf.predict(X_test)"
   ]
  },
  {
   "cell_type": "code",
   "execution_count": 17,
   "metadata": {},
   "outputs": [],
   "source": [
    "predicted_train = clf.predict(X_train)"
   ]
  },
  {
   "cell_type": "code",
   "execution_count": 18,
   "metadata": {},
   "outputs": [],
   "source": [
    "from sklearn.metrics import confusion_matrix"
   ]
  },
  {
   "cell_type": "code",
   "execution_count": 19,
   "metadata": {},
   "outputs": [],
   "source": [
    "cm = confusion_matrix(y_test, predicted)"
   ]
  },
  {
   "cell_type": "code",
   "execution_count": 20,
   "metadata": {},
   "outputs": [
    {
     "data": {
      "text/plain": [
       "array([[2618, 1594,  685,  107],\n",
       "       [1569, 2164, 1122,  186],\n",
       "       [ 831, 1562, 2203,  371],\n",
       "       [ 309,  566, 1217, 2718]], dtype=int64)"
      ]
     },
     "execution_count": 20,
     "metadata": {},
     "output_type": "execute_result"
    }
   ],
   "source": [
    "cm"
   ]
  },
  {
   "cell_type": "code",
   "execution_count": 21,
   "metadata": {},
   "outputs": [],
   "source": [
    "from sklearn.metrics import classification_report"
   ]
  },
  {
   "cell_type": "code",
   "execution_count": 22,
   "metadata": {},
   "outputs": [
    {
     "name": "stdout",
     "output_type": "stream",
     "text": [
      "              precision    recall  f1-score   support\n",
      "\n",
      "           0       0.49      0.52      0.51      5004\n",
      "           1       0.37      0.43      0.40      5041\n",
      "           2       0.42      0.44      0.43      4967\n",
      "           3       0.80      0.57      0.66      4810\n",
      "\n",
      "   micro avg       0.49      0.49      0.49     19822\n",
      "   macro avg       0.52      0.49      0.50     19822\n",
      "weighted avg       0.52      0.49      0.50     19822\n",
      "\n"
     ]
    }
   ],
   "source": [
    "print classification_report(y_test, predicted)"
   ]
  },
  {
   "cell_type": "code",
   "execution_count": 23,
   "metadata": {},
   "outputs": [],
   "source": [
    "from sklearn.metrics import accuracy_score"
   ]
  },
  {
   "cell_type": "code",
   "execution_count": 24,
   "metadata": {},
   "outputs": [
    {
     "name": "stdout",
     "output_type": "stream",
     "text": [
      "0.4895066088184845\n"
     ]
    }
   ],
   "source": [
    "print accuracy_score(y_test, predicted)"
   ]
  },
  {
   "cell_type": "code",
   "execution_count": 25,
   "metadata": {},
   "outputs": [
    {
     "name": "stdout",
     "output_type": "stream",
     "text": [
      "1.0\n"
     ]
    }
   ],
   "source": [
    "print accuracy_score(y_train, predicted_train)"
   ]
  },
  {
   "cell_type": "code",
   "execution_count": 26,
   "metadata": {},
   "outputs": [
    {
     "data": {
      "text/plain": [
       "0.4895066088184845"
      ]
     },
     "execution_count": 26,
     "metadata": {},
     "output_type": "execute_result"
    }
   ],
   "source": [
    "clf.score(X_test, y_test)"
   ]
  },
  {
   "cell_type": "code",
   "execution_count": 27,
   "metadata": {},
   "outputs": [],
   "source": [
    "from sklearn.model_selection import KFold"
   ]
  },
  {
   "cell_type": "code",
   "execution_count": 28,
   "metadata": {},
   "outputs": [],
   "source": [
    "kf = KFold(n_splits = 10, random_state=0)"
   ]
  },
  {
   "cell_type": "code",
   "execution_count": 29,
   "metadata": {},
   "outputs": [
    {
     "name": "stdout",
     "output_type": "stream",
     "text": [
      "('TRAIN:', array([ 3965,  3966,  3967, ..., 39641, 39642, 39643]), 'TEST:', array([   0,    1,    2, ..., 3962, 3963, 3964]))\n",
      "('TRAIN:', array([    0,     1,     2, ..., 39641, 39642, 39643]), 'TEST:', array([3965, 3966, 3967, ..., 7927, 7928, 7929]))\n",
      "('TRAIN:', array([    0,     1,     2, ..., 39641, 39642, 39643]), 'TEST:', array([ 7930,  7931,  7932, ..., 11892, 11893, 11894]))\n",
      "('TRAIN:', array([    0,     1,     2, ..., 39641, 39642, 39643]), 'TEST:', array([11895, 11896, 11897, ..., 15857, 15858, 15859]))\n",
      "('TRAIN:', array([    0,     1,     2, ..., 39641, 39642, 39643]), 'TEST:', array([15860, 15861, 15862, ..., 19821, 19822, 19823]))\n",
      "('TRAIN:', array([    0,     1,     2, ..., 39641, 39642, 39643]), 'TEST:', array([19824, 19825, 19826, ..., 23785, 23786, 23787]))\n",
      "('TRAIN:', array([    0,     1,     2, ..., 39641, 39642, 39643]), 'TEST:', array([23788, 23789, 23790, ..., 27749, 27750, 27751]))\n",
      "('TRAIN:', array([    0,     1,     2, ..., 39641, 39642, 39643]), 'TEST:', array([27752, 27753, 27754, ..., 31713, 31714, 31715]))\n",
      "('TRAIN:', array([    0,     1,     2, ..., 39641, 39642, 39643]), 'TEST:', array([31716, 31717, 31718, ..., 35677, 35678, 35679]))\n",
      "('TRAIN:', array([    0,     1,     2, ..., 35677, 35678, 35679]), 'TEST:', array([35680, 35681, 35682, ..., 39641, 39642, 39643]))\n"
     ]
    }
   ],
   "source": [
    "for train_index, test_index in kf.split(data):\n",
    "    print(\"TRAIN:\", train_index, \"TEST:\", test_index)\n",
    "    X_train, X_test = data.iloc[train_index], data.iloc[test_index]\n",
    "    y_train, y_test = data.iloc[train_index], data.iloc[test_index]"
   ]
  },
  {
   "cell_type": "code",
   "execution_count": 30,
   "metadata": {},
   "outputs": [
    {
     "name": "stdout",
     "output_type": "stream",
     "text": [
      "[fold 0] score: 0.33644\n",
      "[fold 1] score: 0.40782\n",
      "[fold 2] score: 0.51501\n",
      "[fold 3] score: 0.52989\n",
      "[fold 4] score: 0.52447\n",
      "[fold 5] score: 0.50454\n",
      "[fold 6] score: 0.51589\n",
      "[fold 7] score: 0.51488\n",
      "[fold 8] score: 0.51009\n",
      "[fold 9] score: 0.51060\n"
     ]
    }
   ],
   "source": [
    "for k, (train_index, test_index) in enumerate(kf.split(data)):\n",
    "    X_train, X_test = data.iloc[train_index], data.iloc[test_index]\n",
    "    y_train, y_test = data['target'].iloc[train_index], data['target'].iloc[test_index]\n",
    "    clf.fit(X_train, y_train)\n",
    "    print \"[fold {0}] score: {1:.5f}\".format(k, clf.score(X_test,y_test))"
   ]
  },
  {
   "cell_type": "code",
   "execution_count": null,
   "metadata": {},
   "outputs": [],
   "source": []
  }
 ],
 "metadata": {
  "kernelspec": {
   "display_name": "Python 2",
   "language": "python",
   "name": "python2"
  },
  "language_info": {
   "codemirror_mode": {
    "name": "ipython",
    "version": 2
   },
   "file_extension": ".py",
   "mimetype": "text/x-python",
   "name": "python",
   "nbconvert_exporter": "python",
   "pygments_lexer": "ipython2",
   "version": "2.7.15"
  }
 },
 "nbformat": 4,
 "nbformat_minor": 2
}
