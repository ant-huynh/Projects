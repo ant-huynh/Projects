{
 "cells": [
  {
   "cell_type": "code",
   "execution_count": 204,
   "metadata": {},
   "outputs": [],
   "source": [
    "import pandas as pd"
   ]
  },
  {
   "cell_type": "code",
   "execution_count": 205,
   "metadata": {},
   "outputs": [],
   "source": [
    "onlinenews = 'OnlineNewsPopularity.csv'"
   ]
  },
  {
   "cell_type": "code",
   "execution_count": 206,
   "metadata": {},
   "outputs": [],
   "source": [
    "onlinenews_data = pd.read_csv(onlinenews)"
   ]
  },
  {
   "cell_type": "code",
   "execution_count": 207,
   "metadata": {},
   "outputs": [],
   "source": [
    "onlinenews_data_nourl = onlinenews_data.drop(columns = 'url')"
   ]
  },
  {
   "cell_type": "code",
   "execution_count": 208,
   "metadata": {},
   "outputs": [],
   "source": [
    "onlinenews_data_nourl['target']= 0"
   ]
  },
  {
   "cell_type": "code",
   "execution_count": 209,
   "metadata": {},
   "outputs": [],
   "source": [
    "data = onlinenews_data_nourl.drop(columns = ' timedelta')"
   ]
  },
  {
   "cell_type": "code",
   "execution_count": 210,
   "metadata": {},
   "outputs": [],
   "source": [
    "data.loc[data[' shares'] <= 946, 'target'] = 0"
   ]
  },
  {
   "cell_type": "code",
   "execution_count": 211,
   "metadata": {},
   "outputs": [],
   "source": [
    "data.loc[(data[' shares'] > 946) & (data[' shares'] <= 1400), 'target'] = 1"
   ]
  },
  {
   "cell_type": "code",
   "execution_count": 212,
   "metadata": {},
   "outputs": [],
   "source": [
    "data.loc[(data[' shares'] > 1400) & (data[' shares'] <= 2800), 'target'] = 2"
   ]
  },
  {
   "cell_type": "code",
   "execution_count": 213,
   "metadata": {},
   "outputs": [],
   "source": [
    "data.loc[(data[' shares'] > 2800), 'target'] = 3"
   ]
  },
  {
   "cell_type": "code",
   "execution_count": 214,
   "metadata": {},
   "outputs": [],
   "source": [
    "from sklearn.model_selection import train_test_split"
   ]
  },
  {
   "cell_type": "code",
   "execution_count": 215,
   "metadata": {},
   "outputs": [],
   "source": [
    "X_train, X_test, y_train, y_test = train_test_split(data, data['target'], test_size = 0.4, random_state =0)"
   ]
  },
  {
   "cell_type": "code",
   "execution_count": 216,
   "metadata": {},
   "outputs": [],
   "source": [
    "from sklearn.tree import DecisionTreeClassifier"
   ]
  },
  {
   "cell_type": "code",
   "execution_count": 217,
   "metadata": {},
   "outputs": [],
   "source": [
    "clf = DecisionTreeClassifier(max_depth = 8, min_samples_leaf = 300, min_samples_split = 3000, max_features = 'sqrt')"
   ]
  },
  {
   "cell_type": "code",
   "execution_count": 218,
   "metadata": {},
   "outputs": [],
   "source": [
    "fit = clf.fit(X_train, y_train)"
   ]
  },
  {
   "cell_type": "code",
   "execution_count": 219,
   "metadata": {},
   "outputs": [],
   "source": [
    "predicted = fit.predict(X_test)"
   ]
  },
  {
   "cell_type": "code",
   "execution_count": 220,
   "metadata": {},
   "outputs": [],
   "source": [
    "predicted_train = fit.predict(X_train)"
   ]
  },
  {
   "cell_type": "code",
   "execution_count": 221,
   "metadata": {},
   "outputs": [],
   "source": [
    "from sklearn.metrics import confusion_matrix"
   ]
  },
  {
   "cell_type": "markdown",
   "metadata": {},
   "source": [
    "cm = confusion_matrix(y_test, predicted"
   ]
  },
  {
   "cell_type": "code",
   "execution_count": 222,
   "metadata": {},
   "outputs": [],
   "source": [
    "cm = confusion_matrix(y_test, predicted)"
   ]
  },
  {
   "cell_type": "code",
   "execution_count": 223,
   "metadata": {},
   "outputs": [
    {
     "data": {
      "text/plain": [
       "array([[2672,    0,  680,  696],\n",
       "       [ 586, 1438, 1179,  809],\n",
       "       [ 490,  330, 2216,  952],\n",
       "       [ 185,  187,  846, 2592]], dtype=int64)"
      ]
     },
     "execution_count": 223,
     "metadata": {},
     "output_type": "execute_result"
    }
   ],
   "source": [
    "cm"
   ]
  },
  {
   "cell_type": "code",
   "execution_count": 224,
   "metadata": {},
   "outputs": [],
   "source": [
    "from sklearn.metrics import classification_report"
   ]
  },
  {
   "cell_type": "code",
   "execution_count": 225,
   "metadata": {},
   "outputs": [
    {
     "name": "stdout",
     "output_type": "stream",
     "text": [
      "              precision    recall  f1-score   support\n",
      "\n",
      "           0       0.68      0.66      0.67      4048\n",
      "           1       0.74      0.36      0.48      4012\n",
      "           2       0.45      0.56      0.50      3988\n",
      "           3       0.51      0.68      0.59      3810\n",
      "\n",
      "   micro avg       0.56      0.56      0.56     15858\n",
      "   macro avg       0.59      0.56      0.56     15858\n",
      "weighted avg       0.60      0.56      0.56     15858\n",
      "\n"
     ]
    }
   ],
   "source": [
    "print classification_report(y_test, predicted)"
   ]
  },
  {
   "cell_type": "code",
   "execution_count": 226,
   "metadata": {},
   "outputs": [],
   "source": [
    "from sklearn.metrics import accuracy_score"
   ]
  },
  {
   "cell_type": "code",
   "execution_count": 227,
   "metadata": {},
   "outputs": [
    {
     "name": "stdout",
     "output_type": "stream",
     "text": [
      "0.5623659982343296\n"
     ]
    }
   ],
   "source": [
    "print accuracy_score(y_test, predicted)"
   ]
  },
  {
   "cell_type": "code",
   "execution_count": 228,
   "metadata": {},
   "outputs": [
    {
     "name": "stdout",
     "output_type": "stream",
     "text": [
      "0.5800470865214832\n"
     ]
    }
   ],
   "source": [
    "print accuracy_score(y_train, predicted_train)"
   ]
  },
  {
   "cell_type": "code",
   "execution_count": 229,
   "metadata": {},
   "outputs": [],
   "source": [
    "from sklearn.model_selection import KFold"
   ]
  },
  {
   "cell_type": "code",
   "execution_count": 230,
   "metadata": {},
   "outputs": [],
   "source": [
    "kf = KFold(n_splits = 10, random_state=0)"
   ]
  },
  {
   "cell_type": "code",
   "execution_count": 231,
   "metadata": {
    "scrolled": true
   },
   "outputs": [
    {
     "name": "stdout",
     "output_type": "stream",
     "text": [
      "('TRAIN:', array([ 3965,  3966,  3967, ..., 39641, 39642, 39643]), 'TEST:', array([   0,    1,    2, ..., 3962, 3963, 3964]))\n",
      "('TRAIN:', array([    0,     1,     2, ..., 39641, 39642, 39643]), 'TEST:', array([3965, 3966, 3967, ..., 7927, 7928, 7929]))\n",
      "('TRAIN:', array([    0,     1,     2, ..., 39641, 39642, 39643]), 'TEST:', array([ 7930,  7931,  7932, ..., 11892, 11893, 11894]))\n",
      "('TRAIN:', array([    0,     1,     2, ..., 39641, 39642, 39643]), 'TEST:', array([11895, 11896, 11897, ..., 15857, 15858, 15859]))\n",
      "('TRAIN:', array([    0,     1,     2, ..., 39641, 39642, 39643]), 'TEST:', array([15860, 15861, 15862, ..., 19821, 19822, 19823]))\n",
      "('TRAIN:', array([    0,     1,     2, ..., 39641, 39642, 39643]), 'TEST:', array([19824, 19825, 19826, ..., 23785, 23786, 23787]))\n",
      "('TRAIN:', array([    0,     1,     2, ..., 39641, 39642, 39643]), 'TEST:', array([23788, 23789, 23790, ..., 27749, 27750, 27751]))\n",
      "('TRAIN:', array([    0,     1,     2, ..., 39641, 39642, 39643]), 'TEST:', array([27752, 27753, 27754, ..., 31713, 31714, 31715]))\n",
      "('TRAIN:', array([    0,     1,     2, ..., 39641, 39642, 39643]), 'TEST:', array([31716, 31717, 31718, ..., 35677, 35678, 35679]))\n",
      "('TRAIN:', array([    0,     1,     2, ..., 35677, 35678, 35679]), 'TEST:', array([35680, 35681, 35682, ..., 39641, 39642, 39643]))\n"
     ]
    }
   ],
   "source": [
    "for train_index, test_index in kf.split(data):\n",
    "    print(\"TRAIN:\", train_index, \"TEST:\", test_index)\n",
    "    X_train, X_test = data.iloc[train_index], data.iloc[test_index]\n",
    "    y_train, y_test = data.iloc[train_index], data.iloc[test_index]"
   ]
  },
  {
   "cell_type": "code",
   "execution_count": 232,
   "metadata": {},
   "outputs": [
    {
     "name": "stdout",
     "output_type": "stream",
     "text": [
      "[fold 0] score: 0.50113\n",
      "[fold 1] score: 0.76646\n",
      "[fold 2] score: 0.91551\n",
      "[fold 3] score: 0.40328\n",
      "[fold 4] score: 0.68592\n",
      "[fold 5] score: 0.56206\n",
      "[fold 6] score: 0.59006\n",
      "[fold 7] score: 0.88749\n",
      "[fold 8] score: 0.74495\n",
      "[fold 9] score: 0.39001\n"
     ]
    }
   ],
   "source": [
    "for k, (train_index, test_index) in enumerate(kf.split(data)):\n",
    "    X_train, X_test = data.iloc[train_index], data.iloc[test_index]\n",
    "    y_train, y_test = data['target'].iloc[train_index], data['target'].iloc[test_index]\n",
    "    clf.fit(X_train, y_train)\n",
    "    print \"[fold {0}] score: {1:.5f}\".format(k, clf.score(X_test,y_test))"
   ]
  }
 ],
 "metadata": {
  "kernelspec": {
   "display_name": "Python 2",
   "language": "python",
   "name": "python2"
  },
  "language_info": {
   "codemirror_mode": {
    "name": "ipython",
    "version": 2
   },
   "file_extension": ".py",
   "mimetype": "text/x-python",
   "name": "python",
   "nbconvert_exporter": "python",
   "pygments_lexer": "ipython2",
   "version": "2.7.15"
  }
 },
 "nbformat": 4,
 "nbformat_minor": 2
}
