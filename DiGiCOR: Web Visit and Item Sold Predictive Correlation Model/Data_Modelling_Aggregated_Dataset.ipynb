{
 "cells": [
  {
   "cell_type": "code",
   "execution_count": null,
   "metadata": {
    "colab": {
     "base_uri": "https://localhost:8080/"
    },
    "id": "lttKkfjC-u_f",
    "outputId": "c2bf6b63-8ac4-4b9a-86e8-fd07fd00ca42"
   },
   "outputs": [
    {
     "name": "stderr",
     "output_type": "stream",
     "text": [
      "/usr/local/lib/python3.7/dist-packages/statsmodels/tools/_testing.py:19: FutureWarning: pandas.util.testing is deprecated. Use the functions in the public API at pandas.testing instead.\n",
      "  import pandas.util.testing as tm\n"
     ]
    }
   ],
   "source": [
    "#Dataframe and graph plotting\n",
    "import pandas as pd\n",
    "import matplotlib.pyplot as plt\n",
    "import numpy as np\n",
    "\n",
    "#SK learn and metrics\n",
    "import sklearn as sk\n",
    "from sklearn.model_selection import train_test_split\n",
    "from sklearn import linear_model\n",
    "from sklearn.metrics import mean_squared_error\n",
    "from sklearn.metrics import mean_absolute_error\n",
    "from sklearn.metrics import r2_score\n",
    "from sklearn import model_selection\n",
    "from patsy import dmatrices\n",
    "import statsmodels.api as sm\n"
   ]
  },
  {
   "cell_type": "code",
   "execution_count": null,
   "metadata": {
    "id": "ewWxvPcVGB9-"
   },
   "outputs": [],
   "source": [
    "#pip install --upgrade scikit-learn"
   ]
  },
  {
   "cell_type": "code",
   "execution_count": null,
   "metadata": {
    "colab": {
     "base_uri": "https://localhost:8080/",
     "height": 72,
     "resources": {
      "http://localhost:8080/nbextensions/google.colab/files.js": {
       "data": "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",
       "headers": [
        [
         "content-type",
         "application/javascript"
        ]
       ],
       "ok": true,
       "status": 200,
       "status_text": ""
      }
     }
    },
    "id": "xDMqI8uG-xXR",
    "outputId": "ca542c24-60ac-4792-9e2d-270385b6be47"
   },
   "outputs": [
    {
     "data": {
      "text/html": [
       "\n",
       "     <input type=\"file\" id=\"files-aefc63d2-2c31-432a-b356-be4c726b04c2\" name=\"files[]\" multiple disabled\n",
       "        style=\"border:none\" />\n",
       "     <output id=\"result-aefc63d2-2c31-432a-b356-be4c726b04c2\">\n",
       "      Upload widget is only available when the cell has been executed in the\n",
       "      current browser session. Please rerun this cell to enable.\n",
       "      </output>\n",
       "      <script src=\"/nbextensions/google.colab/files.js\"></script> "
      ],
      "text/plain": [
       "<IPython.core.display.HTML object>"
      ]
     },
     "metadata": {},
     "output_type": "display_data"
    },
    {
     "name": "stdout",
     "output_type": "stream",
     "text": [
      "Saving webdata_qtySold.csv to webdata_qtySold.csv\n"
     ]
    }
   ],
   "source": [
    "from google.colab import files \n",
    "uploaded = files.upload()"
   ]
  },
  {
   "cell_type": "code",
   "execution_count": null,
   "metadata": {
    "id": "UQatq6Am-9X_"
   },
   "outputs": [],
   "source": [
    "data = pd.read_csv('webdata_qtySold.csv')"
   ]
  },
  {
   "cell_type": "markdown",
   "metadata": {
    "id": "68fJnoA2RPqQ"
   },
   "source": [
    "## Investigate if there is any relationship between Quantity Sold and Page Views"
   ]
  },
  {
   "cell_type": "code",
   "execution_count": null,
   "metadata": {
    "colab": {
     "base_uri": "https://localhost:8080/",
     "height": 285
    },
    "id": "xgE7a8kt_eLo",
    "outputId": "d017dac0-153b-473f-b72f-cc48d41db30e"
   },
   "outputs": [
    {
     "data": {
      "text/plain": [
       "Text(0.5, 1.0, 'Page Views Vs Quantity Sold')"
      ]
     },
     "execution_count": 5,
     "metadata": {},
     "output_type": "execute_result"
    },
    {
     "data": {
      "image/png": "[encoded data removed]",
      "text/plain": [
       "<Figure size 324x252 with 1 Axes>"
      ]
     },
     "metadata": {
      "needs_background": "light"
     },
     "output_type": "display_data"
    }
   ],
   "source": [
    "#Page Views vs Quantity sold\n",
    "plt.figure(figsize=(4.5, 3.5))\n",
    "plt.plot(data['Page_Views'], data['Qty_Sold'], 'ro')\n",
    "plt.xlabel('Page Views')\n",
    "plt.ylabel('Quantity Sold')\n",
    "plt.title('Page Views Vs Quantity Sold')\n",
    "#plt.savefig('Page Views Vs Quantity Sold.png', bbox_inches='tight')"
   ]
  },
  {
   "cell_type": "markdown",
   "metadata": {
    "id": "qWWMAs68ODY0"
   },
   "source": [
    "## Poisson Modelling"
   ]
  },
  {
   "cell_type": "code",
   "execution_count": null,
   "metadata": {
    "colab": {
     "base_uri": "https://localhost:8080/"
    },
    "id": "rVQz-s0xKWDJ",
    "outputId": "702fb962-4522-4ea8-ac06-346f82412c36"
   },
   "outputs": [
    {
     "name": "stdout",
     "output_type": "stream",
     "text": [
      "Training data set length=76\n",
      "Testing data set length=14\n"
     ]
    }
   ],
   "source": [
    "np.random.seed(0) # set random seed for reproducibility\n",
    "mask = np.random.rand(len(data)) < 0.8\n",
    "df_train = data[mask]\n",
    "df_test = data[~mask]\n",
    "print('Training data set length='+str(len(df_train)))\n",
    "print('Testing data set length='+str(len(df_test)))"
   ]
  },
  {
   "cell_type": "code",
   "execution_count": null,
   "metadata": {
    "colab": {
     "base_uri": "https://localhost:8080/",
     "height": 626
    },
    "id": "Le4V8en77E_-",
    "outputId": "28e615a4-fa1b-4a37-e473-626798342a8f"
   },
   "outputs": [
    {
     "data": {
      "text/html": [
       "<div>\n",
       "<style scoped>\n",
       "    .dataframe tbody tr th:only-of-type {\n",
       "        vertical-align: middle;\n",
       "    }\n",
       "\n",
       "    .dataframe tbody tr th {\n",
       "        vertical-align: top;\n",
       "    }\n",
       "\n",
       "    .dataframe thead th {\n",
       "        text-align: right;\n",
       "    }\n",
       "</style>\n",
       "<table border=\"1\" class=\"dataframe\">\n",
       "  <thead>\n",
       "    <tr style=\"text-align: right;\">\n",
       "      <th></th>\n",
       "      <th>Unnamed: 0</th>\n",
       "      <th>index</th>\n",
       "      <th>Item Code</th>\n",
       "      <th>Qty_Sold</th>\n",
       "      <th>Page</th>\n",
       "      <th>bom_type ID</th>\n",
       "      <th>BOM Type</th>\n",
       "      <th>Page_Views</th>\n",
       "      <th>Organic_Searches</th>\n",
       "      <th>New_Users</th>\n",
       "      <th>Number_of_Sessions_per_User</th>\n",
       "      <th>Users</th>\n",
       "      <th>Weighted_Avg_Time_on_Page</th>\n",
       "    </tr>\n",
       "  </thead>\n",
       "  <tbody>\n",
       "    <tr>\n",
       "      <th>0</th>\n",
       "      <td>0</td>\n",
       "      <td>0</td>\n",
       "      <td>1013S-MTR</td>\n",
       "      <td>8.0</td>\n",
       "      <td>/systems/AS-1013S-MTR</td>\n",
       "      <td>2.0</td>\n",
       "      <td>BB</td>\n",
       "      <td>96</td>\n",
       "      <td>15</td>\n",
       "      <td>17</td>\n",
       "      <td>27.500000</td>\n",
       "      <td>80</td>\n",
       "      <td>175.812500</td>\n",
       "    </tr>\n",
       "    <tr>\n",
       "      <th>1</th>\n",
       "      <td>1</td>\n",
       "      <td>2</td>\n",
       "      <td>1014S-WTRT</td>\n",
       "      <td>31.0</td>\n",
       "      <td>/systems/AS-1014S-WTRT</td>\n",
       "      <td>2.0</td>\n",
       "      <td>BB</td>\n",
       "      <td>184</td>\n",
       "      <td>40</td>\n",
       "      <td>51</td>\n",
       "      <td>65.666667</td>\n",
       "      <td>142</td>\n",
       "      <td>141.908514</td>\n",
       "    </tr>\n",
       "    <tr>\n",
       "      <th>2</th>\n",
       "      <td>2</td>\n",
       "      <td>3</td>\n",
       "      <td>1019C-HTN2</td>\n",
       "      <td>13.0</td>\n",
       "      <td>/systems/superServer-1019C-HTN2</td>\n",
       "      <td>2.0</td>\n",
       "      <td>BB</td>\n",
       "      <td>5</td>\n",
       "      <td>2</td>\n",
       "      <td>4</td>\n",
       "      <td>4.000000</td>\n",
       "      <td>5</td>\n",
       "      <td>10.800000</td>\n",
       "    </tr>\n",
       "    <tr>\n",
       "      <th>3</th>\n",
       "      <td>3</td>\n",
       "      <td>5</td>\n",
       "      <td>1019P-FHN2T</td>\n",
       "      <td>3.0</td>\n",
       "      <td>/systems/SuperServer-1019P-FHN2T</td>\n",
       "      <td>2.0</td>\n",
       "      <td>BB</td>\n",
       "      <td>101</td>\n",
       "      <td>13</td>\n",
       "      <td>20</td>\n",
       "      <td>28.500000</td>\n",
       "      <td>87</td>\n",
       "      <td>78.643564</td>\n",
       "    </tr>\n",
       "    <tr>\n",
       "      <th>4</th>\n",
       "      <td>4</td>\n",
       "      <td>6</td>\n",
       "      <td>1019P-WTR</td>\n",
       "      <td>26.0</td>\n",
       "      <td>/systems/superServer-1019P-WTR</td>\n",
       "      <td>2.0</td>\n",
       "      <td>BB</td>\n",
       "      <td>1</td>\n",
       "      <td>1</td>\n",
       "      <td>1</td>\n",
       "      <td>1.000000</td>\n",
       "      <td>1</td>\n",
       "      <td>0.000000</td>\n",
       "    </tr>\n",
       "    <tr>\n",
       "      <th>...</th>\n",
       "      <td>...</td>\n",
       "      <td>...</td>\n",
       "      <td>...</td>\n",
       "      <td>...</td>\n",
       "      <td>...</td>\n",
       "      <td>...</td>\n",
       "      <td>...</td>\n",
       "      <td>...</td>\n",
       "      <td>...</td>\n",
       "      <td>...</td>\n",
       "      <td>...</td>\n",
       "      <td>...</td>\n",
       "      <td>...</td>\n",
       "    </tr>\n",
       "    <tr>\n",
       "      <th>84</th>\n",
       "      <td>84</td>\n",
       "      <td>123</td>\n",
       "      <td>E50-9AP</td>\n",
       "      <td>20.0</td>\n",
       "      <td>/systems/SuperServer-E50-9AP</td>\n",
       "      <td>2.0</td>\n",
       "      <td>BB</td>\n",
       "      <td>9</td>\n",
       "      <td>1</td>\n",
       "      <td>1</td>\n",
       "      <td>1.000000</td>\n",
       "      <td>5</td>\n",
       "      <td>24.333333</td>\n",
       "    </tr>\n",
       "    <tr>\n",
       "      <th>85</th>\n",
       "      <td>85</td>\n",
       "      <td>124</td>\n",
       "      <td>MBI-6118G-T41X</td>\n",
       "      <td>1.0</td>\n",
       "      <td>/systems/MBI-6118G-T41X</td>\n",
       "      <td>5.0</td>\n",
       "      <td>Node</td>\n",
       "      <td>1</td>\n",
       "      <td>0</td>\n",
       "      <td>0</td>\n",
       "      <td>0.000000</td>\n",
       "      <td>1</td>\n",
       "      <td>30.000000</td>\n",
       "    </tr>\n",
       "    <tr>\n",
       "      <th>86</th>\n",
       "      <td>86</td>\n",
       "      <td>125</td>\n",
       "      <td>R1208WFTYS</td>\n",
       "      <td>9.0</td>\n",
       "      <td>/systems/intel-R1208WFTYS</td>\n",
       "      <td>2.0</td>\n",
       "      <td>BB</td>\n",
       "      <td>5</td>\n",
       "      <td>2</td>\n",
       "      <td>5</td>\n",
       "      <td>3.000000</td>\n",
       "      <td>5</td>\n",
       "      <td>0.000000</td>\n",
       "    </tr>\n",
       "    <tr>\n",
       "      <th>87</th>\n",
       "      <td>87</td>\n",
       "      <td>127</td>\n",
       "      <td>R2224WFTZSR</td>\n",
       "      <td>10.0</td>\n",
       "      <td>/systems/Intel-R2224WFTZSR</td>\n",
       "      <td>2.0</td>\n",
       "      <td>BB</td>\n",
       "      <td>13</td>\n",
       "      <td>1</td>\n",
       "      <td>1</td>\n",
       "      <td>1.000000</td>\n",
       "      <td>10</td>\n",
       "      <td>80.461538</td>\n",
       "    </tr>\n",
       "    <tr>\n",
       "      <th>88</th>\n",
       "      <td>88</td>\n",
       "      <td>128</td>\n",
       "      <td>RS500A-E9-RS4</td>\n",
       "      <td>8.0</td>\n",
       "      <td>/systems/RS500A-E9-RS4</td>\n",
       "      <td>2.0</td>\n",
       "      <td>BB</td>\n",
       "      <td>117</td>\n",
       "      <td>11</td>\n",
       "      <td>14</td>\n",
       "      <td>19.000000</td>\n",
       "      <td>85</td>\n",
       "      <td>88.733211</td>\n",
       "    </tr>\n",
       "  </tbody>\n",
       "</table>\n",
       "<p>76 rows × 13 columns</p>\n",
       "</div>"
      ],
      "text/plain": [
       "    Unnamed: 0  index  ... Users  Weighted_Avg_Time_on_Page\n",
       "0            0      0  ...    80                 175.812500\n",
       "1            1      2  ...   142                 141.908514\n",
       "2            2      3  ...     5                  10.800000\n",
       "3            3      5  ...    87                  78.643564\n",
       "4            4      6  ...     1                   0.000000\n",
       "..         ...    ...  ...   ...                        ...\n",
       "84          84    123  ...     5                  24.333333\n",
       "85          85    124  ...     1                  30.000000\n",
       "86          86    125  ...     5                   0.000000\n",
       "87          87    127  ...    10                  80.461538\n",
       "88          88    128  ...    85                  88.733211\n",
       "\n",
       "[76 rows x 13 columns]"
      ]
     },
     "execution_count": 7,
     "metadata": {},
     "output_type": "execute_result"
    }
   ],
   "source": [
    "df_train"
   ]
  },
  {
   "cell_type": "code",
   "execution_count": null,
   "metadata": {
    "id": "oLPAUiErJ4U3"
   },
   "outputs": [],
   "source": [
    "expr = \"\"\"Qty_Sold ~ Page_Views\"\"\""
   ]
  },
  {
   "cell_type": "code",
   "execution_count": null,
   "metadata": {
    "id": "sWCiG_fFKEz7"
   },
   "outputs": [],
   "source": [
    "y_train, X_train = dmatrices(expr, df_train, return_type='dataframe')\n",
    "y_test, X_test = dmatrices(expr, df_test, return_type='dataframe')"
   ]
  },
  {
   "cell_type": "code",
   "execution_count": null,
   "metadata": {
    "id": "1LEN6FeHMT-2"
   },
   "outputs": [],
   "source": [
    "poisson_training_results = sm.GLM(y_train, X_train, family=sm.families.Poisson()).fit()"
   ]
  },
  {
   "cell_type": "code",
   "execution_count": null,
   "metadata": {
    "colab": {
     "base_uri": "https://localhost:8080/"
    },
    "id": "8bvA-MZHMXg4",
    "outputId": "ddcf2e10-28bf-4b23-9643-3099ddc4021a"
   },
   "outputs": [
    {
     "name": "stdout",
     "output_type": "stream",
     "text": [
      "                 Generalized Linear Model Regression Results                  \n",
      "==============================================================================\n",
      "Dep. Variable:               Qty_Sold   No. Observations:                   76\n",
      "Model:                            GLM   Df Residuals:                       74\n",
      "Model Family:                 Poisson   Df Model:                            1\n",
      "Link Function:                    log   Scale:                          1.0000\n",
      "Method:                          IRLS   Log-Likelihood:                -879.19\n",
      "Date:                Sat, 23 Oct 2021   Deviance:                       1486.2\n",
      "Time:                        01:57:07   Pearson chi2:                 2.73e+03\n",
      "No. Iterations:                     5                                         \n",
      "Covariance Type:            nonrobust                                         \n",
      "==============================================================================\n",
      "                 coef    std err          z      P>|z|      [0.025      0.975]\n",
      "------------------------------------------------------------------------------\n",
      "Intercept      2.4807      0.037     66.970      0.000       2.408       2.553\n",
      "Page_Views     0.0005      0.000      1.700      0.089   -7.94e-05       0.001\n",
      "==============================================================================\n"
     ]
    }
   ],
   "source": [
    "print(poisson_training_results.summary())"
   ]
  },
  {
   "cell_type": "markdown",
   "metadata": {
    "id": "j93wqorBPmNG"
   },
   "source": [
    "Predicted values being close to their true values results in a small deviance. Using significance level of 0.05 and DF of 74, the Pearson Chi^2 = 95.1 according to the Chi-Squared table. This value is much smaller than what we have in the summary table above (2730). A high deviance and Pearson Chi2 results in a model that is not robust. "
   ]
  },
  {
   "cell_type": "code",
   "execution_count": null,
   "metadata": {
    "id": "VAlk8sDlMkf6"
   },
   "outputs": [],
   "source": [
    "poisson_predictions = poisson_training_results.get_prediction(X_test)\n",
    "predictions_summary_frame = poisson_predictions.summary_frame()"
   ]
  },
  {
   "cell_type": "code",
   "execution_count": null,
   "metadata": {
    "colab": {
     "base_uri": "https://localhost:8080/",
     "height": 417
    },
    "id": "4SLjIZ7YMv9m",
    "outputId": "967bc5d9-56cf-4aa1-d12e-a2eba9c51c24"
   },
   "outputs": [
    {
     "data": {
      "image/png": "[encoded data removed]",
      "text/plain": [
       "<Figure size 576x432 with 1 Axes>"
      ]
     },
     "metadata": {
      "needs_background": "light"
     },
     "output_type": "display_data"
    }
   ],
   "source": [
    "predicted_counts=predictions_summary_frame['mean']\n",
    "actual_counts = y_test['Qty_Sold']\n",
    "fig = plt.figure(figsize=(8, 6))\n",
    "fig.suptitle('Predicted versus actual Qty Sold')\n",
    "predicted, = plt.plot(X_test.index, predicted_counts, 'go-', label='Predicted counts')\n",
    "actual, = plt.plot(X_test.index, actual_counts, 'ro-', label='Actual counts')\n",
    "plt.legend(handles=[predicted, actual])\n",
    "plt.show()\n",
    "#fig.savefig('Predicted versus actual Qty Sold.png', bbox_inches='tight')"
   ]
  },
  {
   "cell_type": "markdown",
   "metadata": {
    "id": "foxs2QyoOlJn"
   },
   "source": [
    "The predictions don't seem to be in line with its actual value"
   ]
  },
  {
   "cell_type": "code",
   "execution_count": null,
   "metadata": {
    "colab": {
     "base_uri": "https://localhost:8080/",
     "height": 294
    },
    "id": "H-ioG9c1M-5W",
    "outputId": "b0ec9238-5e26-482d-ac22-7ae1e7208547"
   },
   "outputs": [
    {
     "data": {
      "text/plain": [
       "<Figure size 432x288 with 0 Axes>"
      ]
     },
     "metadata": {},
     "output_type": "display_data"
    },
    {
     "data": {
      "image/png": "[encoded data removed]",
      "text/plain": [
       "<Figure size 324x252 with 1 Axes>"
      ]
     },
     "metadata": {
      "needs_background": "light"
     },
     "output_type": "display_data"
    }
   ],
   "source": [
    "plt.clf()\n",
    "fig = plt.figure(figsize=(4.5, 3.5))\n",
    "fig.suptitle('Scatter plot of Actual versus Predicted counts')\n",
    "plt.scatter(x=predicted_counts, y=actual_counts)\n",
    "plt.xlim(-0.5, 16)\n",
    "plt.xlabel('Predicted counts')\n",
    "plt.ylabel('Actual counts')\n",
    "plt.show()\n",
    "#fig.savefig('Scatter plot of Actual versus Predicted counts.png', bbox_inches='tight')"
   ]
  },
  {
   "cell_type": "markdown",
   "metadata": {
    "id": "aCtJ2wNrOwFI"
   },
   "source": [
    "A good fit means we should see a straight linear line. However, in this plot it is quite randomly scattered"
   ]
  },
  {
   "cell_type": "markdown",
   "metadata": {
    "id": "2VlQtcvaOKbr"
   },
   "source": [
    "##Linear Regression"
   ]
  },
  {
   "cell_type": "code",
   "execution_count": null,
   "metadata": {
    "id": "z0i6uE-iOAUS"
   },
   "outputs": [],
   "source": [
    "X = data[['Page_Views']]\n",
    "Y = data[['Qty_Sold']]"
   ]
  },
  {
   "cell_type": "code",
   "execution_count": null,
   "metadata": {
    "id": "o3sD35exN7j1"
   },
   "outputs": [],
   "source": [
    "trainX, testX, trainY, testY = train_test_split(np.array(X), np.array(Y), test_size=0.2)"
   ]
  },
  {
   "cell_type": "code",
   "execution_count": null,
   "metadata": {
    "id": "fB6RStG9JkyJ"
   },
   "outputs": [],
   "source": [
    "linReg = linear_model.LinearRegression()"
   ]
  },
  {
   "cell_type": "code",
   "execution_count": null,
   "metadata": {
    "colab": {
     "base_uri": "https://localhost:8080/"
    },
    "id": "yrfYdFZCJqVQ",
    "outputId": "b3539780-eea8-47f2-80e6-739a024af43d"
   },
   "outputs": [
    {
     "data": {
      "text/plain": [
       "LinearRegression(copy_X=True, fit_intercept=True, n_jobs=None, normalize=False)"
      ]
     },
     "execution_count": 18,
     "metadata": {},
     "output_type": "execute_result"
    }
   ],
   "source": [
    "linReg.fit(trainX, trainY)"
   ]
  },
  {
   "cell_type": "code",
   "execution_count": null,
   "metadata": {
    "id": "2zKKIcAZKk1_"
   },
   "outputs": [],
   "source": [
    "predYRm = linReg.predict(testX)"
   ]
  },
  {
   "cell_type": "code",
   "execution_count": null,
   "metadata": {
    "colab": {
     "base_uri": "https://localhost:8080/"
    },
    "id": "rXU2msNEKqed",
    "outputId": "141b8bbc-5225-451e-dfc9-33242fdf2cbc"
   },
   "outputs": [
    {
     "name": "stdout",
     "output_type": "stream",
     "text": [
      "Mean squared error 108.13793314730299\n",
      "Mean absolute error 9.755836357363933\n",
      "Coefficient of determination: -0.06\n"
     ]
    }
   ],
   "source": [
    "print('Mean squared error', mean_squared_error(testY, predYRm))\n",
    "print('Mean absolute error', mean_absolute_error(testY, predYRm))\n",
    "print('Coefficient of determination: %.2f' % r2_score(testX, predYRm))"
   ]
  },
  {
   "cell_type": "markdown",
   "metadata": {
    "id": "6WSir2T0PdAp"
   },
   "source": [
    "High MSE and MAE, negative R-Square value. Not a good model for prediction.\n"
   ]
  },
  {
   "cell_type": "code",
   "execution_count": null,
   "metadata": {
    "colab": {
     "base_uri": "https://localhost:8080/",
     "height": 285
    },
    "id": "0pdKZrXFKw4F",
    "outputId": "7892ea5c-8e3c-4a01-e660-fcc12fd804b6"
   },
   "outputs": [
    {
     "data": {
      "image/png": "[encoded data removed]",
      "text/plain": [
       "<Figure size 648x252 with 2 Axes>"
      ]
     },
     "metadata": {
      "needs_background": "light"
     },
     "output_type": "display_data"
    },
    {
     "data": {
      "text/plain": [
       "<Figure size 432x288 with 0 Axes>"
      ]
     },
     "metadata": {},
     "output_type": "display_data"
    }
   ],
   "source": [
    "plt.figure(figsize=(9, 3.5))\n",
    "plt.subplot(1,2,1)\n",
    "plt.scatter(trainX, trainY)\n",
    "plt.plot(trainX,linReg.predict(trainX),color='red',linewidth=3.0)\n",
    "plt.xlabel(\"Page Views\")\n",
    "plt.ylabel(\"Quantity Sold\")\n",
    "plt.title('Train Data')\n",
    "\n",
    "plt.subplot(1,2,2)\n",
    "plt.scatter(testX, testY)\n",
    "plt.plot(testX,linReg.predict(testX),color='red',linewidth=3.0)\n",
    "plt.xlabel(\"Page Views\")\n",
    "plt.ylabel(\"Quantity Sold\")\n",
    "plt.title('Test Data')\n",
    "plt.show()\n",
    "#plt.savefig('Linear Regression Aggregated Data.png', bbox_inches='tight')"
   ]
  },
  {
   "cell_type": "code",
   "execution_count": null,
   "metadata": {
    "id": "As_n9BnsPPFF"
   },
   "outputs": [],
   "source": [
    "number_splits = 5\n",
    "kFold = model_selection.KFold(n_splits=number_splits, shuffle=True)"
   ]
  },
  {
   "cell_type": "code",
   "execution_count": null,
   "metadata": {
    "colab": {
     "base_uri": "https://localhost:8080/"
    },
    "id": "9uEmXlibPf1F",
    "outputId": "0a25cb4b-f397-46d9-8784-807f32d337e4"
   },
   "outputs": [
    {
     "name": "stdout",
     "output_type": "stream",
     "text": [
      "Mean squared error 384.31879472389323\n",
      "Mean absolute error 13.520465147013962\n",
      "Coefficient of determination: -0.02\n",
      "\n",
      "Mean squared error 352.3273100324143\n",
      "Mean absolute error 12.930498239713456\n",
      "Coefficient of determination: -0.06\n",
      "\n",
      "Mean squared error 89.74381840798749\n",
      "Mean absolute error 8.67017122933982\n",
      "Coefficient of determination: -0.66\n",
      "\n",
      "Mean squared error 1035.1111566004738\n",
      "Mean absolute error 13.99610130347336\n",
      "Coefficient of determination: -0.04\n",
      "\n",
      "Mean squared error 258.3139192540864\n",
      "Mean absolute error 11.758166957340816\n",
      "Coefficient of determination: -0.01\n",
      "\n"
     ]
    }
   ],
   "source": [
    "for trainIndex, validIndex in kFold.split(X):\n",
    "  trainX = np.array(X.loc[trainIndex])\n",
    "  trainY = np.array(Y.loc[trainIndex])\n",
    "  validX = np.array(X.loc[validIndex])\n",
    "  validY = np.array(Y.loc[validIndex])\n",
    "  \n",
    "  fit = linReg.fit(trainX, trainY)\n",
    "  pred = linReg.predict(validX)\n",
    "  print('Mean squared error', mean_squared_error(validY, pred))\n",
    "  print('Mean absolute error', mean_absolute_error(validY, pred))\n",
    "  print('Coefficient of determination: %.2f' % r2_score(validY, pred))\n",
    "  print()"
   ]
  },
  {
   "cell_type": "markdown",
   "metadata": {
    "id": "DEGIJ5EBRbZb"
   },
   "source": [
    "## Investigate if there is any relationship between quantity sold and other metrics\n"
   ]
  },
  {
   "cell_type": "code",
   "execution_count": null,
   "metadata": {
    "colab": {
     "base_uri": "https://localhost:8080/",
     "height": 285
    },
    "id": "Mf3NjEJv_ujO",
    "outputId": "89c71d81-0af7-4579-91e7-1e2e717f2262"
   },
   "outputs": [
    {
     "data": {
      "text/plain": [
       "Text(0.5, 1.0, 'Organic Searches Vs Quantity Sold')"
      ]
     },
     "execution_count": 24,
     "metadata": {},
     "output_type": "execute_result"
    },
    {
     "data": {
      "image/png": "[encoded data removed]",
      "text/plain": [
       "<Figure size 324x252 with 1 Axes>"
      ]
     },
     "metadata": {
      "needs_background": "light"
     },
     "output_type": "display_data"
    }
   ],
   "source": [
    "#Organic Searches vs Quantity sold\n",
    "plt.figure(figsize=(4.5, 3.5))\n",
    "plt.plot(data['Organic_Searches'], data['Qty_Sold'], 'bo')\n",
    "plt.xlabel('Organic Searches')\n",
    "plt.ylabel('Quantity Sold')\n",
    "plt.title('Organic Searches Vs Quantity Sold')\n",
    "#plt.savefig('Organic Searches Vs Quantity Sold.png', bbox_inches='tight')"
   ]
  },
  {
   "cell_type": "code",
   "execution_count": null,
   "metadata": {
    "colab": {
     "base_uri": "https://localhost:8080/",
     "height": 285
    },
    "id": "6NoOavRiAwEz",
    "outputId": "f1d0c546-c46b-46ff-df78-92913b450f34"
   },
   "outputs": [
    {
     "data": {
      "text/plain": [
       "Text(0.5, 1.0, 'New Users Vs Quantity Sold')"
      ]
     },
     "execution_count": 25,
     "metadata": {},
     "output_type": "execute_result"
    },
    {
     "data": {
      "image/png": "[encoded data removed]",
      "text/plain": [
       "<Figure size 324x252 with 1 Axes>"
      ]
     },
     "metadata": {
      "needs_background": "light"
     },
     "output_type": "display_data"
    }
   ],
   "source": [
    "#New Users vs Quantity sold\n",
    "plt.figure(figsize=(4.5, 3.5))\n",
    "plt.plot(data['New_Users'], data['Qty_Sold'], 'bo')\n",
    "plt.xlabel('New Users')\n",
    "plt.ylabel('Quantity Sold')\n",
    "plt.title('New Users Vs Quantity Sold')\n",
    "#plt.savefig('New Users Vs Quantity Sold.png', bbox_inches='tight')"
   ]
  },
  {
   "cell_type": "code",
   "execution_count": null,
   "metadata": {
    "colab": {
     "base_uri": "https://localhost:8080/",
     "height": 285
    },
    "id": "zWf_SLb-A75g",
    "outputId": "aeba73d6-cde7-4111-cbee-b3b7d64ddfa5"
   },
   "outputs": [
    {
     "data": {
      "text/plain": [
       "Text(0.5, 1.0, 'Number of Sessions per User Vs Quantity Sold')"
      ]
     },
     "execution_count": 26,
     "metadata": {},
     "output_type": "execute_result"
    },
    {
     "data": {
      "image/png": "[encoded data removed]",
      "text/plain": [
       "<Figure size 324x252 with 1 Axes>"
      ]
     },
     "metadata": {
      "needs_background": "light"
     },
     "output_type": "display_data"
    }
   ],
   "source": [
    "#Number of Sessions per User vs Quantity sold\n",
    "plt.figure(figsize=(4.5, 3.5))\n",
    "plt.plot(data['Number_of_Sessions_per_User'], data['Qty_Sold'], 'go')\n",
    "plt.xlabel('Number of Sessions per User')\n",
    "plt.ylabel('Quantity Sold')\n",
    "plt.title('Number of Sessions per User Vs Quantity Sold')\n",
    "#plt.savefig('Number of Sessions per User Vs Quantity Sold.png', bbox_inches='tight')"
   ]
  },
  {
   "cell_type": "code",
   "execution_count": null,
   "metadata": {
    "colab": {
     "base_uri": "https://localhost:8080/",
     "height": 285
    },
    "id": "de_m3h1qBB-e",
    "outputId": "7eb8c2f2-5528-44cf-87ce-e104a2c4b033"
   },
   "outputs": [
    {
     "data": {
      "text/plain": [
       "Text(0.5, 1.0, 'Users Vs Quantity Sold')"
      ]
     },
     "execution_count": 27,
     "metadata": {},
     "output_type": "execute_result"
    },
    {
     "data": {
      "image/png": "[encoded data removed]",
      "text/plain": [
       "<Figure size 324x252 with 1 Axes>"
      ]
     },
     "metadata": {
      "needs_background": "light"
     },
     "output_type": "display_data"
    }
   ],
   "source": [
    "#Users vs Qty Sold\n",
    "plt.figure(figsize=(4.5, 3.5))\n",
    "plt.plot(data['Users'], data['Qty_Sold'], 'yo')\n",
    "plt.xlabel('Users')\n",
    "plt.ylabel('Quantity Sold')\n",
    "plt.title('Users Vs Quantity Sold')\n",
    "#plt.savefig('Users Vs Quantity Sold.png', bbox_inches='tight')"
   ]
  },
  {
   "cell_type": "code",
   "execution_count": null,
   "metadata": {
    "colab": {
     "base_uri": "https://localhost:8080/",
     "height": 285
    },
    "id": "OWBwEOBXBQgf",
    "outputId": "0b19c4f5-ddac-4f86-ca50-2790d179850d"
   },
   "outputs": [
    {
     "data": {
      "text/plain": [
       "Text(0.5, 1.0, 'Avg. Time on Page Vs Quantity Sold')"
      ]
     },
     "execution_count": 28,
     "metadata": {},
     "output_type": "execute_result"
    },
    {
     "data": {
      "image/png": "[encoded data removed]",
      "text/plain": [
       "<Figure size 324x252 with 1 Axes>"
      ]
     },
     "metadata": {
      "needs_background": "light"
     },
     "output_type": "display_data"
    }
   ],
   "source": [
    "#Weighted Avg Time on Page vs Quantity Sold\n",
    "plt.figure(figsize=(4.5, 3.5))\n",
    "plt.plot(data['Weighted_Avg_Time_on_Page'], data['Qty_Sold'], 'mo')\n",
    "plt.xlabel('Avg Time on Page')\n",
    "plt.ylabel('Quantity Sold')\n",
    "plt.title('Avg. Time on Page Vs Quantity Sold')\n",
    "#plt.savefig('Avg. Time on Page Vs Quantity Sold.png', bbox_inches='tight')"
   ]
  },
  {
   "cell_type": "markdown",
   "metadata": {
    "id": "WRpuaL4jRk8P"
   },
   "source": [
    "## Include the other metrics into a Poisson model"
   ]
  },
  {
   "cell_type": "code",
   "execution_count": null,
   "metadata": {
    "id": "1xKIx4IbRkGk"
   },
   "outputs": [],
   "source": [
    "expr = \"\"\"Qty_Sold ~ Page_Views + Organic_Searches + New_Users + Number_of_Sessions_per_User + Users + Weighted_Avg_Time_on_Page\"\"\""
   ]
  },
  {
   "cell_type": "code",
   "execution_count": null,
   "metadata": {
    "colab": {
     "base_uri": "https://localhost:8080/"
    },
    "id": "rNfsfyQISg14",
    "outputId": "cc8e4452-d7e0-48dd-bb46-04427cf44135"
   },
   "outputs": [
    {
     "name": "stdout",
     "output_type": "stream",
     "text": [
      "Training data set length=76\n",
      "Testing data set length=14\n"
     ]
    }
   ],
   "source": [
    "np.random.seed(0) # set random seed for reproducibility\n",
    "mask = np.random.rand(len(data)) < 0.8\n",
    "df_train = data[mask]\n",
    "df_test = data[~mask]\n",
    "print('Training data set length='+str(len(df_train)))\n",
    "print('Testing data set length='+str(len(df_test)))"
   ]
  },
  {
   "cell_type": "code",
   "execution_count": null,
   "metadata": {
    "id": "9ri-DAwQR7Ht"
   },
   "outputs": [],
   "source": [
    "y_train, X_train = dmatrices(expr, df_train, return_type='dataframe')\n",
    "y_test, X_test = dmatrices(expr, df_test, return_type='dataframe')"
   ]
  },
  {
   "cell_type": "code",
   "execution_count": null,
   "metadata": {
    "id": "xGp6Y8wmR-mi"
   },
   "outputs": [],
   "source": [
    "poisson_training_results = sm.GLM(y_train, X_train, family=sm.families.Poisson()).fit()"
   ]
  },
  {
   "cell_type": "code",
   "execution_count": null,
   "metadata": {
    "colab": {
     "base_uri": "https://localhost:8080/"
    },
    "id": "sjASibYuSCbw",
    "outputId": "fbbb2861-8575-49b1-9190-453f2906a6b6"
   },
   "outputs": [
    {
     "name": "stdout",
     "output_type": "stream",
     "text": [
      "                 Generalized Linear Model Regression Results                  \n",
      "==============================================================================\n",
      "Dep. Variable:               Qty_Sold   No. Observations:                   76\n",
      "Model:                            GLM   Df Residuals:                       69\n",
      "Model Family:                 Poisson   Df Model:                            6\n",
      "Link Function:                    log   Scale:                          1.0000\n",
      "Method:                          IRLS   Log-Likelihood:                -751.89\n",
      "Date:                Sat, 23 Oct 2021   Deviance:                       1231.6\n",
      "Time:                        01:57:09   Pearson chi2:                 1.80e+03\n",
      "No. Iterations:                     5                                         \n",
      "Covariance Type:            nonrobust                                         \n",
      "===============================================================================================\n",
      "                                  coef    std err          z      P>|z|      [0.025      0.975]\n",
      "-----------------------------------------------------------------------------------------------\n",
      "Intercept                       2.1204      0.056     37.621      0.000       2.010       2.231\n",
      "Page_Views                      0.0205      0.004      5.641      0.000       0.013       0.028\n",
      "Organic_Searches                0.0054      0.012      0.456      0.648      -0.018       0.029\n",
      "New_Users                       0.0244      0.011      2.280      0.023       0.003       0.045\n",
      "Number_of_Sessions_per_User    -0.0159      0.011     -1.473      0.141      -0.037       0.005\n",
      "Users                          -0.0372      0.007     -5.639      0.000      -0.050      -0.024\n",
      "Weighted_Avg_Time_on_Page       0.0069      0.000     15.512      0.000       0.006       0.008\n",
      "===============================================================================================\n"
     ]
    }
   ],
   "source": [
    "print(poisson_training_results.summary())"
   ]
  },
  {
   "cell_type": "code",
   "execution_count": null,
   "metadata": {
    "id": "ZXH629_TSOEr"
   },
   "outputs": [],
   "source": [
    "poisson_predictions = poisson_training_results.get_prediction(X_test)\n",
    "predictions_summary_frame = poisson_predictions.summary_frame()"
   ]
  },
  {
   "cell_type": "code",
   "execution_count": null,
   "metadata": {
    "colab": {
     "base_uri": "https://localhost:8080/",
     "height": 417
    },
    "id": "3ME60MMTSROu",
    "outputId": "0c55a352-fd7a-4632-e944-308206a7e007"
   },
   "outputs": [
    {
     "data": {
      "image/png": "[encoded data removed]",
      "text/plain": [
       "<Figure size 576x432 with 1 Axes>"
      ]
     },
     "metadata": {
      "needs_background": "light"
     },
     "output_type": "display_data"
    }
   ],
   "source": [
    "predicted_counts=predictions_summary_frame['mean']\n",
    "actual_counts = y_test['Qty_Sold']\n",
    "fig = plt.figure(figsize=(8, 6))\n",
    "fig.suptitle('Predicted versus actual Qty Sold')\n",
    "predicted, = plt.plot(X_test.index, predicted_counts, 'go-', label='Predicted counts')\n",
    "actual, = plt.plot(X_test.index, actual_counts, 'ro-', label='Actual counts')\n",
    "plt.legend(handles=[predicted, actual])\n",
    "plt.ylim(-5,100)\n",
    "plt.show()\n",
    "#fig.savefig('Predicted versus actual Qty Sold.png', bbox_inches='tight')"
   ]
  },
  {
   "cell_type": "code",
   "execution_count": null,
   "metadata": {
    "colab": {
     "base_uri": "https://localhost:8080/",
     "height": 294
    },
    "id": "CAi42uh7SrF-",
    "outputId": "14198781-c616-4fdb-bba7-3c19d41ecb8c"
   },
   "outputs": [
    {
     "data": {
      "text/plain": [
       "<Figure size 432x288 with 0 Axes>"
      ]
     },
     "metadata": {},
     "output_type": "display_data"
    },
    {
     "data": {
      "image/png": "[encoded data removed]",
      "text/plain": [
       "<Figure size 324x252 with 1 Axes>"
      ]
     },
     "metadata": {
      "needs_background": "light"
     },
     "output_type": "display_data"
    }
   ],
   "source": [
    "plt.clf()\n",
    "fig = plt.figure(figsize=(4.5, 3.5))\n",
    "fig.suptitle('Scatter plot of Actual versus Predicted counts')\n",
    "plt.scatter(x=predicted_counts, y=actual_counts)\n",
    "plt.xlabel('Predicted counts')\n",
    "plt.ylabel('Actual counts')\n",
    "plt.xlim(-5,40)\n",
    "plt.show()\n",
    "#fig.savefig('Scatter plot of Actual versus Predicted counts.png', bbox_inches='tight')"
   ]
  }
 ],
 "metadata": {
  "colab": {
   "collapsed_sections": [],
   "name": "Data Modelling - Aggregated Dataset.ipynb",
   "provenance": []
  },
  "kernelspec": {
   "display_name": "Python 3",
   "language": "python",
   "name": "python3"
  },
  "language_info": {
   "codemirror_mode": {
    "name": "ipython",
    "version": 3
   },
   "file_extension": ".py",
   "mimetype": "text/x-python",
   "name": "python",
   "nbconvert_exporter": "python",
   "pygments_lexer": "ipython3",
   "version": "3.8.8"
  }
 },
 "nbformat": 4,
 "nbformat_minor": 1
}
