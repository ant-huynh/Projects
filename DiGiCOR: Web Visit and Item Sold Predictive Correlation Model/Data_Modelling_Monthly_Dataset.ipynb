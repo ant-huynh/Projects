{
  "nbformat": 4,
  "nbformat_minor": 0,
  "metadata": {
    "colab": {
      "name": "Data Modelling - Monthly Dataset.ipynb",
      "provenance": [],
      "collapsed_sections": []
    },
    "kernelspec": {
      "name": "python3",
      "display_name": "Python 3"
    },
    "language_info": {
      "name": "python"
    }
  },
  "cells": [
    {
      "cell_type": "code",
      "metadata": {
        "id": "6gsuLLpi7-ci"
      },
      "source": [
        "#Dataframe and graph plotting\n",
        "import pandas as pd\n",
        "import matplotlib.pyplot as plt\n",
        "import seaborn as sns\n",
        "import numpy as np\n",
        "from textwrap import wrap\n",
        "\n",
        "#SK learn and metrics\n",
        "import sklearn as sk\n",
        "from sklearn.model_selection import train_test_split\n",
        "from sklearn import linear_model\n",
        "from sklearn.metrics import mean_squared_error\n",
        "from sklearn.metrics import mean_absolute_error\n",
        "from sklearn.metrics import r2_score\n",
        "from sklearn import model_selection\n",
        "from patsy import dmatrices\n",
        "import statsmodels.api as sm\n"
      ],
      "execution_count": null,
      "outputs": []
    },
    {
      "cell_type": "markdown",
      "metadata": {
        "id": "zyb4HomI91vS"
      },
      "source": [
        "# Import Dataset\n",
        "\n",
        "First we will upload the data set and read it using `Pandas`."
      ]
    },
    {
      "cell_type": "code",
      "metadata": {
        "colab": {
          "resources": {
            "http://localhost:8080/nbextensions/google.colab/files.js": {
              "data": "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",
              "ok": true,
              "headers": [
                [
                  "content-type",
                  "application/javascript"
                ]
              ],
              "status": 200,
              "status_text": ""
            }
          },
          "base_uri": "https://localhost:8080/",
          "height": 72
        },
        "id": "ARFqdKKO8InE",
        "outputId": "fc7032f4-40a5-4ba1-9b83-041d435abc4e"
      },
      "source": [
        "from google.colab import files \n",
        "uploaded = files.upload()\n",
        "\n",
        "# please upload 'webdata_qtySold_byMonth.csv'"
      ],
      "execution_count": null,
      "outputs": [
        {
          "output_type": "display_data",
          "data": {
            "text/html": [
              "\n",
              "     <input type=\"file\" id=\"files-ad11ec4c-9322-4e2f-8b54-42eed54100a5\" name=\"files[]\" multiple disabled\n",
              "        style=\"border:none\" />\n",
              "     <output id=\"result-ad11ec4c-9322-4e2f-8b54-42eed54100a5\">\n",
              "      Upload widget is only available when the cell has been executed in the\n",
              "      current browser session. Please rerun this cell to enable.\n",
              "      </output>\n",
              "      <script src=\"/nbextensions/google.colab/files.js\"></script> "
            ],
            "text/plain": [
              "<IPython.core.display.HTML object>"
            ]
          },
          "metadata": {}
        },
        {
          "output_type": "stream",
          "name": "stdout",
          "text": [
            "Saving webdata_qtySold_byMonth.csv to webdata_qtySold_byMonth.csv\n"
          ]
        }
      ]
    },
    {
      "cell_type": "code",
      "metadata": {
        "colab": {
          "base_uri": "https://localhost:8080/",
          "height": 745
        },
        "id": "GCXOhGpF9mQA",
        "outputId": "19c0ca5f-b8d8-49b0-b02a-9346c833f795"
      },
      "source": [
        "data = pd.read_csv('webdata_qtySold_byMonth.csv')\n",
        "data"
      ],
      "execution_count": null,
      "outputs": [
        {
          "output_type": "execute_result",
          "data": {
            "text/html": [
              "<div>\n",
              "<style scoped>\n",
              "    .dataframe tbody tr th:only-of-type {\n",
              "        vertical-align: middle;\n",
              "    }\n",
              "\n",
              "    .dataframe tbody tr th {\n",
              "        vertical-align: top;\n",
              "    }\n",
              "\n",
              "    .dataframe thead th {\n",
              "        text-align: right;\n",
              "    }\n",
              "</style>\n",
              "<table border=\"1\" class=\"dataframe\">\n",
              "  <thead>\n",
              "    <tr style=\"text-align: right;\">\n",
              "      <th></th>\n",
              "      <th>Unnamed: 0</th>\n",
              "      <th>Date</th>\n",
              "      <th>Item Code</th>\n",
              "      <th>Qty Sold</th>\n",
              "      <th>Page</th>\n",
              "      <th>bom_type ID</th>\n",
              "      <th>BOM Type</th>\n",
              "      <th>Page Views</th>\n",
              "      <th>Organic Searches</th>\n",
              "      <th>New Users</th>\n",
              "      <th>Number of Sessions per User</th>\n",
              "      <th>Users</th>\n",
              "      <th>Weighted Avg Time on Page</th>\n",
              "      <th>Page Views_1M_ago</th>\n",
              "      <th>Organic Searches_1M_ago</th>\n",
              "      <th>New Users_1M_ago</th>\n",
              "      <th>Number of Sessions per User_1M_ago</th>\n",
              "      <th>Users_1M_ago</th>\n",
              "      <th>Weighted Avg Time on Page_1M_ago</th>\n",
              "      <th>Page Views_2M_ago</th>\n",
              "      <th>Organic Searches_2M_ago</th>\n",
              "      <th>New Users_2M_ago</th>\n",
              "      <th>Number of Sessions per User_2M_ago</th>\n",
              "      <th>Users_2M_ago</th>\n",
              "      <th>Weighted Avg Time on Page_2M_ago</th>\n",
              "      <th>Page Views_Current_and_Past_2_Months</th>\n",
              "      <th>Organic Searches_Current_and_Past_2_Months</th>\n",
              "      <th>New Users_Current_and_Past_2_Months</th>\n",
              "      <th>Number of Sessions per User_Current_and_Past_2_Months</th>\n",
              "      <th>Users_Current_and_Past_2_Months</th>\n",
              "      <th>Weighted Avg Time on Page_Current_and_Past_2_Months</th>\n",
              "    </tr>\n",
              "  </thead>\n",
              "  <tbody>\n",
              "    <tr>\n",
              "      <th>0</th>\n",
              "      <td>0</td>\n",
              "      <td>2019-09-01</td>\n",
              "      <td>1013S-MTR</td>\n",
              "      <td>0.0</td>\n",
              "      <td>/systems/AS-1013S-MTR</td>\n",
              "      <td>2</td>\n",
              "      <td>BB</td>\n",
              "      <td>1.0</td>\n",
              "      <td>1.0</td>\n",
              "      <td>1.0</td>\n",
              "      <td>1.0</td>\n",
              "      <td>1.0</td>\n",
              "      <td>0.000000</td>\n",
              "      <td>0.0</td>\n",
              "      <td>0.0</td>\n",
              "      <td>0.0</td>\n",
              "      <td>0.0</td>\n",
              "      <td>0.0</td>\n",
              "      <td>0.0</td>\n",
              "      <td>0.0</td>\n",
              "      <td>0.0</td>\n",
              "      <td>0.0</td>\n",
              "      <td>0.0</td>\n",
              "      <td>0.0</td>\n",
              "      <td>0.0</td>\n",
              "      <td>1.0</td>\n",
              "      <td>1.0</td>\n",
              "      <td>1.0</td>\n",
              "      <td>1.0</td>\n",
              "      <td>1.0</td>\n",
              "      <td>0.000000</td>\n",
              "    </tr>\n",
              "    <tr>\n",
              "      <th>1</th>\n",
              "      <td>1</td>\n",
              "      <td>2019-10-01</td>\n",
              "      <td>1013S-MTR</td>\n",
              "      <td>0.0</td>\n",
              "      <td>/systems/AS-1013S-MTR</td>\n",
              "      <td>2</td>\n",
              "      <td>BB</td>\n",
              "      <td>0.0</td>\n",
              "      <td>0.0</td>\n",
              "      <td>0.0</td>\n",
              "      <td>0.0</td>\n",
              "      <td>0.0</td>\n",
              "      <td>0.000000</td>\n",
              "      <td>1.0</td>\n",
              "      <td>1.0</td>\n",
              "      <td>1.0</td>\n",
              "      <td>1.0</td>\n",
              "      <td>1.0</td>\n",
              "      <td>0.0</td>\n",
              "      <td>0.0</td>\n",
              "      <td>0.0</td>\n",
              "      <td>0.0</td>\n",
              "      <td>0.0</td>\n",
              "      <td>0.0</td>\n",
              "      <td>0.0</td>\n",
              "      <td>1.0</td>\n",
              "      <td>1.0</td>\n",
              "      <td>1.0</td>\n",
              "      <td>1.0</td>\n",
              "      <td>1.0</td>\n",
              "      <td>0.000000</td>\n",
              "    </tr>\n",
              "    <tr>\n",
              "      <th>2</th>\n",
              "      <td>2</td>\n",
              "      <td>2019-11-01</td>\n",
              "      <td>1013S-MTR</td>\n",
              "      <td>0.0</td>\n",
              "      <td>/systems/AS-1013S-MTR</td>\n",
              "      <td>2</td>\n",
              "      <td>BB</td>\n",
              "      <td>1.0</td>\n",
              "      <td>1.0</td>\n",
              "      <td>1.0</td>\n",
              "      <td>1.0</td>\n",
              "      <td>1.0</td>\n",
              "      <td>0.000000</td>\n",
              "      <td>0.0</td>\n",
              "      <td>0.0</td>\n",
              "      <td>0.0</td>\n",
              "      <td>0.0</td>\n",
              "      <td>0.0</td>\n",
              "      <td>0.0</td>\n",
              "      <td>1.0</td>\n",
              "      <td>1.0</td>\n",
              "      <td>1.0</td>\n",
              "      <td>1.0</td>\n",
              "      <td>1.0</td>\n",
              "      <td>0.0</td>\n",
              "      <td>2.0</td>\n",
              "      <td>2.0</td>\n",
              "      <td>2.0</td>\n",
              "      <td>2.0</td>\n",
              "      <td>2.0</td>\n",
              "      <td>0.000000</td>\n",
              "    </tr>\n",
              "    <tr>\n",
              "      <th>3</th>\n",
              "      <td>3</td>\n",
              "      <td>2019-12-01</td>\n",
              "      <td>1013S-MTR</td>\n",
              "      <td>0.0</td>\n",
              "      <td>/systems/AS-1013S-MTR</td>\n",
              "      <td>2</td>\n",
              "      <td>BB</td>\n",
              "      <td>1.0</td>\n",
              "      <td>1.0</td>\n",
              "      <td>1.0</td>\n",
              "      <td>1.0</td>\n",
              "      <td>1.0</td>\n",
              "      <td>216.000000</td>\n",
              "      <td>1.0</td>\n",
              "      <td>1.0</td>\n",
              "      <td>1.0</td>\n",
              "      <td>1.0</td>\n",
              "      <td>1.0</td>\n",
              "      <td>0.0</td>\n",
              "      <td>0.0</td>\n",
              "      <td>0.0</td>\n",
              "      <td>0.0</td>\n",
              "      <td>0.0</td>\n",
              "      <td>0.0</td>\n",
              "      <td>0.0</td>\n",
              "      <td>2.0</td>\n",
              "      <td>2.0</td>\n",
              "      <td>2.0</td>\n",
              "      <td>2.0</td>\n",
              "      <td>2.0</td>\n",
              "      <td>216.000000</td>\n",
              "    </tr>\n",
              "    <tr>\n",
              "      <th>4</th>\n",
              "      <td>4</td>\n",
              "      <td>2020-01-01</td>\n",
              "      <td>1013S-MTR</td>\n",
              "      <td>0.0</td>\n",
              "      <td>/systems/AS-1013S-MTR</td>\n",
              "      <td>2</td>\n",
              "      <td>BB</td>\n",
              "      <td>7.0</td>\n",
              "      <td>1.0</td>\n",
              "      <td>2.0</td>\n",
              "      <td>2.0</td>\n",
              "      <td>5.0</td>\n",
              "      <td>153.285714</td>\n",
              "      <td>1.0</td>\n",
              "      <td>1.0</td>\n",
              "      <td>1.0</td>\n",
              "      <td>1.0</td>\n",
              "      <td>1.0</td>\n",
              "      <td>216.0</td>\n",
              "      <td>1.0</td>\n",
              "      <td>1.0</td>\n",
              "      <td>1.0</td>\n",
              "      <td>1.0</td>\n",
              "      <td>1.0</td>\n",
              "      <td>0.0</td>\n",
              "      <td>9.0</td>\n",
              "      <td>3.0</td>\n",
              "      <td>4.0</td>\n",
              "      <td>4.0</td>\n",
              "      <td>7.0</td>\n",
              "      <td>369.285714</td>\n",
              "    </tr>\n",
              "    <tr>\n",
              "      <th>...</th>\n",
              "      <td>...</td>\n",
              "      <td>...</td>\n",
              "      <td>...</td>\n",
              "      <td>...</td>\n",
              "      <td>...</td>\n",
              "      <td>...</td>\n",
              "      <td>...</td>\n",
              "      <td>...</td>\n",
              "      <td>...</td>\n",
              "      <td>...</td>\n",
              "      <td>...</td>\n",
              "      <td>...</td>\n",
              "      <td>...</td>\n",
              "      <td>...</td>\n",
              "      <td>...</td>\n",
              "      <td>...</td>\n",
              "      <td>...</td>\n",
              "      <td>...</td>\n",
              "      <td>...</td>\n",
              "      <td>...</td>\n",
              "      <td>...</td>\n",
              "      <td>...</td>\n",
              "      <td>...</td>\n",
              "      <td>...</td>\n",
              "      <td>...</td>\n",
              "      <td>...</td>\n",
              "      <td>...</td>\n",
              "      <td>...</td>\n",
              "      <td>...</td>\n",
              "      <td>...</td>\n",
              "      <td>...</td>\n",
              "    </tr>\n",
              "    <tr>\n",
              "      <th>1891</th>\n",
              "      <td>1891</td>\n",
              "      <td>2021-04-01</td>\n",
              "      <td>SBI-4129P-C2N</td>\n",
              "      <td>0.0</td>\n",
              "      <td>/systems/SBI-4129P-C2N</td>\n",
              "      <td>5</td>\n",
              "      <td>Node</td>\n",
              "      <td>0.0</td>\n",
              "      <td>0.0</td>\n",
              "      <td>0.0</td>\n",
              "      <td>0.0</td>\n",
              "      <td>0.0</td>\n",
              "      <td>0.000000</td>\n",
              "      <td>0.0</td>\n",
              "      <td>0.0</td>\n",
              "      <td>0.0</td>\n",
              "      <td>0.0</td>\n",
              "      <td>0.0</td>\n",
              "      <td>0.0</td>\n",
              "      <td>0.0</td>\n",
              "      <td>0.0</td>\n",
              "      <td>0.0</td>\n",
              "      <td>0.0</td>\n",
              "      <td>0.0</td>\n",
              "      <td>0.0</td>\n",
              "      <td>0.0</td>\n",
              "      <td>0.0</td>\n",
              "      <td>0.0</td>\n",
              "      <td>0.0</td>\n",
              "      <td>0.0</td>\n",
              "      <td>0.000000</td>\n",
              "    </tr>\n",
              "    <tr>\n",
              "      <th>1892</th>\n",
              "      <td>1892</td>\n",
              "      <td>2021-05-01</td>\n",
              "      <td>SBI-4129P-C2N</td>\n",
              "      <td>0.0</td>\n",
              "      <td>/systems/SBI-4129P-C2N</td>\n",
              "      <td>5</td>\n",
              "      <td>Node</td>\n",
              "      <td>0.0</td>\n",
              "      <td>0.0</td>\n",
              "      <td>0.0</td>\n",
              "      <td>0.0</td>\n",
              "      <td>0.0</td>\n",
              "      <td>0.000000</td>\n",
              "      <td>0.0</td>\n",
              "      <td>0.0</td>\n",
              "      <td>0.0</td>\n",
              "      <td>0.0</td>\n",
              "      <td>0.0</td>\n",
              "      <td>0.0</td>\n",
              "      <td>0.0</td>\n",
              "      <td>0.0</td>\n",
              "      <td>0.0</td>\n",
              "      <td>0.0</td>\n",
              "      <td>0.0</td>\n",
              "      <td>0.0</td>\n",
              "      <td>0.0</td>\n",
              "      <td>0.0</td>\n",
              "      <td>0.0</td>\n",
              "      <td>0.0</td>\n",
              "      <td>0.0</td>\n",
              "      <td>0.000000</td>\n",
              "    </tr>\n",
              "    <tr>\n",
              "      <th>1893</th>\n",
              "      <td>1893</td>\n",
              "      <td>2021-06-01</td>\n",
              "      <td>SBI-4129P-C2N</td>\n",
              "      <td>0.0</td>\n",
              "      <td>/systems/SBI-4129P-C2N</td>\n",
              "      <td>5</td>\n",
              "      <td>Node</td>\n",
              "      <td>0.0</td>\n",
              "      <td>0.0</td>\n",
              "      <td>0.0</td>\n",
              "      <td>0.0</td>\n",
              "      <td>0.0</td>\n",
              "      <td>0.000000</td>\n",
              "      <td>0.0</td>\n",
              "      <td>0.0</td>\n",
              "      <td>0.0</td>\n",
              "      <td>0.0</td>\n",
              "      <td>0.0</td>\n",
              "      <td>0.0</td>\n",
              "      <td>0.0</td>\n",
              "      <td>0.0</td>\n",
              "      <td>0.0</td>\n",
              "      <td>0.0</td>\n",
              "      <td>0.0</td>\n",
              "      <td>0.0</td>\n",
              "      <td>0.0</td>\n",
              "      <td>0.0</td>\n",
              "      <td>0.0</td>\n",
              "      <td>0.0</td>\n",
              "      <td>0.0</td>\n",
              "      <td>0.000000</td>\n",
              "    </tr>\n",
              "    <tr>\n",
              "      <th>1894</th>\n",
              "      <td>1894</td>\n",
              "      <td>2021-07-01</td>\n",
              "      <td>SBI-4129P-C2N</td>\n",
              "      <td>0.0</td>\n",
              "      <td>/systems/SBI-4129P-C2N</td>\n",
              "      <td>5</td>\n",
              "      <td>Node</td>\n",
              "      <td>0.0</td>\n",
              "      <td>0.0</td>\n",
              "      <td>0.0</td>\n",
              "      <td>0.0</td>\n",
              "      <td>0.0</td>\n",
              "      <td>0.000000</td>\n",
              "      <td>0.0</td>\n",
              "      <td>0.0</td>\n",
              "      <td>0.0</td>\n",
              "      <td>0.0</td>\n",
              "      <td>0.0</td>\n",
              "      <td>0.0</td>\n",
              "      <td>0.0</td>\n",
              "      <td>0.0</td>\n",
              "      <td>0.0</td>\n",
              "      <td>0.0</td>\n",
              "      <td>0.0</td>\n",
              "      <td>0.0</td>\n",
              "      <td>0.0</td>\n",
              "      <td>0.0</td>\n",
              "      <td>0.0</td>\n",
              "      <td>0.0</td>\n",
              "      <td>0.0</td>\n",
              "      <td>0.000000</td>\n",
              "    </tr>\n",
              "    <tr>\n",
              "      <th>1895</th>\n",
              "      <td>1895</td>\n",
              "      <td>2021-08-01</td>\n",
              "      <td>SBI-4129P-C2N</td>\n",
              "      <td>0.0</td>\n",
              "      <td>/systems/SBI-4129P-C2N</td>\n",
              "      <td>5</td>\n",
              "      <td>Node</td>\n",
              "      <td>0.0</td>\n",
              "      <td>0.0</td>\n",
              "      <td>0.0</td>\n",
              "      <td>0.0</td>\n",
              "      <td>0.0</td>\n",
              "      <td>0.000000</td>\n",
              "      <td>0.0</td>\n",
              "      <td>0.0</td>\n",
              "      <td>0.0</td>\n",
              "      <td>0.0</td>\n",
              "      <td>0.0</td>\n",
              "      <td>0.0</td>\n",
              "      <td>0.0</td>\n",
              "      <td>0.0</td>\n",
              "      <td>0.0</td>\n",
              "      <td>0.0</td>\n",
              "      <td>0.0</td>\n",
              "      <td>0.0</td>\n",
              "      <td>0.0</td>\n",
              "      <td>0.0</td>\n",
              "      <td>0.0</td>\n",
              "      <td>0.0</td>\n",
              "      <td>0.0</td>\n",
              "      <td>0.000000</td>\n",
              "    </tr>\n",
              "  </tbody>\n",
              "</table>\n",
              "<p>1896 rows × 31 columns</p>\n",
              "</div>"
            ],
            "text/plain": [
              "      Unnamed: 0  ... Weighted Avg Time on Page_Current_and_Past_2_Months\n",
              "0              0  ...                                           0.000000 \n",
              "1              1  ...                                           0.000000 \n",
              "2              2  ...                                           0.000000 \n",
              "3              3  ...                                         216.000000 \n",
              "4              4  ...                                         369.285714 \n",
              "...          ...  ...                                                ... \n",
              "1891        1891  ...                                           0.000000 \n",
              "1892        1892  ...                                           0.000000 \n",
              "1893        1893  ...                                           0.000000 \n",
              "1894        1894  ...                                           0.000000 \n",
              "1895        1895  ...                                           0.000000 \n",
              "\n",
              "[1896 rows x 31 columns]"
            ]
          },
          "metadata": {},
          "execution_count": 60
        }
      ]
    },
    {
      "cell_type": "markdown",
      "metadata": {
        "id": "gYw5jHhaDvpc"
      },
      "source": [
        "Once the data is imported, we will drop the unwanted columns, so that the data only contain the X and Y variables needed for the model."
      ]
    },
    {
      "cell_type": "code",
      "metadata": {
        "colab": {
          "base_uri": "https://localhost:8080/",
          "height": 439
        },
        "id": "Rb5mmsdjDFs7",
        "outputId": "49c579bc-f936-4e1f-8d6e-ee7072216c86"
      },
      "source": [
        "data = data.drop(['Unnamed: 0', 'Date', 'Item Code','Page', 'bom_type ID', 'BOM Type'], axis = 1) # drop unwanted columns\n",
        "\n",
        "data.columns = [c.replace(' ', '_') for c in data.columns] # replace ' ' and punctuations with '_' in column names as the white spaces will not work properly\n",
        "data.columns = [c.replace('*', '_') for c in data.columns]\n",
        "data.columns = [c.replace('.', '') for c in data.columns]\n",
        "\n",
        "data"
      ],
      "execution_count": null,
      "outputs": [
        {
          "output_type": "execute_result",
          "data": {
            "text/html": [
              "<div>\n",
              "<style scoped>\n",
              "    .dataframe tbody tr th:only-of-type {\n",
              "        vertical-align: middle;\n",
              "    }\n",
              "\n",
              "    .dataframe tbody tr th {\n",
              "        vertical-align: top;\n",
              "    }\n",
              "\n",
              "    .dataframe thead th {\n",
              "        text-align: right;\n",
              "    }\n",
              "</style>\n",
              "<table border=\"1\" class=\"dataframe\">\n",
              "  <thead>\n",
              "    <tr style=\"text-align: right;\">\n",
              "      <th></th>\n",
              "      <th>Qty_Sold</th>\n",
              "      <th>Page_Views</th>\n",
              "      <th>Organic_Searches</th>\n",
              "      <th>New_Users</th>\n",
              "      <th>Number_of_Sessions_per_User</th>\n",
              "      <th>Users</th>\n",
              "      <th>Weighted_Avg_Time_on_Page</th>\n",
              "      <th>Page_Views_1M_ago</th>\n",
              "      <th>Organic_Searches_1M_ago</th>\n",
              "      <th>New_Users_1M_ago</th>\n",
              "      <th>Number_of_Sessions_per_User_1M_ago</th>\n",
              "      <th>Users_1M_ago</th>\n",
              "      <th>Weighted_Avg_Time_on_Page_1M_ago</th>\n",
              "      <th>Page_Views_2M_ago</th>\n",
              "      <th>Organic_Searches_2M_ago</th>\n",
              "      <th>New_Users_2M_ago</th>\n",
              "      <th>Number_of_Sessions_per_User_2M_ago</th>\n",
              "      <th>Users_2M_ago</th>\n",
              "      <th>Weighted_Avg_Time_on_Page_2M_ago</th>\n",
              "      <th>Page_Views_Current_and_Past_2_Months</th>\n",
              "      <th>Organic_Searches_Current_and_Past_2_Months</th>\n",
              "      <th>New_Users_Current_and_Past_2_Months</th>\n",
              "      <th>Number_of_Sessions_per_User_Current_and_Past_2_Months</th>\n",
              "      <th>Users_Current_and_Past_2_Months</th>\n",
              "      <th>Weighted_Avg_Time_on_Page_Current_and_Past_2_Months</th>\n",
              "    </tr>\n",
              "  </thead>\n",
              "  <tbody>\n",
              "    <tr>\n",
              "      <th>0</th>\n",
              "      <td>0.0</td>\n",
              "      <td>1.0</td>\n",
              "      <td>1.0</td>\n",
              "      <td>1.0</td>\n",
              "      <td>1.0</td>\n",
              "      <td>1.0</td>\n",
              "      <td>0.000000</td>\n",
              "      <td>0.0</td>\n",
              "      <td>0.0</td>\n",
              "      <td>0.0</td>\n",
              "      <td>0.0</td>\n",
              "      <td>0.0</td>\n",
              "      <td>0.0</td>\n",
              "      <td>0.0</td>\n",
              "      <td>0.0</td>\n",
              "      <td>0.0</td>\n",
              "      <td>0.0</td>\n",
              "      <td>0.0</td>\n",
              "      <td>0.0</td>\n",
              "      <td>1.0</td>\n",
              "      <td>1.0</td>\n",
              "      <td>1.0</td>\n",
              "      <td>1.0</td>\n",
              "      <td>1.0</td>\n",
              "      <td>0.000000</td>\n",
              "    </tr>\n",
              "    <tr>\n",
              "      <th>1</th>\n",
              "      <td>0.0</td>\n",
              "      <td>0.0</td>\n",
              "      <td>0.0</td>\n",
              "      <td>0.0</td>\n",
              "      <td>0.0</td>\n",
              "      <td>0.0</td>\n",
              "      <td>0.000000</td>\n",
              "      <td>1.0</td>\n",
              "      <td>1.0</td>\n",
              "      <td>1.0</td>\n",
              "      <td>1.0</td>\n",
              "      <td>1.0</td>\n",
              "      <td>0.0</td>\n",
              "      <td>0.0</td>\n",
              "      <td>0.0</td>\n",
              "      <td>0.0</td>\n",
              "      <td>0.0</td>\n",
              "      <td>0.0</td>\n",
              "      <td>0.0</td>\n",
              "      <td>1.0</td>\n",
              "      <td>1.0</td>\n",
              "      <td>1.0</td>\n",
              "      <td>1.0</td>\n",
              "      <td>1.0</td>\n",
              "      <td>0.000000</td>\n",
              "    </tr>\n",
              "    <tr>\n",
              "      <th>2</th>\n",
              "      <td>0.0</td>\n",
              "      <td>1.0</td>\n",
              "      <td>1.0</td>\n",
              "      <td>1.0</td>\n",
              "      <td>1.0</td>\n",
              "      <td>1.0</td>\n",
              "      <td>0.000000</td>\n",
              "      <td>0.0</td>\n",
              "      <td>0.0</td>\n",
              "      <td>0.0</td>\n",
              "      <td>0.0</td>\n",
              "      <td>0.0</td>\n",
              "      <td>0.0</td>\n",
              "      <td>1.0</td>\n",
              "      <td>1.0</td>\n",
              "      <td>1.0</td>\n",
              "      <td>1.0</td>\n",
              "      <td>1.0</td>\n",
              "      <td>0.0</td>\n",
              "      <td>2.0</td>\n",
              "      <td>2.0</td>\n",
              "      <td>2.0</td>\n",
              "      <td>2.0</td>\n",
              "      <td>2.0</td>\n",
              "      <td>0.000000</td>\n",
              "    </tr>\n",
              "    <tr>\n",
              "      <th>3</th>\n",
              "      <td>0.0</td>\n",
              "      <td>1.0</td>\n",
              "      <td>1.0</td>\n",
              "      <td>1.0</td>\n",
              "      <td>1.0</td>\n",
              "      <td>1.0</td>\n",
              "      <td>216.000000</td>\n",
              "      <td>1.0</td>\n",
              "      <td>1.0</td>\n",
              "      <td>1.0</td>\n",
              "      <td>1.0</td>\n",
              "      <td>1.0</td>\n",
              "      <td>0.0</td>\n",
              "      <td>0.0</td>\n",
              "      <td>0.0</td>\n",
              "      <td>0.0</td>\n",
              "      <td>0.0</td>\n",
              "      <td>0.0</td>\n",
              "      <td>0.0</td>\n",
              "      <td>2.0</td>\n",
              "      <td>2.0</td>\n",
              "      <td>2.0</td>\n",
              "      <td>2.0</td>\n",
              "      <td>2.0</td>\n",
              "      <td>216.000000</td>\n",
              "    </tr>\n",
              "    <tr>\n",
              "      <th>4</th>\n",
              "      <td>0.0</td>\n",
              "      <td>7.0</td>\n",
              "      <td>1.0</td>\n",
              "      <td>2.0</td>\n",
              "      <td>2.0</td>\n",
              "      <td>5.0</td>\n",
              "      <td>153.285714</td>\n",
              "      <td>1.0</td>\n",
              "      <td>1.0</td>\n",
              "      <td>1.0</td>\n",
              "      <td>1.0</td>\n",
              "      <td>1.0</td>\n",
              "      <td>216.0</td>\n",
              "      <td>1.0</td>\n",
              "      <td>1.0</td>\n",
              "      <td>1.0</td>\n",
              "      <td>1.0</td>\n",
              "      <td>1.0</td>\n",
              "      <td>0.0</td>\n",
              "      <td>9.0</td>\n",
              "      <td>3.0</td>\n",
              "      <td>4.0</td>\n",
              "      <td>4.0</td>\n",
              "      <td>7.0</td>\n",
              "      <td>369.285714</td>\n",
              "    </tr>\n",
              "    <tr>\n",
              "      <th>...</th>\n",
              "      <td>...</td>\n",
              "      <td>...</td>\n",
              "      <td>...</td>\n",
              "      <td>...</td>\n",
              "      <td>...</td>\n",
              "      <td>...</td>\n",
              "      <td>...</td>\n",
              "      <td>...</td>\n",
              "      <td>...</td>\n",
              "      <td>...</td>\n",
              "      <td>...</td>\n",
              "      <td>...</td>\n",
              "      <td>...</td>\n",
              "      <td>...</td>\n",
              "      <td>...</td>\n",
              "      <td>...</td>\n",
              "      <td>...</td>\n",
              "      <td>...</td>\n",
              "      <td>...</td>\n",
              "      <td>...</td>\n",
              "      <td>...</td>\n",
              "      <td>...</td>\n",
              "      <td>...</td>\n",
              "      <td>...</td>\n",
              "      <td>...</td>\n",
              "    </tr>\n",
              "    <tr>\n",
              "      <th>1891</th>\n",
              "      <td>0.0</td>\n",
              "      <td>0.0</td>\n",
              "      <td>0.0</td>\n",
              "      <td>0.0</td>\n",
              "      <td>0.0</td>\n",
              "      <td>0.0</td>\n",
              "      <td>0.000000</td>\n",
              "      <td>0.0</td>\n",
              "      <td>0.0</td>\n",
              "      <td>0.0</td>\n",
              "      <td>0.0</td>\n",
              "      <td>0.0</td>\n",
              "      <td>0.0</td>\n",
              "      <td>0.0</td>\n",
              "      <td>0.0</td>\n",
              "      <td>0.0</td>\n",
              "      <td>0.0</td>\n",
              "      <td>0.0</td>\n",
              "      <td>0.0</td>\n",
              "      <td>0.0</td>\n",
              "      <td>0.0</td>\n",
              "      <td>0.0</td>\n",
              "      <td>0.0</td>\n",
              "      <td>0.0</td>\n",
              "      <td>0.000000</td>\n",
              "    </tr>\n",
              "    <tr>\n",
              "      <th>1892</th>\n",
              "      <td>0.0</td>\n",
              "      <td>0.0</td>\n",
              "      <td>0.0</td>\n",
              "      <td>0.0</td>\n",
              "      <td>0.0</td>\n",
              "      <td>0.0</td>\n",
              "      <td>0.000000</td>\n",
              "      <td>0.0</td>\n",
              "      <td>0.0</td>\n",
              "      <td>0.0</td>\n",
              "      <td>0.0</td>\n",
              "      <td>0.0</td>\n",
              "      <td>0.0</td>\n",
              "      <td>0.0</td>\n",
              "      <td>0.0</td>\n",
              "      <td>0.0</td>\n",
              "      <td>0.0</td>\n",
              "      <td>0.0</td>\n",
              "      <td>0.0</td>\n",
              "      <td>0.0</td>\n",
              "      <td>0.0</td>\n",
              "      <td>0.0</td>\n",
              "      <td>0.0</td>\n",
              "      <td>0.0</td>\n",
              "      <td>0.000000</td>\n",
              "    </tr>\n",
              "    <tr>\n",
              "      <th>1893</th>\n",
              "      <td>0.0</td>\n",
              "      <td>0.0</td>\n",
              "      <td>0.0</td>\n",
              "      <td>0.0</td>\n",
              "      <td>0.0</td>\n",
              "      <td>0.0</td>\n",
              "      <td>0.000000</td>\n",
              "      <td>0.0</td>\n",
              "      <td>0.0</td>\n",
              "      <td>0.0</td>\n",
              "      <td>0.0</td>\n",
              "      <td>0.0</td>\n",
              "      <td>0.0</td>\n",
              "      <td>0.0</td>\n",
              "      <td>0.0</td>\n",
              "      <td>0.0</td>\n",
              "      <td>0.0</td>\n",
              "      <td>0.0</td>\n",
              "      <td>0.0</td>\n",
              "      <td>0.0</td>\n",
              "      <td>0.0</td>\n",
              "      <td>0.0</td>\n",
              "      <td>0.0</td>\n",
              "      <td>0.0</td>\n",
              "      <td>0.000000</td>\n",
              "    </tr>\n",
              "    <tr>\n",
              "      <th>1894</th>\n",
              "      <td>0.0</td>\n",
              "      <td>0.0</td>\n",
              "      <td>0.0</td>\n",
              "      <td>0.0</td>\n",
              "      <td>0.0</td>\n",
              "      <td>0.0</td>\n",
              "      <td>0.000000</td>\n",
              "      <td>0.0</td>\n",
              "      <td>0.0</td>\n",
              "      <td>0.0</td>\n",
              "      <td>0.0</td>\n",
              "      <td>0.0</td>\n",
              "      <td>0.0</td>\n",
              "      <td>0.0</td>\n",
              "      <td>0.0</td>\n",
              "      <td>0.0</td>\n",
              "      <td>0.0</td>\n",
              "      <td>0.0</td>\n",
              "      <td>0.0</td>\n",
              "      <td>0.0</td>\n",
              "      <td>0.0</td>\n",
              "      <td>0.0</td>\n",
              "      <td>0.0</td>\n",
              "      <td>0.0</td>\n",
              "      <td>0.000000</td>\n",
              "    </tr>\n",
              "    <tr>\n",
              "      <th>1895</th>\n",
              "      <td>0.0</td>\n",
              "      <td>0.0</td>\n",
              "      <td>0.0</td>\n",
              "      <td>0.0</td>\n",
              "      <td>0.0</td>\n",
              "      <td>0.0</td>\n",
              "      <td>0.000000</td>\n",
              "      <td>0.0</td>\n",
              "      <td>0.0</td>\n",
              "      <td>0.0</td>\n",
              "      <td>0.0</td>\n",
              "      <td>0.0</td>\n",
              "      <td>0.0</td>\n",
              "      <td>0.0</td>\n",
              "      <td>0.0</td>\n",
              "      <td>0.0</td>\n",
              "      <td>0.0</td>\n",
              "      <td>0.0</td>\n",
              "      <td>0.0</td>\n",
              "      <td>0.0</td>\n",
              "      <td>0.0</td>\n",
              "      <td>0.0</td>\n",
              "      <td>0.0</td>\n",
              "      <td>0.0</td>\n",
              "      <td>0.000000</td>\n",
              "    </tr>\n",
              "  </tbody>\n",
              "</table>\n",
              "<p>1896 rows × 25 columns</p>\n",
              "</div>"
            ],
            "text/plain": [
              "      Qty_Sold  ...  Weighted_Avg_Time_on_Page_Current_and_Past_2_Months\n",
              "0          0.0  ...                                           0.000000  \n",
              "1          0.0  ...                                           0.000000  \n",
              "2          0.0  ...                                           0.000000  \n",
              "3          0.0  ...                                         216.000000  \n",
              "4          0.0  ...                                         369.285714  \n",
              "...        ...  ...                                                ...  \n",
              "1891       0.0  ...                                           0.000000  \n",
              "1892       0.0  ...                                           0.000000  \n",
              "1893       0.0  ...                                           0.000000  \n",
              "1894       0.0  ...                                           0.000000  \n",
              "1895       0.0  ...                                           0.000000  \n",
              "\n",
              "[1896 rows x 25 columns]"
            ]
          },
          "metadata": {},
          "execution_count": 61
        }
      ]
    },
    {
      "cell_type": "markdown",
      "metadata": {
        "id": "GWG1Re2wD31r"
      },
      "source": [
        "Descriptive statistics for the dataset is shown below."
      ]
    },
    {
      "cell_type": "code",
      "metadata": {
        "colab": {
          "base_uri": "https://localhost:8080/",
          "height": 317
        },
        "id": "qOJYecWPDpjF",
        "outputId": "52c19dec-173f-493a-8819-0b9863af73c0"
      },
      "source": [
        "data.describe()"
      ],
      "execution_count": null,
      "outputs": [
        {
          "output_type": "execute_result",
          "data": {
            "text/html": [
              "<div>\n",
              "<style scoped>\n",
              "    .dataframe tbody tr th:only-of-type {\n",
              "        vertical-align: middle;\n",
              "    }\n",
              "\n",
              "    .dataframe tbody tr th {\n",
              "        vertical-align: top;\n",
              "    }\n",
              "\n",
              "    .dataframe thead th {\n",
              "        text-align: right;\n",
              "    }\n",
              "</style>\n",
              "<table border=\"1\" class=\"dataframe\">\n",
              "  <thead>\n",
              "    <tr style=\"text-align: right;\">\n",
              "      <th></th>\n",
              "      <th>Qty_Sold</th>\n",
              "      <th>Page_Views</th>\n",
              "      <th>Organic_Searches</th>\n",
              "      <th>New_Users</th>\n",
              "      <th>Number_of_Sessions_per_User</th>\n",
              "      <th>Users</th>\n",
              "      <th>Weighted_Avg_Time_on_Page</th>\n",
              "      <th>Page_Views_1M_ago</th>\n",
              "      <th>Organic_Searches_1M_ago</th>\n",
              "      <th>New_Users_1M_ago</th>\n",
              "      <th>Number_of_Sessions_per_User_1M_ago</th>\n",
              "      <th>Users_1M_ago</th>\n",
              "      <th>Weighted_Avg_Time_on_Page_1M_ago</th>\n",
              "      <th>Page_Views_2M_ago</th>\n",
              "      <th>Organic_Searches_2M_ago</th>\n",
              "      <th>New_Users_2M_ago</th>\n",
              "      <th>Number_of_Sessions_per_User_2M_ago</th>\n",
              "      <th>Users_2M_ago</th>\n",
              "      <th>Weighted_Avg_Time_on_Page_2M_ago</th>\n",
              "      <th>Page_Views_Current_and_Past_2_Months</th>\n",
              "      <th>Organic_Searches_Current_and_Past_2_Months</th>\n",
              "      <th>New_Users_Current_and_Past_2_Months</th>\n",
              "      <th>Number_of_Sessions_per_User_Current_and_Past_2_Months</th>\n",
              "      <th>Users_Current_and_Past_2_Months</th>\n",
              "      <th>Weighted_Avg_Time_on_Page_Current_and_Past_2_Months</th>\n",
              "    </tr>\n",
              "  </thead>\n",
              "  <tbody>\n",
              "    <tr>\n",
              "      <th>count</th>\n",
              "      <td>1896.000000</td>\n",
              "      <td>1896.000000</td>\n",
              "      <td>1896.000000</td>\n",
              "      <td>1896.000000</td>\n",
              "      <td>1896.000000</td>\n",
              "      <td>1896.000000</td>\n",
              "      <td>1896.000000</td>\n",
              "      <td>1896.000000</td>\n",
              "      <td>1896.000000</td>\n",
              "      <td>1896.000000</td>\n",
              "      <td>1896.000000</td>\n",
              "      <td>1896.000000</td>\n",
              "      <td>1896.000000</td>\n",
              "      <td>1896.000000</td>\n",
              "      <td>1896.000000</td>\n",
              "      <td>1896.000000</td>\n",
              "      <td>1896.000000</td>\n",
              "      <td>1896.000000</td>\n",
              "      <td>1896.000000</td>\n",
              "      <td>1896.000000</td>\n",
              "      <td>1896.000000</td>\n",
              "      <td>1896.000000</td>\n",
              "      <td>1896.000000</td>\n",
              "      <td>1896.000000</td>\n",
              "      <td>1896.000000</td>\n",
              "    </tr>\n",
              "    <tr>\n",
              "      <th>mean</th>\n",
              "      <td>0.388186</td>\n",
              "      <td>2.894515</td>\n",
              "      <td>0.541139</td>\n",
              "      <td>0.675105</td>\n",
              "      <td>0.828162</td>\n",
              "      <td>2.122890</td>\n",
              "      <td>57.324320</td>\n",
              "      <td>2.746308</td>\n",
              "      <td>0.515295</td>\n",
              "      <td>0.637131</td>\n",
              "      <td>0.772624</td>\n",
              "      <td>2.011076</td>\n",
              "      <td>54.729434</td>\n",
              "      <td>2.643460</td>\n",
              "      <td>0.489451</td>\n",
              "      <td>0.607068</td>\n",
              "      <td>0.731572</td>\n",
              "      <td>1.919304</td>\n",
              "      <td>51.850962</td>\n",
              "      <td>8.284283</td>\n",
              "      <td>1.545886</td>\n",
              "      <td>1.919304</td>\n",
              "      <td>2.332358</td>\n",
              "      <td>6.053270</td>\n",
              "      <td>163.904716</td>\n",
              "    </tr>\n",
              "    <tr>\n",
              "      <th>std</th>\n",
              "      <td>1.694986</td>\n",
              "      <td>6.695129</td>\n",
              "      <td>1.450465</td>\n",
              "      <td>1.806448</td>\n",
              "      <td>1.778252</td>\n",
              "      <td>3.937665</td>\n",
              "      <td>143.914675</td>\n",
              "      <td>6.641160</td>\n",
              "      <td>1.434876</td>\n",
              "      <td>1.779144</td>\n",
              "      <td>1.708076</td>\n",
              "      <td>3.900799</td>\n",
              "      <td>142.471931</td>\n",
              "      <td>6.625169</td>\n",
              "      <td>1.411186</td>\n",
              "      <td>1.759747</td>\n",
              "      <td>1.666250</td>\n",
              "      <td>3.873641</td>\n",
              "      <td>139.857928</td>\n",
              "      <td>16.966236</td>\n",
              "      <td>3.714196</td>\n",
              "      <td>4.457756</td>\n",
              "      <td>4.527370</td>\n",
              "      <td>10.364635</td>\n",
              "      <td>262.411541</td>\n",
              "    </tr>\n",
              "    <tr>\n",
              "      <th>min</th>\n",
              "      <td>0.000000</td>\n",
              "      <td>0.000000</td>\n",
              "      <td>0.000000</td>\n",
              "      <td>0.000000</td>\n",
              "      <td>0.000000</td>\n",
              "      <td>0.000000</td>\n",
              "      <td>0.000000</td>\n",
              "      <td>0.000000</td>\n",
              "      <td>0.000000</td>\n",
              "      <td>0.000000</td>\n",
              "      <td>0.000000</td>\n",
              "      <td>0.000000</td>\n",
              "      <td>0.000000</td>\n",
              "      <td>0.000000</td>\n",
              "      <td>0.000000</td>\n",
              "      <td>0.000000</td>\n",
              "      <td>0.000000</td>\n",
              "      <td>0.000000</td>\n",
              "      <td>0.000000</td>\n",
              "      <td>0.000000</td>\n",
              "      <td>0.000000</td>\n",
              "      <td>0.000000</td>\n",
              "      <td>0.000000</td>\n",
              "      <td>0.000000</td>\n",
              "      <td>0.000000</td>\n",
              "    </tr>\n",
              "    <tr>\n",
              "      <th>25%</th>\n",
              "      <td>0.000000</td>\n",
              "      <td>0.000000</td>\n",
              "      <td>0.000000</td>\n",
              "      <td>0.000000</td>\n",
              "      <td>0.000000</td>\n",
              "      <td>0.000000</td>\n",
              "      <td>0.000000</td>\n",
              "      <td>0.000000</td>\n",
              "      <td>0.000000</td>\n",
              "      <td>0.000000</td>\n",
              "      <td>0.000000</td>\n",
              "      <td>0.000000</td>\n",
              "      <td>0.000000</td>\n",
              "      <td>0.000000</td>\n",
              "      <td>0.000000</td>\n",
              "      <td>0.000000</td>\n",
              "      <td>0.000000</td>\n",
              "      <td>0.000000</td>\n",
              "      <td>0.000000</td>\n",
              "      <td>0.000000</td>\n",
              "      <td>0.000000</td>\n",
              "      <td>0.000000</td>\n",
              "      <td>0.000000</td>\n",
              "      <td>0.000000</td>\n",
              "      <td>0.000000</td>\n",
              "    </tr>\n",
              "    <tr>\n",
              "      <th>50%</th>\n",
              "      <td>0.000000</td>\n",
              "      <td>1.000000</td>\n",
              "      <td>0.000000</td>\n",
              "      <td>0.000000</td>\n",
              "      <td>0.000000</td>\n",
              "      <td>1.000000</td>\n",
              "      <td>0.000000</td>\n",
              "      <td>0.000000</td>\n",
              "      <td>0.000000</td>\n",
              "      <td>0.000000</td>\n",
              "      <td>0.000000</td>\n",
              "      <td>0.000000</td>\n",
              "      <td>0.000000</td>\n",
              "      <td>0.000000</td>\n",
              "      <td>0.000000</td>\n",
              "      <td>0.000000</td>\n",
              "      <td>0.000000</td>\n",
              "      <td>0.000000</td>\n",
              "      <td>0.000000</td>\n",
              "      <td>3.000000</td>\n",
              "      <td>0.000000</td>\n",
              "      <td>0.000000</td>\n",
              "      <td>0.000000</td>\n",
              "      <td>2.000000</td>\n",
              "      <td>38.553571</td>\n",
              "    </tr>\n",
              "    <tr>\n",
              "      <th>75%</th>\n",
              "      <td>0.000000</td>\n",
              "      <td>3.000000</td>\n",
              "      <td>0.000000</td>\n",
              "      <td>1.000000</td>\n",
              "      <td>1.000000</td>\n",
              "      <td>3.000000</td>\n",
              "      <td>40.083333</td>\n",
              "      <td>3.000000</td>\n",
              "      <td>0.000000</td>\n",
              "      <td>0.000000</td>\n",
              "      <td>1.000000</td>\n",
              "      <td>2.000000</td>\n",
              "      <td>35.357143</td>\n",
              "      <td>3.000000</td>\n",
              "      <td>0.000000</td>\n",
              "      <td>0.000000</td>\n",
              "      <td>1.000000</td>\n",
              "      <td>2.000000</td>\n",
              "      <td>29.611458</td>\n",
              "      <td>9.000000</td>\n",
              "      <td>1.000000</td>\n",
              "      <td>2.000000</td>\n",
              "      <td>2.000000</td>\n",
              "      <td>7.000000</td>\n",
              "      <td>229.187500</td>\n",
              "    </tr>\n",
              "    <tr>\n",
              "      <th>max</th>\n",
              "      <td>33.000000</td>\n",
              "      <td>99.000000</td>\n",
              "      <td>26.000000</td>\n",
              "      <td>27.000000</td>\n",
              "      <td>16.000000</td>\n",
              "      <td>40.000000</td>\n",
              "      <td>1527.500000</td>\n",
              "      <td>99.000000</td>\n",
              "      <td>26.000000</td>\n",
              "      <td>27.000000</td>\n",
              "      <td>12.500000</td>\n",
              "      <td>40.000000</td>\n",
              "      <td>1527.500000</td>\n",
              "      <td>99.000000</td>\n",
              "      <td>26.000000</td>\n",
              "      <td>27.000000</td>\n",
              "      <td>12.500000</td>\n",
              "      <td>40.000000</td>\n",
              "      <td>1527.500000</td>\n",
              "      <td>200.000000</td>\n",
              "      <td>45.000000</td>\n",
              "      <td>45.000000</td>\n",
              "      <td>30.000000</td>\n",
              "      <td>97.000000</td>\n",
              "      <td>1854.000000</td>\n",
              "    </tr>\n",
              "  </tbody>\n",
              "</table>\n",
              "</div>"
            ],
            "text/plain": [
              "          Qty_Sold  ...  Weighted_Avg_Time_on_Page_Current_and_Past_2_Months\n",
              "count  1896.000000  ...                                        1896.000000  \n",
              "mean      0.388186  ...                                         163.904716  \n",
              "std       1.694986  ...                                         262.411541  \n",
              "min       0.000000  ...                                           0.000000  \n",
              "25%       0.000000  ...                                           0.000000  \n",
              "50%       0.000000  ...                                          38.553571  \n",
              "75%       0.000000  ...                                         229.187500  \n",
              "max      33.000000  ...                                        1854.000000  \n",
              "\n",
              "[8 rows x 25 columns]"
            ]
          },
          "metadata": {},
          "execution_count": 62
        }
      ]
    },
    {
      "cell_type": "markdown",
      "metadata": {
        "id": "v1majh7I-Zkj"
      },
      "source": [
        "# Data Expoloration\n",
        "\n",
        "Now that the data is imported correctly, we will inspect the data set using various plots.\n",
        "\n",
        "## Scatter Plots\n",
        "\n",
        "Before fitting a linear regression model, we will check if there are any linear relationships between the dependent and independent variables. The code below will plot one scatter plot for each independent variable in our dataset, against the dependent variable `Qty Sold`."
      ]
    },
    {
      "cell_type": "code",
      "metadata": {
        "colab": {
          "base_uri": "https://localhost:8080/",
          "height": 1000
        },
        "id": "Q-GHI4UVLM6P",
        "outputId": "ea880218-97b2-4166-fc5f-037c2c620b9f"
      },
      "source": [
        "y_col = \"Qty_Sold\"\n",
        "X = data.iloc[:,1:] # create dataframe with X variables only\n",
        "x_columns = X.columns\n",
        "\n",
        "\n",
        "for x_col in x_columns:\n",
        "\n",
        "    figure = plt.figure(figsize=(4.5, 3.5))\n",
        "    ax = plt.gca()\n",
        "    ax.scatter(data[y_col], data[x_col])\n",
        "    ax.set_xlabel(x_col.replace(\"_\", \" \"))\n",
        "    ax.set_ylabel(y_col.replace(\"_\", \" \"))\n",
        "    ax.set_title('\\n'.join(wrap(\"{} vs {}\".format(x_col, y_col).replace(\"_\", \" \"),40)))\n",
        "    plt.show()\n",
        "    #figure.savefig('Scatter plot of ' + x_col + ' vs Quantity Sold.png', bbox_inches='tight')"
      ],
      "execution_count": null,
      "outputs": [
        {
          "output_type": "display_data",
          "data": {
            "image/png": "[encoded data removed]",
            "text/plain": [
              "<Figure size 324x252 with 1 Axes>"
            ]
          },
          "metadata": {
            "needs_background": "light"
          }
        },
        {
          "output_type": "display_data",
          "data": {
            "image/png": "[encoded data removed]",
            "text/plain": [
              "<Figure size 324x252 with 1 Axes>"
            ]
          },
          "metadata": {
            "needs_background": "light"
          }
        },
        {
          "output_type": "display_data",
          "data": {
            "image/png": "[encoded data removed]",
            "text/plain": [
              "<Figure size 324x252 with 1 Axes>"
            ]
          },
          "metadata": {
            "needs_background": "light"
          }
        },
        {
          "output_type": "display_data",
          "data": {
            "image/png": "[encoded data removed]",
            "text/plain": [
              "<Figure size 324x252 with 1 Axes>"
            ]
          },
          "metadata": {
            "needs_background": "light"
          }
        },
        {
          "output_type": "display_data",
          "data": {
            "image/png": "[encoded data removed]",
            "text/plain": [
              "<Figure size 324x252 with 1 Axes>"
            ]
          },
          "metadata": {
            "needs_background": "light"
          }
        },
        {
          "output_type": "display_data",
          "data": {
            "image/png": "[encoded data removed]",
            "text/plain": [
              "<Figure size 324x252 with 1 Axes>"
            ]
          },
          "metadata": {
            "needs_background": "light"
          }
        },
        {
          "output_type": "display_data",
          "data": {
            "image/png": "[encoded data removed]",
            "text/plain": [
              "<Figure size 324x252 with 1 Axes>"
            ]
          },
          "metadata": {
            "needs_background": "light"
          }
        },
        {
          "output_type": "display_data",
          "data": {
            "image/png": "[encoded data removed]",
            "text/plain": [
              "<Figure size 324x252 with 1 Axes>"
            ]
          },
          "metadata": {
            "needs_background": "light"
          }
        },
        {
          "output_type": "display_data",
          "data": {
            "image/png": "[encoded data removed]",
            "text/plain": [
              "<Figure size 324x252 with 1 Axes>"
            ]
          },
          "metadata": {
            "needs_background": "light"
          }
        },
        {
          "output_type": "display_data",
          "data": {
            "image/png": "[encoded data removed]",
            "text/plain": [
              "<Figure size 324x252 with 1 Axes>"
            ]
          },
          "metadata": {
            "needs_background": "light"
          }
        },
        {
          "output_type": "display_data",
          "data": {
            "image/png": "[encoded data removed]",
            "text/plain": [
              "<Figure size 324x252 with 1 Axes>"
            ]
          },
          "metadata": {
            "needs_background": "light"
          }
        },
        {
          "output_type": "display_data",
          "data": {
            "image/png": "[encoded data removed]",
            "text/plain": [
              "<Figure size 324x252 with 1 Axes>"
            ]
          },
          "metadata": {
            "needs_background": "light"
          }
        },
        {
          "output_type": "display_data",
          "data": {
            "image/png": "[encoded data removed]",
            "text/plain": [
              "<Figure size 324x252 with 1 Axes>"
            ]
          },
          "metadata": {
            "needs_background": "light"
          }
        },
        {
          "output_type": "display_data",
          "data": {
            "image/png": "[encoded data removed]",
            "text/plain": [
              "<Figure size 324x252 with 1 Axes>"
            ]
          },
          "metadata": {
            "needs_background": "light"
          }
        },
        {
          "output_type": "display_data",
          "data": {
            "image/png": "[encoded data removed]",
            "text/plain": [
              "<Figure size 324x252 with 1 Axes>"
            ]
          },
          "metadata": {
            "needs_background": "light"
          }
        },
        {
          "output_type": "display_data",
          "data": {
            "image/png": "[encoded data removed]",
            "text/plain": [
              "<Figure size 324x252 with 1 Axes>"
            ]
          },
          "metadata": {
            "needs_background": "light"
          }
        },
        {
          "output_type": "display_data",
          "data": {
            "image/png": "[encoded data removed]",
            "text/plain": [
              "<Figure size 324x252 with 1 Axes>"
            ]
          },
          "metadata": {
            "needs_background": "light"
          }
        },
        {
          "output_type": "display_data",
          "data": {
            "image/png": "[encoded data removed]",
            "text/plain": [
              "<Figure size 324x252 with 1 Axes>"
            ]
          },
          "metadata": {
            "needs_background": "light"
          }
        },
        {
          "output_type": "display_data",
          "data": {
            "image/png": "[encoded data removed]",
            "text/plain": [
              "<Figure size 324x252 with 1 Axes>"
            ]
          },
          "metadata": {
            "needs_background": "light"
          }
        },
        {
          "output_type": "display_data",
          "data": {
            "image/png": "[encoded data removed]",
            "text/plain": [
              "<Figure size 324x252 with 1 Axes>"
            ]
          },
          "metadata": {
            "needs_background": "light"
          }
        },
        {
          "output_type": "display_data",
          "data": {
            "image/png": "[encoded data removed]",
            "text/plain": [
              "<Figure size 324x252 with 1 Axes>"
            ]
          },
          "metadata": {
            "needs_background": "light"
          }
        },
        {
          "output_type": "display_data",
          "data": {
            "image/png": "[encoded data removed]",
            "text/plain": [
              "<Figure size 324x252 with 1 Axes>"
            ]
          },
          "metadata": {
            "needs_background": "light"
          }
        },
        {
          "output_type": "display_data",
          "data": {
            "image/png": "[encoded data removed]",
            "text/plain": [
              "<Figure size 324x252 with 1 Axes>"
            ]
          },
          "metadata": {
            "needs_background": "light"
          }
        },
        {
          "output_type": "display_data",
          "data": {
            "image/png": "[encoded data removed]",
            "text/plain": [
              "<Figure size 324x252 with 1 Axes>"
            ]
          },
          "metadata": {
            "needs_background": "light"
          }
        }
      ]
    },
    {
      "cell_type": "markdown",
      "metadata": {
        "id": "kitSIB2nNYj0"
      },
      "source": [
        "As we can see above, there are no linear relationships between any combination of the dependent and independent variables. Hence, a Linear Regression model is not recommended, but will be fitted anyway."
      ]
    },
    {
      "cell_type": "markdown",
      "metadata": {
        "id": "mDUW9qA7PCwM"
      },
      "source": [
        "# Linear Regression"
      ]
    },
    {
      "cell_type": "code",
      "metadata": {
        "colab": {
          "base_uri": "https://localhost:8080/"
        },
        "id": "2iCzjJ75LpjD",
        "outputId": "851f34e3-7dbe-4153-bc0c-d66bffe091b7"
      },
      "source": [
        "data.columns"
      ],
      "execution_count": null,
      "outputs": [
        {
          "output_type": "execute_result",
          "data": {
            "text/plain": [
              "Index(['Qty_Sold', 'Page_Views', 'Organic_Searches', 'New_Users',\n",
              "       'Number_of_Sessions_per_User', 'Users', 'Weighted_Avg_Time_on_Page',\n",
              "       'Page_Views_1M_ago', 'Organic_Searches_1M_ago', 'New_Users_1M_ago',\n",
              "       'Number_of_Sessions_per_User_1M_ago', 'Users_1M_ago',\n",
              "       'Weighted_Avg_Time_on_Page_1M_ago', 'Page_Views_2M_ago',\n",
              "       'Organic_Searches_2M_ago', 'New_Users_2M_ago',\n",
              "       'Number_of_Sessions_per_User_2M_ago', 'Users_2M_ago',\n",
              "       'Weighted_Avg_Time_on_Page_2M_ago',\n",
              "       'Page_Views_Current_and_Past_2_Months',\n",
              "       'Organic_Searches_Current_and_Past_2_Months',\n",
              "       'New_Users_Current_and_Past_2_Months',\n",
              "       'Number_of_Sessions_per_User_Current_and_Past_2_Months',\n",
              "       'Users_Current_and_Past_2_Months',\n",
              "       'Weighted_Avg_Time_on_Page_Current_and_Past_2_Months'],\n",
              "      dtype='object')"
            ]
          },
          "metadata": {},
          "execution_count": 64
        }
      ]
    },
    {
      "cell_type": "code",
      "metadata": {
        "id": "zqj9gJL_RMoj"
      },
      "source": [
        "x_var = data[['Page_Views', 'Organic_Searches', 'New_Users',\n",
        "       'Number_of_Sessions_per_User', 'Users', 'Weighted_Avg_Time_on_Page',\n",
        "       'Page_Views_1M_ago', 'Organic_Searches_1M_ago', 'New_Users_1M_ago',\n",
        "       'Number_of_Sessions_per_User_1M_ago', 'Users_1M_ago',\n",
        "       'Weighted_Avg_Time_on_Page_1M_ago', 'Page_Views_2M_ago',\n",
        "       'Organic_Searches_2M_ago', 'New_Users_2M_ago',\n",
        "       'Number_of_Sessions_per_User_2M_ago', 'Users_2M_ago',\n",
        "       'Weighted_Avg_Time_on_Page_2M_ago',\n",
        "       'Page_Views_Current_and_Past_2_Months',\n",
        "       'Organic_Searches_Current_and_Past_2_Months',\n",
        "       'New_Users_Current_and_Past_2_Months',\n",
        "       'Number_of_Sessions_per_User_Current_and_Past_2_Months',\n",
        "       'Users_Current_and_Past_2_Months',\n",
        "       'Weighted_Avg_Time_on_Page_Current_and_Past_2_Months']]\n",
        "y_var = data['Qty_Sold']\n",
        "\n",
        "mlr_model = sm.OLS(y_var, x_var)\n",
        "mlr_reg = mlr_model.fit()"
      ],
      "execution_count": null,
      "outputs": []
    },
    {
      "cell_type": "code",
      "metadata": {
        "colab": {
          "base_uri": "https://localhost:8080/",
          "height": 940
        },
        "id": "nn162q8zSCK2",
        "outputId": "2dab6e06-c086-4f92-f34f-98ea750733ab"
      },
      "source": [
        "mlr_reg.summary()"
      ],
      "execution_count": null,
      "outputs": [
        {
          "output_type": "execute_result",
          "data": {
            "text/html": [
              "<table class=\"simpletable\">\n",
              "<caption>OLS Regression Results</caption>\n",
              "<tr>\n",
              "  <th>Dep. Variable:</th>        <td>Qty_Sold</td>     <th>  R-squared (uncentered):</th>      <td>   0.037</td>\n",
              "</tr>\n",
              "<tr>\n",
              "  <th>Model:</th>                   <td>OLS</td>       <th>  Adj. R-squared (uncentered):</th> <td>   0.028</td>\n",
              "</tr>\n",
              "<tr>\n",
              "  <th>Method:</th>             <td>Least Squares</td>  <th>  F-statistic:       </th>          <td>   4.037</td>\n",
              "</tr>\n",
              "<tr>\n",
              "  <th>Date:</th>             <td>Sat, 23 Oct 2021</td> <th>  Prob (F-statistic):</th>          <td>2.43e-08</td>\n",
              "</tr>\n",
              "<tr>\n",
              "  <th>Time:</th>                 <td>02:51:01</td>     <th>  Log-Likelihood:    </th>          <td> -3702.8</td>\n",
              "</tr>\n",
              "<tr>\n",
              "  <th>No. Observations:</th>      <td>  1896</td>      <th>  AIC:               </th>          <td>   7442.</td>\n",
              "</tr>\n",
              "<tr>\n",
              "  <th>Df Residuals:</th>          <td>  1878</td>      <th>  BIC:               </th>          <td>   7541.</td>\n",
              "</tr>\n",
              "<tr>\n",
              "  <th>Df Model:</th>              <td>    18</td>      <th>                     </th>              <td> </td>   \n",
              "</tr>\n",
              "<tr>\n",
              "  <th>Covariance Type:</th>      <td>nonrobust</td>    <th>                     </th>              <td> </td>   \n",
              "</tr>\n",
              "</table>\n",
              "<table class=\"simpletable\">\n",
              "<tr>\n",
              "                            <td></td>                               <th>coef</th>     <th>std err</th>      <th>t</th>      <th>P>|t|</th>  <th>[0.025</th>    <th>0.975]</th>  \n",
              "</tr>\n",
              "<tr>\n",
              "  <th>Page_Views</th>                                            <td>    0.0075</td> <td>    0.012</td> <td>    0.617</td> <td> 0.538</td> <td>   -0.016</td> <td>    0.031</td>\n",
              "</tr>\n",
              "<tr>\n",
              "  <th>Organic_Searches</th>                                      <td>    0.0069</td> <td>    0.056</td> <td>    0.124</td> <td> 0.901</td> <td>   -0.103</td> <td>    0.117</td>\n",
              "</tr>\n",
              "<tr>\n",
              "  <th>New_Users</th>                                             <td>   -0.0149</td> <td>    0.047</td> <td>   -0.314</td> <td> 0.753</td> <td>   -0.107</td> <td>    0.078</td>\n",
              "</tr>\n",
              "<tr>\n",
              "  <th>Number_of_Sessions_per_User</th>                           <td>   -0.0002</td> <td>    0.043</td> <td>   -0.005</td> <td> 0.996</td> <td>   -0.084</td> <td>    0.084</td>\n",
              "</tr>\n",
              "<tr>\n",
              "  <th>Users</th>                                                 <td>   -0.0010</td> <td>    0.029</td> <td>   -0.032</td> <td> 0.974</td> <td>   -0.059</td> <td>    0.057</td>\n",
              "</tr>\n",
              "<tr>\n",
              "  <th>Weighted_Avg_Time_on_Page</th>                             <td>    0.0002</td> <td>    0.000</td> <td>    1.040</td> <td> 0.298</td> <td>   -0.000</td> <td>    0.001</td>\n",
              "</tr>\n",
              "<tr>\n",
              "  <th>Page_Views_1M_ago</th>                                     <td>    0.0317</td> <td>    0.013</td> <td>    2.523</td> <td> 0.012</td> <td>    0.007</td> <td>    0.056</td>\n",
              "</tr>\n",
              "<tr>\n",
              "  <th>Organic_Searches_1M_ago</th>                               <td>    0.0505</td> <td>    0.062</td> <td>    0.814</td> <td> 0.416</td> <td>   -0.071</td> <td>    0.172</td>\n",
              "</tr>\n",
              "<tr>\n",
              "  <th>New_Users_1M_ago</th>                                      <td>   -0.0357</td> <td>    0.051</td> <td>   -0.703</td> <td> 0.482</td> <td>   -0.135</td> <td>    0.064</td>\n",
              "</tr>\n",
              "<tr>\n",
              "  <th>Number_of_Sessions_per_User_1M_ago</th>                    <td>   -0.0854</td> <td>    0.047</td> <td>   -1.809</td> <td> 0.071</td> <td>   -0.178</td> <td>    0.007</td>\n",
              "</tr>\n",
              "<tr>\n",
              "  <th>Users_1M_ago</th>                                          <td>   -0.0091</td> <td>    0.031</td> <td>   -0.293</td> <td> 0.770</td> <td>   -0.070</td> <td>    0.052</td>\n",
              "</tr>\n",
              "<tr>\n",
              "  <th>Weighted_Avg_Time_on_Page_1M_ago</th>                      <td> 2.876e-05</td> <td>    0.000</td> <td>    0.117</td> <td> 0.907</td> <td>   -0.000</td> <td>    0.001</td>\n",
              "</tr>\n",
              "<tr>\n",
              "  <th>Page_Views_2M_ago</th>                                     <td>   -0.0371</td> <td>    0.012</td> <td>   -2.990</td> <td> 0.003</td> <td>   -0.061</td> <td>   -0.013</td>\n",
              "</tr>\n",
              "<tr>\n",
              "  <th>Organic_Searches_2M_ago</th>                               <td>   -0.0604</td> <td>    0.059</td> <td>   -1.032</td> <td> 0.302</td> <td>   -0.175</td> <td>    0.054</td>\n",
              "</tr>\n",
              "<tr>\n",
              "  <th>New_Users_2M_ago</th>                                      <td>    0.0347</td> <td>    0.048</td> <td>    0.716</td> <td> 0.474</td> <td>   -0.060</td> <td>    0.130</td>\n",
              "</tr>\n",
              "<tr>\n",
              "  <th>Number_of_Sessions_per_User_2M_ago</th>                    <td>    0.0796</td> <td>    0.046</td> <td>    1.713</td> <td> 0.087</td> <td>   -0.012</td> <td>    0.171</td>\n",
              "</tr>\n",
              "<tr>\n",
              "  <th>Users_2M_ago</th>                                          <td>    0.0261</td> <td>    0.030</td> <td>    0.877</td> <td> 0.381</td> <td>   -0.032</td> <td>    0.084</td>\n",
              "</tr>\n",
              "<tr>\n",
              "  <th>Weighted_Avg_Time_on_Page_2M_ago</th>                      <td> 8.142e-05</td> <td>    0.000</td> <td>    0.334</td> <td> 0.738</td> <td>   -0.000</td> <td>    0.001</td>\n",
              "</tr>\n",
              "<tr>\n",
              "  <th>Page_Views_Current_and_Past_2_Months</th>                  <td>    0.0021</td> <td>    0.006</td> <td>    0.372</td> <td> 0.710</td> <td>   -0.009</td> <td>    0.013</td>\n",
              "</tr>\n",
              "<tr>\n",
              "  <th>Organic_Searches_Current_and_Past_2_Months</th>            <td>   -0.0030</td> <td>    0.025</td> <td>   -0.118</td> <td> 0.906</td> <td>   -0.053</td> <td>    0.047</td>\n",
              "</tr>\n",
              "<tr>\n",
              "  <th>New_Users_Current_and_Past_2_Months</th>                   <td>   -0.0158</td> <td>    0.021</td> <td>   -0.747</td> <td> 0.455</td> <td>   -0.057</td> <td>    0.026</td>\n",
              "</tr>\n",
              "<tr>\n",
              "  <th>Number_of_Sessions_per_User_Current_and_Past_2_Months</th> <td>   -0.0060</td> <td>    0.020</td> <td>   -0.300</td> <td> 0.764</td> <td>   -0.045</td> <td>    0.033</td>\n",
              "</tr>\n",
              "<tr>\n",
              "  <th>Users_Current_and_Past_2_Months</th>                       <td>    0.0160</td> <td>    0.011</td> <td>    1.432</td> <td> 0.152</td> <td>   -0.006</td> <td>    0.038</td>\n",
              "</tr>\n",
              "<tr>\n",
              "  <th>Weighted_Avg_Time_on_Page_Current_and_Past_2_Months</th>   <td>    0.0004</td> <td>    0.000</td> <td>    3.074</td> <td> 0.002</td> <td>    0.000</td> <td>    0.001</td>\n",
              "</tr>\n",
              "</table>\n",
              "<table class=\"simpletable\">\n",
              "<tr>\n",
              "  <th>Omnibus:</th>       <td>2877.005</td> <th>  Durbin-Watson:     </th>  <td>   1.276</td>  \n",
              "</tr>\n",
              "<tr>\n",
              "  <th>Prob(Omnibus):</th>  <td> 0.000</td>  <th>  Jarque-Bera (JB):  </th> <td>1204358.020</td>\n",
              "</tr>\n",
              "<tr>\n",
              "  <th>Skew:</th>           <td> 9.193</td>  <th>  Prob(JB):          </th>  <td>    0.00</td>  \n",
              "</tr>\n",
              "<tr>\n",
              "  <th>Kurtosis:</th>       <td>125.094</td> <th>  Cond. No.          </th>  <td>8.72e+17</td>  \n",
              "</tr>\n",
              "</table><br/><br/>Warnings:<br/>[1] Standard Errors assume that the covariance matrix of the errors is correctly specified.<br/>[2] The smallest eigenvalue is 3.19e-28. This might indicate that there are<br/>strong multicollinearity problems or that the design matrix is singular."
            ],
            "text/plain": [
              "<class 'statsmodels.iolib.summary.Summary'>\n",
              "\"\"\"\n",
              "                                 OLS Regression Results                                \n",
              "=======================================================================================\n",
              "Dep. Variable:               Qty_Sold   R-squared (uncentered):                   0.037\n",
              "Model:                            OLS   Adj. R-squared (uncentered):              0.028\n",
              "Method:                 Least Squares   F-statistic:                              4.037\n",
              "Date:                Sat, 23 Oct 2021   Prob (F-statistic):                    2.43e-08\n",
              "Time:                        02:51:01   Log-Likelihood:                         -3702.8\n",
              "No. Observations:                1896   AIC:                                      7442.\n",
              "Df Residuals:                    1878   BIC:                                      7541.\n",
              "Df Model:                          18                                                  \n",
              "Covariance Type:            nonrobust                                                  \n",
              "=========================================================================================================================\n",
              "                                                            coef    std err          t      P>|t|      [0.025      0.975]\n",
              "-------------------------------------------------------------------------------------------------------------------------\n",
              "Page_Views                                                0.0075      0.012      0.617      0.538      -0.016       0.031\n",
              "Organic_Searches                                          0.0069      0.056      0.124      0.901      -0.103       0.117\n",
              "New_Users                                                -0.0149      0.047     -0.314      0.753      -0.107       0.078\n",
              "Number_of_Sessions_per_User                              -0.0002      0.043     -0.005      0.996      -0.084       0.084\n",
              "Users                                                    -0.0010      0.029     -0.032      0.974      -0.059       0.057\n",
              "Weighted_Avg_Time_on_Page                                 0.0002      0.000      1.040      0.298      -0.000       0.001\n",
              "Page_Views_1M_ago                                         0.0317      0.013      2.523      0.012       0.007       0.056\n",
              "Organic_Searches_1M_ago                                   0.0505      0.062      0.814      0.416      -0.071       0.172\n",
              "New_Users_1M_ago                                         -0.0357      0.051     -0.703      0.482      -0.135       0.064\n",
              "Number_of_Sessions_per_User_1M_ago                       -0.0854      0.047     -1.809      0.071      -0.178       0.007\n",
              "Users_1M_ago                                             -0.0091      0.031     -0.293      0.770      -0.070       0.052\n",
              "Weighted_Avg_Time_on_Page_1M_ago                       2.876e-05      0.000      0.117      0.907      -0.000       0.001\n",
              "Page_Views_2M_ago                                        -0.0371      0.012     -2.990      0.003      -0.061      -0.013\n",
              "Organic_Searches_2M_ago                                  -0.0604      0.059     -1.032      0.302      -0.175       0.054\n",
              "New_Users_2M_ago                                          0.0347      0.048      0.716      0.474      -0.060       0.130\n",
              "Number_of_Sessions_per_User_2M_ago                        0.0796      0.046      1.713      0.087      -0.012       0.171\n",
              "Users_2M_ago                                              0.0261      0.030      0.877      0.381      -0.032       0.084\n",
              "Weighted_Avg_Time_on_Page_2M_ago                       8.142e-05      0.000      0.334      0.738      -0.000       0.001\n",
              "Page_Views_Current_and_Past_2_Months                      0.0021      0.006      0.372      0.710      -0.009       0.013\n",
              "Organic_Searches_Current_and_Past_2_Months               -0.0030      0.025     -0.118      0.906      -0.053       0.047\n",
              "New_Users_Current_and_Past_2_Months                      -0.0158      0.021     -0.747      0.455      -0.057       0.026\n",
              "Number_of_Sessions_per_User_Current_and_Past_2_Months    -0.0060      0.020     -0.300      0.764      -0.045       0.033\n",
              "Users_Current_and_Past_2_Months                           0.0160      0.011      1.432      0.152      -0.006       0.038\n",
              "Weighted_Avg_Time_on_Page_Current_and_Past_2_Months       0.0004      0.000      3.074      0.002       0.000       0.001\n",
              "==============================================================================\n",
              "Omnibus:                     2877.005   Durbin-Watson:                   1.276\n",
              "Prob(Omnibus):                  0.000   Jarque-Bera (JB):          1204358.020\n",
              "Skew:                           9.193   Prob(JB):                         0.00\n",
              "Kurtosis:                     125.094   Cond. No.                     8.72e+17\n",
              "==============================================================================\n",
              "\n",
              "Warnings:\n",
              "[1] Standard Errors assume that the covariance matrix of the errors is correctly specified.\n",
              "[2] The smallest eigenvalue is 3.19e-28. This might indicate that there are\n",
              "strong multicollinearity problems or that the design matrix is singular.\n",
              "\"\"\""
            ]
          },
          "metadata": {},
          "execution_count": 66
        }
      ]
    },
    {
      "cell_type": "markdown",
      "metadata": {
        "id": "moBvZBzVShnO"
      },
      "source": [
        "As we can see from the output above, there are a few variables that are statistically significant at $\\alpha = 0.05$, namely: \n",
        "\n",
        "- Page Views (1 Month ago)\n",
        "- Page Views (2 Months ago)\n",
        "- Weighted Avg Time on Page (Current and past 2 months ago)\n",
        "\n",
        "The $R^2$ tells us the goodness of fit of the model, which is equal to 0.037, which shows that the Multiple Linear Regression is not a good fit. "
      ]
    },
    {
      "cell_type": "markdown",
      "metadata": {
        "id": "B-vlZNDyM6Wt"
      },
      "source": [
        "### Correlogram & Using SK Learn (EXTRA)\n",
        "\n",
        "We will use the Correlogram to see if there are any relationships between the descriptive features"
      ]
    },
    {
      "cell_type": "code",
      "metadata": {
        "id": "BChwQWWjDomW"
      },
      "source": [
        "## THIS WILL TAKE A COUPLE OF MINUTES TO RUN\n",
        "\n",
        "# X = data.iloc[:,1:]\n",
        "\n",
        "# sns.pairplot(X, kind=\"reg\")\n",
        "# plt.show()\n",
        "\n",
        "## SK LEARN\n",
        "\n",
        "#x_var = data[['Page Views', 'Organic Searches', 'New Users', 'Avg. Time on Page','Number of Sessions per User', 'Users', 'avg*sum', 'Weighted Avg Time on Page', 'Page Views_1M_ago', 'Organic Searches_1M_ago', 'New Users_1M_ago', 'Avg. Time on Page_1M_ago', 'Number of Sessions per User_1M_ago',\n",
        "#'Users_1M_ago', 'avg*sum_1M_ago', 'Weighted Avg Time on Page_1M_ago', 'Page Views_2M_ago', 'Organic Searches_2M_ago', 'New Users_2M_ago', 'Avg. Time on Page_2M_ago', 'Number of Sessions per User_2M_ago', 'Users_2M_ago', 'avg*sum_2M_ago', 'Weighted Avg Time on Page_2M_ago']]\n",
        "# y_var = data['Qty Sold']\n",
        "# X_train, X_test, y_train, y_test = train_test_split(x_var, y_var, test_size = 0.3, random_state = 999) # set random_state for reproducibility\n",
        "\n",
        "# lr = sk.linear_model.LinearRegression()\n",
        "# model = lr.fit(X_train, y_train)\n",
        "\n",
        "# yhat = model.predict(X_test)\n",
        "# print('R-Squared :', lr.score(X_test, y_test))"
      ],
      "execution_count": null,
      "outputs": []
    },
    {
      "cell_type": "markdown",
      "metadata": {
        "id": "OD2J6OgATRt1"
      },
      "source": [
        "# Poisson Regression\n",
        "\n",
        "First we will split the data into train-test sets.\n",
        "\n",
        "Use this link: https://timeseriesreasoning.com/contents/poisson-regression-model/"
      ]
    },
    {
      "cell_type": "code",
      "metadata": {
        "colab": {
          "base_uri": "https://localhost:8080/"
        },
        "id": "C7zlEBsITtyO",
        "outputId": "71091665-bba1-4529-ac6a-571cfcc5bca5"
      },
      "source": [
        "np.random.seed(0) # set random seed for reproducibility\n",
        "mask = np.random.rand(len(data)) < 0.8\n",
        "data_train = data[mask]\n",
        "data_test = data[~mask]\n",
        "print('Training data set length='+str(len(data_train)))\n",
        "print('Testing data set length='+str(len(data_test)))"
      ],
      "execution_count": null,
      "outputs": [
        {
          "output_type": "stream",
          "name": "stdout",
          "text": [
            "Training data set length=1487\n",
            "Testing data set length=409\n"
          ]
        }
      ]
    },
    {
      "cell_type": "code",
      "metadata": {
        "colab": {
          "base_uri": "https://localhost:8080/",
          "height": 439
        },
        "id": "7Rg2d5fHiMul",
        "outputId": "82dab98c-ab61-410d-c769-ccacbd47303d"
      },
      "source": [
        "data_train"
      ],
      "execution_count": null,
      "outputs": [
        {
          "output_type": "execute_result",
          "data": {
            "text/html": [
              "<div>\n",
              "<style scoped>\n",
              "    .dataframe tbody tr th:only-of-type {\n",
              "        vertical-align: middle;\n",
              "    }\n",
              "\n",
              "    .dataframe tbody tr th {\n",
              "        vertical-align: top;\n",
              "    }\n",
              "\n",
              "    .dataframe thead th {\n",
              "        text-align: right;\n",
              "    }\n",
              "</style>\n",
              "<table border=\"1\" class=\"dataframe\">\n",
              "  <thead>\n",
              "    <tr style=\"text-align: right;\">\n",
              "      <th></th>\n",
              "      <th>Qty_Sold</th>\n",
              "      <th>Page_Views</th>\n",
              "      <th>Organic_Searches</th>\n",
              "      <th>New_Users</th>\n",
              "      <th>Number_of_Sessions_per_User</th>\n",
              "      <th>Users</th>\n",
              "      <th>Weighted_Avg_Time_on_Page</th>\n",
              "      <th>Page_Views_1M_ago</th>\n",
              "      <th>Organic_Searches_1M_ago</th>\n",
              "      <th>New_Users_1M_ago</th>\n",
              "      <th>Number_of_Sessions_per_User_1M_ago</th>\n",
              "      <th>Users_1M_ago</th>\n",
              "      <th>Weighted_Avg_Time_on_Page_1M_ago</th>\n",
              "      <th>Page_Views_2M_ago</th>\n",
              "      <th>Organic_Searches_2M_ago</th>\n",
              "      <th>New_Users_2M_ago</th>\n",
              "      <th>Number_of_Sessions_per_User_2M_ago</th>\n",
              "      <th>Users_2M_ago</th>\n",
              "      <th>Weighted_Avg_Time_on_Page_2M_ago</th>\n",
              "      <th>Page_Views_Current_and_Past_2_Months</th>\n",
              "      <th>Organic_Searches_Current_and_Past_2_Months</th>\n",
              "      <th>New_Users_Current_and_Past_2_Months</th>\n",
              "      <th>Number_of_Sessions_per_User_Current_and_Past_2_Months</th>\n",
              "      <th>Users_Current_and_Past_2_Months</th>\n",
              "      <th>Weighted_Avg_Time_on_Page_Current_and_Past_2_Months</th>\n",
              "    </tr>\n",
              "  </thead>\n",
              "  <tbody>\n",
              "    <tr>\n",
              "      <th>0</th>\n",
              "      <td>0.0</td>\n",
              "      <td>1.0</td>\n",
              "      <td>1.0</td>\n",
              "      <td>1.0</td>\n",
              "      <td>1.0</td>\n",
              "      <td>1.0</td>\n",
              "      <td>0.000000</td>\n",
              "      <td>0.0</td>\n",
              "      <td>0.0</td>\n",
              "      <td>0.0</td>\n",
              "      <td>0.0</td>\n",
              "      <td>0.0</td>\n",
              "      <td>0.0</td>\n",
              "      <td>0.0</td>\n",
              "      <td>0.0</td>\n",
              "      <td>0.0</td>\n",
              "      <td>0.0</td>\n",
              "      <td>0.0</td>\n",
              "      <td>0.0</td>\n",
              "      <td>1.0</td>\n",
              "      <td>1.0</td>\n",
              "      <td>1.0</td>\n",
              "      <td>1.0</td>\n",
              "      <td>1.0</td>\n",
              "      <td>0.000000</td>\n",
              "    </tr>\n",
              "    <tr>\n",
              "      <th>1</th>\n",
              "      <td>0.0</td>\n",
              "      <td>0.0</td>\n",
              "      <td>0.0</td>\n",
              "      <td>0.0</td>\n",
              "      <td>0.0</td>\n",
              "      <td>0.0</td>\n",
              "      <td>0.000000</td>\n",
              "      <td>1.0</td>\n",
              "      <td>1.0</td>\n",
              "      <td>1.0</td>\n",
              "      <td>1.0</td>\n",
              "      <td>1.0</td>\n",
              "      <td>0.0</td>\n",
              "      <td>0.0</td>\n",
              "      <td>0.0</td>\n",
              "      <td>0.0</td>\n",
              "      <td>0.0</td>\n",
              "      <td>0.0</td>\n",
              "      <td>0.0</td>\n",
              "      <td>1.0</td>\n",
              "      <td>1.0</td>\n",
              "      <td>1.0</td>\n",
              "      <td>1.0</td>\n",
              "      <td>1.0</td>\n",
              "      <td>0.000000</td>\n",
              "    </tr>\n",
              "    <tr>\n",
              "      <th>2</th>\n",
              "      <td>0.0</td>\n",
              "      <td>1.0</td>\n",
              "      <td>1.0</td>\n",
              "      <td>1.0</td>\n",
              "      <td>1.0</td>\n",
              "      <td>1.0</td>\n",
              "      <td>0.000000</td>\n",
              "      <td>0.0</td>\n",
              "      <td>0.0</td>\n",
              "      <td>0.0</td>\n",
              "      <td>0.0</td>\n",
              "      <td>0.0</td>\n",
              "      <td>0.0</td>\n",
              "      <td>1.0</td>\n",
              "      <td>1.0</td>\n",
              "      <td>1.0</td>\n",
              "      <td>1.0</td>\n",
              "      <td>1.0</td>\n",
              "      <td>0.0</td>\n",
              "      <td>2.0</td>\n",
              "      <td>2.0</td>\n",
              "      <td>2.0</td>\n",
              "      <td>2.0</td>\n",
              "      <td>2.0</td>\n",
              "      <td>0.000000</td>\n",
              "    </tr>\n",
              "    <tr>\n",
              "      <th>3</th>\n",
              "      <td>0.0</td>\n",
              "      <td>1.0</td>\n",
              "      <td>1.0</td>\n",
              "      <td>1.0</td>\n",
              "      <td>1.0</td>\n",
              "      <td>1.0</td>\n",
              "      <td>216.000000</td>\n",
              "      <td>1.0</td>\n",
              "      <td>1.0</td>\n",
              "      <td>1.0</td>\n",
              "      <td>1.0</td>\n",
              "      <td>1.0</td>\n",
              "      <td>0.0</td>\n",
              "      <td>0.0</td>\n",
              "      <td>0.0</td>\n",
              "      <td>0.0</td>\n",
              "      <td>0.0</td>\n",
              "      <td>0.0</td>\n",
              "      <td>0.0</td>\n",
              "      <td>2.0</td>\n",
              "      <td>2.0</td>\n",
              "      <td>2.0</td>\n",
              "      <td>2.0</td>\n",
              "      <td>2.0</td>\n",
              "      <td>216.000000</td>\n",
              "    </tr>\n",
              "    <tr>\n",
              "      <th>4</th>\n",
              "      <td>0.0</td>\n",
              "      <td>7.0</td>\n",
              "      <td>1.0</td>\n",
              "      <td>2.0</td>\n",
              "      <td>2.0</td>\n",
              "      <td>5.0</td>\n",
              "      <td>153.285714</td>\n",
              "      <td>1.0</td>\n",
              "      <td>1.0</td>\n",
              "      <td>1.0</td>\n",
              "      <td>1.0</td>\n",
              "      <td>1.0</td>\n",
              "      <td>216.0</td>\n",
              "      <td>1.0</td>\n",
              "      <td>1.0</td>\n",
              "      <td>1.0</td>\n",
              "      <td>1.0</td>\n",
              "      <td>1.0</td>\n",
              "      <td>0.0</td>\n",
              "      <td>9.0</td>\n",
              "      <td>3.0</td>\n",
              "      <td>4.0</td>\n",
              "      <td>4.0</td>\n",
              "      <td>7.0</td>\n",
              "      <td>369.285714</td>\n",
              "    </tr>\n",
              "    <tr>\n",
              "      <th>...</th>\n",
              "      <td>...</td>\n",
              "      <td>...</td>\n",
              "      <td>...</td>\n",
              "      <td>...</td>\n",
              "      <td>...</td>\n",
              "      <td>...</td>\n",
              "      <td>...</td>\n",
              "      <td>...</td>\n",
              "      <td>...</td>\n",
              "      <td>...</td>\n",
              "      <td>...</td>\n",
              "      <td>...</td>\n",
              "      <td>...</td>\n",
              "      <td>...</td>\n",
              "      <td>...</td>\n",
              "      <td>...</td>\n",
              "      <td>...</td>\n",
              "      <td>...</td>\n",
              "      <td>...</td>\n",
              "      <td>...</td>\n",
              "      <td>...</td>\n",
              "      <td>...</td>\n",
              "      <td>...</td>\n",
              "      <td>...</td>\n",
              "      <td>...</td>\n",
              "    </tr>\n",
              "    <tr>\n",
              "      <th>1889</th>\n",
              "      <td>0.0</td>\n",
              "      <td>0.0</td>\n",
              "      <td>0.0</td>\n",
              "      <td>0.0</td>\n",
              "      <td>0.0</td>\n",
              "      <td>0.0</td>\n",
              "      <td>0.000000</td>\n",
              "      <td>0.0</td>\n",
              "      <td>0.0</td>\n",
              "      <td>0.0</td>\n",
              "      <td>0.0</td>\n",
              "      <td>0.0</td>\n",
              "      <td>0.0</td>\n",
              "      <td>0.0</td>\n",
              "      <td>0.0</td>\n",
              "      <td>0.0</td>\n",
              "      <td>0.0</td>\n",
              "      <td>0.0</td>\n",
              "      <td>0.0</td>\n",
              "      <td>0.0</td>\n",
              "      <td>0.0</td>\n",
              "      <td>0.0</td>\n",
              "      <td>0.0</td>\n",
              "      <td>0.0</td>\n",
              "      <td>0.000000</td>\n",
              "    </tr>\n",
              "    <tr>\n",
              "      <th>1891</th>\n",
              "      <td>0.0</td>\n",
              "      <td>0.0</td>\n",
              "      <td>0.0</td>\n",
              "      <td>0.0</td>\n",
              "      <td>0.0</td>\n",
              "      <td>0.0</td>\n",
              "      <td>0.000000</td>\n",
              "      <td>0.0</td>\n",
              "      <td>0.0</td>\n",
              "      <td>0.0</td>\n",
              "      <td>0.0</td>\n",
              "      <td>0.0</td>\n",
              "      <td>0.0</td>\n",
              "      <td>0.0</td>\n",
              "      <td>0.0</td>\n",
              "      <td>0.0</td>\n",
              "      <td>0.0</td>\n",
              "      <td>0.0</td>\n",
              "      <td>0.0</td>\n",
              "      <td>0.0</td>\n",
              "      <td>0.0</td>\n",
              "      <td>0.0</td>\n",
              "      <td>0.0</td>\n",
              "      <td>0.0</td>\n",
              "      <td>0.000000</td>\n",
              "    </tr>\n",
              "    <tr>\n",
              "      <th>1893</th>\n",
              "      <td>0.0</td>\n",
              "      <td>0.0</td>\n",
              "      <td>0.0</td>\n",
              "      <td>0.0</td>\n",
              "      <td>0.0</td>\n",
              "      <td>0.0</td>\n",
              "      <td>0.000000</td>\n",
              "      <td>0.0</td>\n",
              "      <td>0.0</td>\n",
              "      <td>0.0</td>\n",
              "      <td>0.0</td>\n",
              "      <td>0.0</td>\n",
              "      <td>0.0</td>\n",
              "      <td>0.0</td>\n",
              "      <td>0.0</td>\n",
              "      <td>0.0</td>\n",
              "      <td>0.0</td>\n",
              "      <td>0.0</td>\n",
              "      <td>0.0</td>\n",
              "      <td>0.0</td>\n",
              "      <td>0.0</td>\n",
              "      <td>0.0</td>\n",
              "      <td>0.0</td>\n",
              "      <td>0.0</td>\n",
              "      <td>0.000000</td>\n",
              "    </tr>\n",
              "    <tr>\n",
              "      <th>1894</th>\n",
              "      <td>0.0</td>\n",
              "      <td>0.0</td>\n",
              "      <td>0.0</td>\n",
              "      <td>0.0</td>\n",
              "      <td>0.0</td>\n",
              "      <td>0.0</td>\n",
              "      <td>0.000000</td>\n",
              "      <td>0.0</td>\n",
              "      <td>0.0</td>\n",
              "      <td>0.0</td>\n",
              "      <td>0.0</td>\n",
              "      <td>0.0</td>\n",
              "      <td>0.0</td>\n",
              "      <td>0.0</td>\n",
              "      <td>0.0</td>\n",
              "      <td>0.0</td>\n",
              "      <td>0.0</td>\n",
              "      <td>0.0</td>\n",
              "      <td>0.0</td>\n",
              "      <td>0.0</td>\n",
              "      <td>0.0</td>\n",
              "      <td>0.0</td>\n",
              "      <td>0.0</td>\n",
              "      <td>0.0</td>\n",
              "      <td>0.000000</td>\n",
              "    </tr>\n",
              "    <tr>\n",
              "      <th>1895</th>\n",
              "      <td>0.0</td>\n",
              "      <td>0.0</td>\n",
              "      <td>0.0</td>\n",
              "      <td>0.0</td>\n",
              "      <td>0.0</td>\n",
              "      <td>0.0</td>\n",
              "      <td>0.000000</td>\n",
              "      <td>0.0</td>\n",
              "      <td>0.0</td>\n",
              "      <td>0.0</td>\n",
              "      <td>0.0</td>\n",
              "      <td>0.0</td>\n",
              "      <td>0.0</td>\n",
              "      <td>0.0</td>\n",
              "      <td>0.0</td>\n",
              "      <td>0.0</td>\n",
              "      <td>0.0</td>\n",
              "      <td>0.0</td>\n",
              "      <td>0.0</td>\n",
              "      <td>0.0</td>\n",
              "      <td>0.0</td>\n",
              "      <td>0.0</td>\n",
              "      <td>0.0</td>\n",
              "      <td>0.0</td>\n",
              "      <td>0.000000</td>\n",
              "    </tr>\n",
              "  </tbody>\n",
              "</table>\n",
              "<p>1487 rows × 25 columns</p>\n",
              "</div>"
            ],
            "text/plain": [
              "      Qty_Sold  ...  Weighted_Avg_Time_on_Page_Current_and_Past_2_Months\n",
              "0          0.0  ...                                           0.000000  \n",
              "1          0.0  ...                                           0.000000  \n",
              "2          0.0  ...                                           0.000000  \n",
              "3          0.0  ...                                         216.000000  \n",
              "4          0.0  ...                                         369.285714  \n",
              "...        ...  ...                                                ...  \n",
              "1889       0.0  ...                                           0.000000  \n",
              "1891       0.0  ...                                           0.000000  \n",
              "1893       0.0  ...                                           0.000000  \n",
              "1894       0.0  ...                                           0.000000  \n",
              "1895       0.0  ...                                           0.000000  \n",
              "\n",
              "[1487 rows x 25 columns]"
            ]
          },
          "metadata": {},
          "execution_count": 69
        }
      ]
    },
    {
      "cell_type": "markdown",
      "metadata": {
        "id": "NYBztu4zh9rW"
      },
      "source": [
        "Now to set up the modelling step, we will define the X variables and Y variable of our model defined as `expr`. \n",
        "\n",
        "Two models will be fitted: \n",
        "\n",
        "1. The first model will have the web metrics from current month, 1 month ago and 2 months ago as **separate columns**.\n",
        "\n",
        "2. The second model will use 6 engineered features - which are the sum of the individual web metrics from all 3 months in **one column**."
      ]
    },
    {
      "cell_type": "code",
      "metadata": {
        "colab": {
          "base_uri": "https://localhost:8080/"
        },
        "id": "nRAmFBTNtdHB",
        "outputId": "75abea11-3da1-4ab6-fb7c-02175b3a8860"
      },
      "source": [
        "data_train.columns"
      ],
      "execution_count": null,
      "outputs": [
        {
          "output_type": "execute_result",
          "data": {
            "text/plain": [
              "Index(['Qty_Sold', 'Page_Views', 'Organic_Searches', 'New_Users',\n",
              "       'Number_of_Sessions_per_User', 'Users', 'Weighted_Avg_Time_on_Page',\n",
              "       'Page_Views_1M_ago', 'Organic_Searches_1M_ago', 'New_Users_1M_ago',\n",
              "       'Number_of_Sessions_per_User_1M_ago', 'Users_1M_ago',\n",
              "       'Weighted_Avg_Time_on_Page_1M_ago', 'Page_Views_2M_ago',\n",
              "       'Organic_Searches_2M_ago', 'New_Users_2M_ago',\n",
              "       'Number_of_Sessions_per_User_2M_ago', 'Users_2M_ago',\n",
              "       'Weighted_Avg_Time_on_Page_2M_ago',\n",
              "       'Page_Views_Current_and_Past_2_Months',\n",
              "       'Organic_Searches_Current_and_Past_2_Months',\n",
              "       'New_Users_Current_and_Past_2_Months',\n",
              "       'Number_of_Sessions_per_User_Current_and_Past_2_Months',\n",
              "       'Users_Current_and_Past_2_Months',\n",
              "       'Weighted_Avg_Time_on_Page_Current_and_Past_2_Months'],\n",
              "      dtype='object')"
            ]
          },
          "metadata": {},
          "execution_count": 70
        }
      ]
    },
    {
      "cell_type": "code",
      "metadata": {
        "id": "Kc5FyN23rX4Z"
      },
      "source": [
        "# expr = \"\"\"Qty_Sold ~ Page_Views + Organic_Searches + New_Users +\n",
        "# Number_of_Sessions_per_User + Users + Weighted_Avg_Time_on_Page +\n",
        "# Page_Views_1M_ago + Organic_Searches_1M_ago + New_Users_1M_ago +\n",
        "# Number_of_Sessions_per_User_1M_ago + Users_1M_ago +\n",
        "# Weighted_Avg_Time_on_Page_1M_ago + Page_Views_2M_ago +\n",
        "# Organic_Searches_2M_ago + New_Users_2M_ago +\n",
        "# Number_of_Sessions_per_User_2M_ago + Users_2M_ago +\n",
        "# Weighted_Avg_Time_on_Page_2M_ago + Page_Views_Current_and_Past_2_Months + \n",
        "# Organic_Searches_Current_and_Past_2_Months + New_Users_Current_and_Past_2_Months + \n",
        "# Number_of_Sessions_per_User_Current_and_Past_2_Months +\n",
        "# Users_Current_and_Past_2_Months + Weighted_Avg_Time_on_Page_Current_and_Past_2_Months\"\"\""
      ],
      "execution_count": null,
      "outputs": []
    },
    {
      "cell_type": "markdown",
      "metadata": {
        "id": "4fqHY-c5suny"
      },
      "source": [
        "## Poisson Regression with Web Metrics - Current Month, 1 Month Ago and 2 Months Ago - As Separate Columns\n",
        "\n",
        "The first poisson regression model we will try fitting will include the web metrics all as separate descriptive features."
      ]
    },
    {
      "cell_type": "code",
      "metadata": {
        "id": "LNlCM2F_iHoM",
        "colab": {
          "base_uri": "https://localhost:8080/"
        },
        "outputId": "26920e77-1829-4f8b-fec8-1947c22034b0"
      },
      "source": [
        "expr = \"\"\"Qty_Sold ~ Page_Views + Organic_Searches + New_Users +\n",
        "Number_of_Sessions_per_User + Users + Weighted_Avg_Time_on_Page +\n",
        "Page_Views_1M_ago + Organic_Searches_1M_ago + New_Users_1M_ago +\n",
        "Number_of_Sessions_per_User_1M_ago + Users_1M_ago +\n",
        "Weighted_Avg_Time_on_Page_1M_ago + Page_Views_2M_ago +\n",
        "Organic_Searches_2M_ago + New_Users_2M_ago +\n",
        "Number_of_Sessions_per_User_2M_ago + Users_2M_ago +\n",
        "Weighted_Avg_Time_on_Page_2M_ago\"\"\"\n",
        "\n",
        "y_train, X_train = dmatrices(expr, data_train, return_type='dataframe')\n",
        "y_test, X_test = dmatrices(expr, data_test, return_type='dataframe')\n",
        "\n",
        "poisson_results = sm.GLM(y_train, X_train, family=sm.families.Poisson()).fit() # Fit the model\n",
        "\n",
        "print(poisson_results.summary())"
      ],
      "execution_count": null,
      "outputs": [
        {
          "output_type": "stream",
          "name": "stdout",
          "text": [
            "                 Generalized Linear Model Regression Results                  \n",
            "==============================================================================\n",
            "Dep. Variable:               Qty_Sold   No. Observations:                 1487\n",
            "Model:                            GLM   Df Residuals:                     1468\n",
            "Model Family:                 Poisson   Df Model:                           18\n",
            "Link Function:                    log   Scale:                          1.0000\n",
            "Method:                          IRLS   Log-Likelihood:                -1679.0\n",
            "Date:                Sat, 23 Oct 2021   Deviance:                       2822.2\n",
            "Time:                        02:51:02   Pearson chi2:                 1.08e+04\n",
            "No. Iterations:                     8                                         \n",
            "Covariance Type:            nonrobust                                         \n",
            "======================================================================================================\n",
            "                                         coef    std err          z      P>|z|      [0.025      0.975]\n",
            "------------------------------------------------------------------------------------------------------\n",
            "Intercept                             -0.9600      0.052    -18.359      0.000      -1.063      -0.858\n",
            "Page_Views                             0.0273      0.010      2.709      0.007       0.008       0.047\n",
            "Organic_Searches                       0.0756      0.081      0.933      0.351      -0.083       0.234\n",
            "New_Users                             -0.0194      0.045     -0.427      0.669      -0.108       0.070\n",
            "Number_of_Sessions_per_User           -0.1202      0.068     -1.776      0.076      -0.253       0.012\n",
            "Users                                  0.0176      0.024      0.729      0.466      -0.030       0.065\n",
            "Weighted_Avg_Time_on_Page              0.0006      0.000      2.705      0.007       0.000       0.001\n",
            "Page_Views_1M_ago                      0.0448      0.009      4.896      0.000       0.027       0.063\n",
            "Organic_Searches_1M_ago                0.0870      0.062      1.398      0.162      -0.035       0.209\n",
            "New_Users_1M_ago                      -0.0418      0.047     -0.891      0.373      -0.134       0.050\n",
            "Number_of_Sessions_per_User_1M_ago    -0.2536      0.068     -3.749      0.000      -0.386      -0.121\n",
            "Users_1M_ago                          -0.0134      0.033     -0.409      0.682      -0.077       0.051\n",
            "Weighted_Avg_Time_on_Page_1M_ago      -0.0012      0.000     -2.841      0.005      -0.002      -0.000\n",
            "Page_Views_2M_ago                     -0.1104      0.031     -3.556      0.000      -0.171      -0.050\n",
            "Organic_Searches_2M_ago               -0.2477      0.077     -3.209      0.001      -0.399      -0.096\n",
            "New_Users_2M_ago                       0.0390      0.041      0.947      0.344      -0.042       0.120\n",
            "Number_of_Sessions_per_User_2M_ago     0.1821      0.059      3.101      0.002       0.067       0.297\n",
            "Users_2M_ago                           0.1412      0.047      3.005      0.003       0.049       0.233\n",
            "Weighted_Avg_Time_on_Page_2M_ago    2.397e-05      0.000      0.078      0.938      -0.001       0.001\n",
            "======================================================================================================\n"
          ]
        }
      ]
    },
    {
      "cell_type": "markdown",
      "metadata": {
        "id": "4Jl53_UWnu13"
      },
      "source": [
        "As we can see from the output above, there are a independebt variables that have statistically significant coefficients at $\\alpha = 0.05$, namely: \n",
        "\n",
        "- The Intercept\n",
        "- Page Views\n",
        "- Weighted Average Time on Page\n",
        "- Page Views (1 Month Ago)\n",
        "- Number of Sessions per User (1 Month Ago)\n",
        "- Weighted Average Time on Page (1 Month Ago)\n",
        "- Page Views (2 Months Ago)\n",
        "- Organic Searches (2 Months Ago)\n",
        "- Number of Sessions per User (2 Months Ago)\n",
        "- Users (2 Months Ago)\n",
        "\n",
        "Now we will iteratively remove the insignificant X variables from the model before using the trained model and predict the Quantity Sold in the test dataset. To evaluate the goodness of fit, we will also plot the predicted values against the actual values."
      ]
    },
    {
      "cell_type": "code",
      "metadata": {
        "colab": {
          "base_uri": "https://localhost:8080/"
        },
        "id": "_GWXk7Xg1dNi",
        "outputId": "c3790663-99e8-4413-ec83-9f184099e777"
      },
      "source": [
        "expr = \"\"\"Qty_Sold ~ Page_Views +  Weighted_Avg_Time_on_Page +\n",
        "Page_Views_1M_ago + Number_of_Sessions_per_User_1M_ago + Weighted_Avg_Time_on_Page_1M_ago + \n",
        "Page_Views_2M_ago + Organic_Searches_2M_ago + Number_of_Sessions_per_User_2M_ago + Users_2M_ago\"\"\"\n",
        "\n",
        "y_train, X_train = dmatrices(expr, data_train, return_type='dataframe')\n",
        "y_test, X_test = dmatrices(expr, data_test, return_type='dataframe')\n",
        "\n",
        "poisson_results = sm.GLM(y_train, X_train, family=sm.families.Poisson()).fit() # Fit the model\n",
        "\n",
        "print(poisson_results.summary())"
      ],
      "execution_count": null,
      "outputs": [
        {
          "output_type": "stream",
          "name": "stdout",
          "text": [
            "                 Generalized Linear Model Regression Results                  \n",
            "==============================================================================\n",
            "Dep. Variable:               Qty_Sold   No. Observations:                 1487\n",
            "Model:                            GLM   Df Residuals:                     1477\n",
            "Model Family:                 Poisson   Df Model:                            9\n",
            "Link Function:                    log   Scale:                          1.0000\n",
            "Method:                          IRLS   Log-Likelihood:                -1683.1\n",
            "Date:                Sat, 23 Oct 2021   Deviance:                       2830.6\n",
            "Time:                        02:51:02   Pearson chi2:                 1.10e+04\n",
            "No. Iterations:                     7                                         \n",
            "Covariance Type:            nonrobust                                         \n",
            "======================================================================================================\n",
            "                                         coef    std err          z      P>|z|      [0.025      0.975]\n",
            "------------------------------------------------------------------------------------------------------\n",
            "Intercept                             -0.9714      0.051    -19.214      0.000      -1.070      -0.872\n",
            "Page_Views                             0.0190      0.005      3.497      0.000       0.008       0.030\n",
            "Weighted_Avg_Time_on_Page              0.0007      0.000      2.858      0.004       0.000       0.001\n",
            "Page_Views_1M_ago                      0.0390      0.005      7.291      0.000       0.029       0.049\n",
            "Number_of_Sessions_per_User_1M_ago    -0.2439      0.049     -4.995      0.000      -0.340      -0.148\n",
            "Weighted_Avg_Time_on_Page_1M_ago      -0.0013      0.000     -3.161      0.002      -0.002      -0.001\n",
            "Page_Views_2M_ago                     -0.1095      0.029     -3.722      0.000      -0.167      -0.052\n",
            "Organic_Searches_2M_ago               -0.2142      0.067     -3.190      0.001      -0.346      -0.083\n",
            "Number_of_Sessions_per_User_2M_ago     0.1737      0.056      3.112      0.002       0.064       0.283\n",
            "Users_2M_ago                           0.1526      0.037      4.081      0.000       0.079       0.226\n",
            "======================================================================================================\n"
          ]
        }
      ]
    },
    {
      "cell_type": "markdown",
      "metadata": {
        "id": "AywS7xH11dNq"
      },
      "source": [
        "As we can see from the output above, there are no more insignificant X variables in the model.\n",
        "\n",
        "From the two plots below, the model is not a very good fit as the predicted counts are quite far off the actual counts. Hence, we can conclude that there are no relationship between the Web Metrics and Quantity Sold for DiGiCOR."
      ]
    },
    {
      "cell_type": "code",
      "metadata": {
        "colab": {
          "base_uri": "https://localhost:8080/",
          "height": 417
        },
        "id": "NTygrpg11dNr",
        "outputId": "27123f85-539c-4a49-a2d1-d0eb01ef3117"
      },
      "source": [
        "poisson_predictions = poisson_results.get_prediction(X_test)\n",
        "#summary_frame() returns a pandas DataFrame\n",
        "predictions_summary_frame = poisson_predictions.summary_frame()\n",
        "\n",
        "predicted_counts = predictions_summary_frame['mean']\n",
        "actual_counts = y_test['Qty_Sold']\n",
        "fig = plt.figure(figsize=(8, 6)) # Control plot size (length, height)\n",
        "fig.suptitle('Predicted Versus Actual Quantity Sold')\n",
        "predicted, = plt.plot(X_test.index, predicted_counts, 'go-', label='Predicted counts')\n",
        "actual, = plt.plot(X_test.index, actual_counts, 'ro-', label='Actual counts')\n",
        "plt.legend(handles=[predicted, actual])\n",
        "plt.show()\n",
        "#fig.savefig('Predicted versus actual Qty Sold.png', bbox_inches='tight')"
      ],
      "execution_count": null,
      "outputs": [
        {
          "output_type": "display_data",
          "data": {
            "image/png": "[encoded data removed]",
            "text/plain": [
              "<Figure size 576x432 with 1 Axes>"
            ]
          },
          "metadata": {
            "needs_background": "light"
          }
        }
      ]
    },
    {
      "cell_type": "code",
      "metadata": {
        "colab": {
          "base_uri": "https://localhost:8080/",
          "height": 294
        },
        "id": "AUQ4OdW71dNr",
        "outputId": "65487c3a-fcc2-48f0-ffc4-9c8192de556a"
      },
      "source": [
        "plt.clf()\n",
        "fig = plt.figure(figsize=(4.5, 3.5)) # Control plot size (length, height)\n",
        "fig.suptitle('Scatter plot of Actual versus Predicted counts')\n",
        "plt.scatter(x=predicted_counts, y=actual_counts, marker='.')\n",
        "plt.xlabel('Predicted counts')\n",
        "plt.ylabel('Actual counts')\n",
        "plt.show()\n",
        "#fig.savefig('Scatter plot of Actual versus Predicted counts.png', bbox_inches='tight')"
      ],
      "execution_count": null,
      "outputs": [
        {
          "output_type": "display_data",
          "data": {
            "text/plain": [
              "<Figure size 432x288 with 0 Axes>"
            ]
          },
          "metadata": {}
        },
        {
          "output_type": "display_data",
          "data": {
            "image/png": "[encoded data removed]",
            "text/plain": [
              "<Figure size 324x252 with 1 Axes>"
            ]
          },
          "metadata": {
            "needs_background": "light"
          }
        }
      ]
    },
    {
      "cell_type": "markdown",
      "metadata": {
        "id": "Mpc3wB7K2_Zw"
      },
      "source": [
        "## Poisson Regression with Web Metrics - Current Month, 1 Month Ago and 2 Months Ago - As One Column \n",
        "\n",
        "Next, we will try creating a poisson model with the current and past 2 months summed in one column."
      ]
    },
    {
      "cell_type": "code",
      "metadata": {
        "colab": {
          "base_uri": "https://localhost:8080/"
        },
        "id": "n_68LHqP1vQP",
        "outputId": "416bbe3d-86ca-43f3-d474-b4808f714431"
      },
      "source": [
        "expr = \"\"\"Qty_Sold ~ Page_Views_Current_and_Past_2_Months + \n",
        "Organic_Searches_Current_and_Past_2_Months + \n",
        "New_Users_Current_and_Past_2_Months + \n",
        "Number_of_Sessions_per_User_Current_and_Past_2_Months + \n",
        "Users_Current_and_Past_2_Months + \n",
        "Weighted_Avg_Time_on_Page_Current_and_Past_2_Months\"\"\"\n",
        "\n",
        "# The Intercept\n",
        "# Page Views\n",
        "# Page Views (1 Month Ago)\n",
        "# Number of Sessions per User (1 Month Ago)\n",
        "\n",
        "y_train, X_train = dmatrices(expr, data_train, return_type='dataframe')\n",
        "y_test, X_test = dmatrices(expr, data_test, return_type='dataframe')\n",
        "\n",
        "poisson_results = sm.GLM(y_train, X_train, family=sm.families.Poisson()).fit() # Fit the model\n",
        "\n",
        "print(poisson_results.summary())"
      ],
      "execution_count": null,
      "outputs": [
        {
          "output_type": "stream",
          "name": "stdout",
          "text": [
            "                 Generalized Linear Model Regression Results                  \n",
            "==============================================================================\n",
            "Dep. Variable:               Qty_Sold   No. Observations:                 1487\n",
            "Model:                            GLM   Df Residuals:                     1480\n",
            "Model Family:                 Poisson   Df Model:                            6\n",
            "Link Function:                    log   Scale:                          1.0000\n",
            "Method:                          IRLS   Log-Likelihood:                -1720.0\n",
            "Date:                Sat, 23 Oct 2021   Deviance:                       2904.3\n",
            "Time:                        02:51:02   Pearson chi2:                 1.14e+04\n",
            "No. Iterations:                     6                                         \n",
            "Covariance Type:            nonrobust                                         \n",
            "=========================================================================================================================\n",
            "                                                            coef    std err          z      P>|z|      [0.025      0.975]\n",
            "-------------------------------------------------------------------------------------------------------------------------\n",
            "Intercept                                                -0.9490      0.052    -18.376      0.000      -1.050      -0.848\n",
            "Page_Views_Current_and_Past_2_Months                      0.0180      0.005      3.629      0.000       0.008       0.028\n",
            "Organic_Searches_Current_and_Past_2_Months                0.0153      0.033      0.467      0.640      -0.049       0.079\n",
            "New_Users_Current_and_Past_2_Months                      -0.0059      0.019     -0.305      0.761      -0.044       0.032\n",
            "Number_of_Sessions_per_User_Current_and_Past_2_Months    -0.0988      0.032     -3.070      0.002      -0.162      -0.036\n",
            "Users_Current_and_Past_2_Months                           0.0130      0.011      1.143      0.253      -0.009       0.035\n",
            "Weighted_Avg_Time_on_Page_Current_and_Past_2_Months   -8.879e-05      0.000     -0.513      0.608      -0.000       0.000\n",
            "=========================================================================================================================\n"
          ]
        }
      ]
    },
    {
      "cell_type": "markdown",
      "metadata": {
        "id": "VrYqKzGH27Dx"
      },
      "source": [
        "Similar to the previous modelling process, we will iteratively remove insignificant variables."
      ]
    },
    {
      "cell_type": "code",
      "metadata": {
        "colab": {
          "base_uri": "https://localhost:8080/"
        },
        "id": "iH_RBfQJuY8X",
        "outputId": "0ecba28b-55c5-45e4-f6d2-0e3ad53a2d13"
      },
      "source": [
        "expr = \"\"\"Qty_Sold ~ Page_Views_Current_and_Past_2_Months +  \n",
        "Number_of_Sessions_per_User_Current_and_Past_2_Months\"\"\"\n",
        "\n",
        "y_train, X_train = dmatrices(expr, data_train, return_type='dataframe')\n",
        "y_test, X_test = dmatrices(expr, data_test, return_type='dataframe')\n",
        "\n",
        "poisson_results = sm.GLM(y_train, X_train, family=sm.families.Poisson()).fit() # Fit the model\n",
        "\n",
        "print(poisson_results.summary())"
      ],
      "execution_count": null,
      "outputs": [
        {
          "output_type": "stream",
          "name": "stdout",
          "text": [
            "                 Generalized Linear Model Regression Results                  \n",
            "==============================================================================\n",
            "Dep. Variable:               Qty_Sold   No. Observations:                 1487\n",
            "Model:                            GLM   Df Residuals:                     1484\n",
            "Model Family:                 Poisson   Df Model:                            2\n",
            "Link Function:                    log   Scale:                          1.0000\n",
            "Method:                          IRLS   Log-Likelihood:                -1721.2\n",
            "Date:                Sat, 23 Oct 2021   Deviance:                       2906.6\n",
            "Time:                        02:51:02   Pearson chi2:                 1.14e+04\n",
            "No. Iterations:                     6                                         \n",
            "Covariance Type:            nonrobust                                         \n",
            "=========================================================================================================================\n",
            "                                                            coef    std err          z      P>|z|      [0.025      0.975]\n",
            "-------------------------------------------------------------------------------------------------------------------------\n",
            "Intercept                                                -0.9447      0.046    -20.401      0.000      -1.035      -0.854\n",
            "Page_Views_Current_and_Past_2_Months                      0.0209      0.002      8.719      0.000       0.016       0.026\n",
            "Number_of_Sessions_per_User_Current_and_Past_2_Months    -0.0762      0.016     -4.865      0.000      -0.107      -0.045\n",
            "=========================================================================================================================\n"
          ]
        }
      ]
    },
    {
      "cell_type": "markdown",
      "metadata": {
        "id": "G-3PEAM-w8-h"
      },
      "source": [
        "Now to plot the actual values vs the predicted values of our new model."
      ]
    },
    {
      "cell_type": "code",
      "metadata": {
        "colab": {
          "base_uri": "https://localhost:8080/",
          "height": 417
        },
        "id": "hNq4lFFY2ziW",
        "outputId": "0f635d31-533b-4a5e-82df-7cab920fc078"
      },
      "source": [
        "poisson_predictions = poisson_results.get_prediction(X_test)\n",
        "#summary_frame() returns a pandas DataFrame\n",
        "predictions_summary_frame = poisson_predictions.summary_frame()\n",
        "\n",
        "predicted_counts = predictions_summary_frame['mean']\n",
        "actual_counts = y_test['Qty_Sold']\n",
        "fig = plt.figure(figsize = (8,6)) # Control plot size (length, height)\n",
        "fig.suptitle('Predicted Versus Actual Quantity Sold')\n",
        "predicted, = plt.plot(X_test.index, predicted_counts, 'go-', label='Predicted counts')\n",
        "actual, = plt.plot(X_test.index, actual_counts, 'ro-', label='Actual counts')\n",
        "plt.legend(handles=[predicted, actual])\n",
        "plt.show()\n",
        "#fig.savefig('Predicted versus actual Qty Sold.png', bbox_inches='tight')"
      ],
      "execution_count": null,
      "outputs": [
        {
          "output_type": "display_data",
          "data": {
            "image/png": "[encoded data removed]",
            "text/plain": [
              "<Figure size 576x432 with 1 Axes>"
            ]
          },
          "metadata": {
            "needs_background": "light"
          }
        }
      ]
    },
    {
      "cell_type": "code",
      "metadata": {
        "colab": {
          "base_uri": "https://localhost:8080/",
          "height": 294
        },
        "id": "5OzgkeG1210l",
        "outputId": "16b0528a-d76b-4efe-a67e-e655d36e9574"
      },
      "source": [
        "plt.clf()\n",
        "fig = plt.figure(figsize = (4.5, 3.5)) # Control plot size (length, height)\n",
        "fig.suptitle('Scatter plot of Actual versus Predicted counts')\n",
        "plt.scatter(x=predicted_counts, y=actual_counts, marker='.')\n",
        "plt.xlabel('Predicted counts')\n",
        "plt.ylabel('Actual counts')\n",
        "plt.show()\n",
        "#fig.savefig('Scatter plot of Actual versus Predicted counts.png', bbox_inches='tight')"
      ],
      "execution_count": null,
      "outputs": [
        {
          "output_type": "display_data",
          "data": {
            "text/plain": [
              "<Figure size 432x288 with 0 Axes>"
            ]
          },
          "metadata": {}
        },
        {
          "output_type": "display_data",
          "data": {
            "image/png": "[encoded data removed]",
            "text/plain": [
              "<Figure size 324x252 with 1 Axes>"
            ]
          },
          "metadata": {
            "needs_background": "light"
          }
        }
      ]
    },
    {
      "cell_type": "markdown",
      "metadata": {
        "id": "R3V0LxI2xJWl"
      },
      "source": [
        "As we can see in the two plots above, the new model did not do that much better than the first poisson regression model, which does not change our conclusion from the first model."
      ]
    },
    {
      "cell_type": "markdown",
      "metadata": {
        "id": "anZRxJRIys0Z"
      },
      "source": [
        "# Zero-Inflated Poisson Regression Model with Web Metrics - Current Month, 1 Month Ago and 2 Months Ago - As Separate Columns\n",
        "\n",
        "Due to the high number of '0's for our Quantity Sold (Target Variable), it is expected that the simple Poisson Regression Model was not going to be a good fit. This can be seen in the histogram below, which shows the distribution of `Qty Sold`.\n",
        "\n",
        "We will now try to fit a Zero-Inflated Poisson (ZIP) Regression model, which takes into account the high number of '0's in the target variable. Similar to the approach above, we will fit two models with ZIP.\n",
        "\n",
        "Read more about the ZIP model here: https://towardsdatascience.com/an-illustrated-guide-to-the-zero-inflated-poisson-model-b22833343057"
      ]
    },
    {
      "cell_type": "code",
      "metadata": {
        "colab": {
          "base_uri": "https://localhost:8080/",
          "height": 282
        },
        "id": "cq6tweUDeWjN",
        "outputId": "0eba98f6-11bc-4c03-9f16-b9bb8051638a"
      },
      "source": [
        "data['Qty_Sold'].hist()"
      ],
      "execution_count": null,
      "outputs": [
        {
          "output_type": "execute_result",
          "data": {
            "text/plain": [
              "<matplotlib.axes._subplots.AxesSubplot at 0x7f19161f5fd0>"
            ]
          },
          "metadata": {},
          "execution_count": 80
        },
        {
          "output_type": "display_data",
          "data": {
            "image/png": "[encoded data removed]",
            "text/plain": [
              "<Figure size 432x288 with 1 Axes>"
            ]
          },
          "metadata": {
            "needs_background": "light"
          }
        }
      ]
    },
    {
      "cell_type": "code",
      "metadata": {
        "colab": {
          "base_uri": "https://localhost:8080/"
        },
        "id": "hLvscFoDzeC7",
        "outputId": "a1e10123-2e51-434e-a4f0-9fc80e264453"
      },
      "source": [
        "expr = \"\"\"Qty_Sold ~ Page_Views + Organic_Searches + New_Users +\n",
        "Number_of_Sessions_per_User + Users + Weighted_Avg_Time_on_Page +\n",
        "Page_Views_1M_ago + Organic_Searches_1M_ago + New_Users_1M_ago +\n",
        "Number_of_Sessions_per_User_1M_ago + Users_1M_ago +\n",
        "Weighted_Avg_Time_on_Page_1M_ago + Page_Views_2M_ago +\n",
        "Organic_Searches_2M_ago + New_Users_2M_ago +\n",
        "Number_of_Sessions_per_User_2M_ago + Users_2M_ago +\n",
        "Weighted_Avg_Time_on_Page_2M_ago\"\"\"\n",
        "\n",
        "y_train, X_train = dmatrices(expr, data_train, return_type='dataframe')\n",
        "y_test, X_test = dmatrices(expr, data_test, return_type='dataframe')\n",
        "\n",
        "zip_training_results = sm.ZeroInflatedPoisson(endog=y_train, exog=X_train, exog_infl=X_train, inflation='logit').fit()\n",
        "\n",
        "print(zip_training_results.summary())"
      ],
      "execution_count": null,
      "outputs": [
        {
          "output_type": "stream",
          "name": "stderr",
          "text": [
            "/usr/local/lib/python3.7/dist-packages/statsmodels/base/model.py:512: ConvergenceWarning: Maximum Likelihood optimization failed to converge. Check mle_retvals\n",
            "  \"Check mle_retvals\", ConvergenceWarning)\n",
            "/usr/local/lib/python3.7/dist-packages/statsmodels/discrete/discrete_model.py:1021: RuntimeWarning: overflow encountered in exp\n",
            "  return -np.exp(XB) +  endog*XB - gammaln(endog+1)\n",
            "/usr/local/lib/python3.7/dist-packages/statsmodels/discrete/discrete_model.py:1198: RuntimeWarning: overflow encountered in exp\n",
            "  L = np.exp(np.dot(X,params) + offset + exposure)\n",
            "/usr/local/lib/python3.7/dist-packages/statsmodels/discrete/discrete_model.py:1199: RuntimeWarning: invalid value encountered in multiply\n",
            "  return (self.endog - L)[:,None] * X\n",
            "/usr/local/lib/python3.7/dist-packages/statsmodels/discrete/discrete_model.py:801: RuntimeWarning: overflow encountered in exp\n",
            "  return np.exp(linpred) # not cdf\n",
            "/usr/local/lib/python3.7/dist-packages/statsmodels/discrete/discrete_model.py:1021: RuntimeWarning: overflow encountered in exp\n",
            "  return -np.exp(XB) +  endog*XB - gammaln(endog+1)\n",
            "/usr/local/lib/python3.7/dist-packages/statsmodels/base/model.py:512: ConvergenceWarning: Maximum Likelihood optimization failed to converge. Check mle_retvals\n",
            "  \"Check mle_retvals\", ConvergenceWarning)\n"
          ]
        },
        {
          "output_type": "stream",
          "name": "stdout",
          "text": [
            "Warning: Desired error not necessarily achieved due to precision loss.\n",
            "         Current function value: 2.866204\n",
            "         Iterations: 0\n",
            "         Function evaluations: 16\n",
            "         Gradient evaluations: 5\n",
            "                     ZeroInflatedPoisson Regression Results                    \n",
            "===============================================================================\n",
            "Dep. Variable:                Qty_Sold   No. Observations:                 1487\n",
            "Model:             ZeroInflatedPoisson   Df Residuals:                     1468\n",
            "Method:                            MLE   Df Model:                           18\n",
            "Date:                 Sat, 23 Oct 2021   Pseudo R-squ.:                  -2.671\n",
            "Time:                         02:51:03   Log-Likelihood:                -4262.0\n",
            "converged:                       False   LL-Null:                       -1160.9\n",
            "Covariance Type:             nonrobust   LLR p-value:                     1.000\n",
            "==============================================================================================================\n",
            "                                                 coef    std err          z      P>|z|      [0.025      0.975]\n",
            "--------------------------------------------------------------------------------------------------------------\n",
            "inflate_Intercept                              0.1000      0.221      0.452      0.651      -0.334       0.534\n",
            "inflate_Page_Views                             0.1000      0.770      0.130      0.897      -1.408       1.608\n",
            "inflate_Organic_Searches                       0.1000      1.290      0.078      0.938      -2.428       2.628\n",
            "inflate_New_Users                              0.1000      1.333      0.075      0.940      -2.514       2.714\n",
            "inflate_Number_of_Sessions_per_User            0.1000      1.479      0.068      0.946      -2.798       2.998\n",
            "inflate_Users                                  0.1000      0.979      0.102      0.919      -1.818       2.018\n",
            "inflate_Weighted_Avg_Time_on_Page              0.1000      0.067      1.501      0.133      -0.031       0.231\n",
            "inflate_Page_Views_1M_ago                      0.1000      0.977      0.102      0.918      -1.814       2.014\n",
            "inflate_Organic_Searches_1M_ago                0.1000      2.291      0.044      0.965      -4.390       4.590\n",
            "inflate_New_Users_1M_ago                       0.1000      2.198      0.045      0.964      -4.208       4.408\n",
            "inflate_Number_of_Sessions_per_User_1M_ago     0.1000      1.607      0.062      0.950      -3.050       3.250\n",
            "inflate_Users_1M_ago                           0.1000      1.244      0.080      0.936      -2.337       2.537\n",
            "inflate_Weighted_Avg_Time_on_Page_1M_ago       0.1000      0.067      1.487      0.137      -0.032       0.232\n",
            "inflate_Page_Views_2M_ago                      0.1000      0.688      0.145      0.884      -1.248       1.448\n",
            "inflate_Organic_Searches_2M_ago                0.1000      1.184      0.084      0.933      -2.221       2.421\n",
            "inflate_New_Users_2M_ago                       0.1000      1.087      0.092      0.927      -2.030       2.230\n",
            "inflate_Number_of_Sessions_per_User_2M_ago     0.1000      0.891      0.112      0.911      -1.647       1.847\n",
            "inflate_Users_2M_ago                           0.1000      0.952      0.105      0.916      -1.766       1.966\n",
            "inflate_Weighted_Avg_Time_on_Page_2M_ago       0.1000      0.070      1.428      0.153      -0.037       0.237\n",
            "Intercept                                     -0.9785      0.100     -9.791      0.000      -1.174      -0.783\n",
            "Page_Views                                     0.0010      0.031      0.033      0.974      -0.060       0.062\n",
            "Organic_Searches                               0.0010      0.338      0.003      0.998      -0.661       0.663\n",
            "New_Users                                      0.0011      0.318      0.003      0.997      -0.622       0.624\n",
            "Number_of_Sessions_per_User                    0.0010      0.170      0.006      0.995      -0.332       0.334\n",
            "Users                                          0.0010      0.072      0.014      0.989      -0.140       0.142\n",
            "Weighted_Avg_Time_on_Page                      0.0010      0.001      1.688      0.091      -0.000       0.002\n",
            "Page_Views_1M_ago                              0.0010      0.028      0.036      0.971      -0.054       0.056\n",
            "Organic_Searches_1M_ago                        0.0010      0.247      0.004      0.997      -0.483       0.485\n",
            "New_Users_1M_ago                               0.0010      0.143      0.007      0.995      -0.279       0.281\n",
            "Number_of_Sessions_per_User_1M_ago             0.0010      0.189      0.005      0.996      -0.369       0.371\n",
            "Users_1M_ago                                   0.0010      0.075      0.013      0.989      -0.145       0.147\n",
            "Weighted_Avg_Time_on_Page_1M_ago               0.0010      0.001      1.209      0.227      -0.001       0.002\n",
            "Page_Views_2M_ago                              0.0010      0.064      0.016      0.988      -0.124       0.126\n",
            "Organic_Searches_2M_ago                        0.0010      0.243      0.004      0.997      -0.475       0.477\n",
            "New_Users_2M_ago                               0.0010      0.112      0.009      0.993      -0.218       0.220\n",
            "Number_of_Sessions_per_User_2M_ago             0.0010      0.177      0.006      0.996      -0.347       0.349\n",
            "Users_2M_ago                                   0.0010      0.113      0.009      0.993      -0.221       0.223\n",
            "Weighted_Avg_Time_on_Page_2M_ago               0.0010      0.001      1.324      0.186      -0.000       0.002\n",
            "==============================================================================================================\n"
          ]
        }
      ]
    },
    {
      "cell_type": "markdown",
      "metadata": {
        "id": "CxZyulVU3bsO"
      },
      "source": [
        ""
      ]
    },
    {
      "cell_type": "markdown",
      "metadata": {
        "id": "3EHPhz2Q2-Uu"
      },
      "source": [
        "In the output above, the `inflate` variables represent variables that are useful for predicting if the target variable (Quantity Sold) are '0' or '>0'. In this case, we can see that all of them are insignificant, which tells us that the ZIP model is not an improvement to the first two model. This is further supported by the plot below."
      ]
    },
    {
      "cell_type": "code",
      "metadata": {
        "colab": {
          "base_uri": "https://localhost:8080/",
          "height": 434
        },
        "id": "cUJbwoSi15-j",
        "outputId": "0fb2bafd-d3b7-4aa1-aa79-9291f7775808"
      },
      "source": [
        "zip_predictions = zip_training_results.predict(X_test,exog_infl=X_test)\n",
        "predicted_counts=np.round(zip_predictions)\n",
        "actual_counts = y_test['Qty_Sold']\n",
        "\n",
        "fig = plt.figure()\n",
        "fig = plt.figure(figsize = (8, 6)) # Control plot size (length, height)\n",
        "fig.suptitle('Predicted versus actual counts using the ZIP model')\n",
        "predicted, = plt.plot(X_test.index, predicted_counts, 'go-', label='Predicted')\n",
        "actual, = plt.plot(X_test.index, actual_counts, 'ro-', label='Actual')\n",
        "plt.legend(handles=[predicted, actual])\n",
        "plt.show()\n",
        "#fig.savefig('ZIP Predicted versus actual Qty Sold.png', bbox_inches='tight')"
      ],
      "execution_count": null,
      "outputs": [
        {
          "output_type": "display_data",
          "data": {
            "text/plain": [
              "<Figure size 432x288 with 0 Axes>"
            ]
          },
          "metadata": {}
        },
        {
          "output_type": "display_data",
          "data": {
            "image/png": "[encoded data removed]",
            "text/plain": [
              "<Figure size 576x432 with 1 Axes>"
            ]
          },
          "metadata": {
            "needs_background": "light"
          }
        }
      ]
    },
    {
      "cell_type": "markdown",
      "metadata": {
        "id": "Q_nGeRaBNzCF"
      },
      "source": [
        "# Zero-Inflated Poisson Regression Model with Web Metrics - Current Month, 1 Month Ago and 2 Months Ago - As One Column"
      ]
    },
    {
      "cell_type": "code",
      "metadata": {
        "colab": {
          "base_uri": "https://localhost:8080/"
        },
        "id": "-iJgbTS31lDA",
        "outputId": "6de879e6-52ab-4e05-c405-1611dda4a1be"
      },
      "source": [
        "expr = \"\"\"Qty_Sold ~ Page_Views_Current_and_Past_2_Months + \n",
        "Organic_Searches_Current_and_Past_2_Months + \n",
        "New_Users_Current_and_Past_2_Months + \n",
        "Number_of_Sessions_per_User_Current_and_Past_2_Months + \n",
        "Users_Current_and_Past_2_Months + \n",
        "Weighted_Avg_Time_on_Page_Current_and_Past_2_Months\"\"\"\n",
        "\n",
        "# The Intercept\n",
        "# Page Views\n",
        "# Page Views (1 Month Ago)\n",
        "# Number of Sessions per User (1 Month Ago)\n",
        "\n",
        "y_train, X_train = dmatrices(expr, data_train, return_type='dataframe')\n",
        "y_test, X_test = dmatrices(expr, data_test, return_type='dataframe')\n",
        "\n",
        "zip_training_results = sm.ZeroInflatedPoisson(endog=y_train, exog=X_train, exog_infl=X_train, inflation='logit').fit()\n",
        "\n",
        "print(zip_training_results.summary())"
      ],
      "execution_count": null,
      "outputs": [
        {
          "output_type": "stream",
          "name": "stdout",
          "text": [
            "Warning: Desired error not necessarily achieved due to precision loss.\n",
            "         Current function value: 2.904240\n",
            "         Iterations: 0\n",
            "         Function evaluations: 16\n",
            "         Gradient evaluations: 5\n",
            "                     ZeroInflatedPoisson Regression Results                    \n",
            "===============================================================================\n",
            "Dep. Variable:                Qty_Sold   No. Observations:                 1487\n",
            "Model:             ZeroInflatedPoisson   Df Residuals:                     1480\n",
            "Method:                            MLE   Df Model:                            6\n",
            "Date:                 Sat, 23 Oct 2021   Pseudo R-squ.:                  -2.720\n",
            "Time:                         02:51:04   Log-Likelihood:                -4318.6\n",
            "converged:                       False   LL-Null:                       -1160.9\n",
            "Covariance Type:             nonrobust   LLR p-value:                     1.000\n",
            "=================================================================================================================================\n",
            "                                                                    coef    std err          z      P>|z|      [0.025      0.975]\n",
            "---------------------------------------------------------------------------------------------------------------------------------\n",
            "inflate_Intercept                                                 0.1000      0.220      0.455      0.649      -0.331       0.531\n",
            "inflate_Page_Views_Current_and_Past_2_Months                      0.1000      0.419      0.239      0.811      -0.720       0.920\n",
            "inflate_Organic_Searches_Current_and_Past_2_Months                0.1000      0.794      0.126      0.900      -1.456       1.656\n",
            "inflate_New_Users_Current_and_Past_2_Months                       0.1000      0.731      0.137      0.891      -1.333       1.533\n",
            "inflate_Number_of_Sessions_per_User_Current_and_Past_2_Months     0.1000      0.692      0.145      0.885      -1.256       1.456\n",
            "inflate_Users_Current_and_Past_2_Months                           0.1000      0.559      0.179      0.858      -0.996       1.196\n",
            "inflate_Weighted_Avg_Time_on_Page_Current_and_Past_2_Months       0.1000      0.040      2.528      0.011       0.022       0.178\n",
            "Intercept                                                        -0.9636      0.100     -9.594      0.000      -1.160      -0.767\n",
            "Page_Views_Current_and_Past_2_Months                              0.0012      0.017      0.073      0.942      -0.032       0.034\n",
            "Organic_Searches_Current_and_Past_2_Months                        0.0011      0.100      0.011      0.991      -0.195       0.197\n",
            "New_Users_Current_and_Past_2_Months                               0.0011      0.050      0.022      0.983      -0.098       0.100\n",
            "Number_of_Sessions_per_User_Current_and_Past_2_Months             0.0011      0.091      0.012      0.991      -0.178       0.180\n",
            "Users_Current_and_Past_2_Months                                   0.0011      0.039      0.027      0.978      -0.076       0.078\n",
            "Weighted_Avg_Time_on_Page_Current_and_Past_2_Months               0.0002      0.000      0.446      0.656      -0.001       0.001\n",
            "=================================================================================================================================\n"
          ]
        },
        {
          "output_type": "stream",
          "name": "stderr",
          "text": [
            "/usr/local/lib/python3.7/dist-packages/statsmodels/base/model.py:512: ConvergenceWarning: Maximum Likelihood optimization failed to converge. Check mle_retvals\n",
            "  \"Check mle_retvals\", ConvergenceWarning)\n",
            "/usr/local/lib/python3.7/dist-packages/statsmodels/discrete/discrete_model.py:1021: RuntimeWarning: overflow encountered in exp\n",
            "  return -np.exp(XB) +  endog*XB - gammaln(endog+1)\n",
            "/usr/local/lib/python3.7/dist-packages/statsmodels/discrete/discrete_model.py:1198: RuntimeWarning: overflow encountered in exp\n",
            "  L = np.exp(np.dot(X,params) + offset + exposure)\n",
            "/usr/local/lib/python3.7/dist-packages/statsmodels/discrete/discrete_model.py:1199: RuntimeWarning: overflow encountered in multiply\n",
            "  return (self.endog - L)[:,None] * X\n",
            "/usr/local/lib/python3.7/dist-packages/statsmodels/discrete/discrete_model.py:1199: RuntimeWarning: invalid value encountered in multiply\n",
            "  return (self.endog - L)[:,None] * X\n",
            "/usr/local/lib/python3.7/dist-packages/statsmodels/discrete/discrete_model.py:801: RuntimeWarning: overflow encountered in exp\n",
            "  return np.exp(linpred) # not cdf\n",
            "/usr/local/lib/python3.7/dist-packages/statsmodels/discrete/discrete_model.py:1021: RuntimeWarning: overflow encountered in exp\n",
            "  return -np.exp(XB) +  endog*XB - gammaln(endog+1)\n",
            "/usr/local/lib/python3.7/dist-packages/statsmodels/base/model.py:512: ConvergenceWarning: Maximum Likelihood optimization failed to converge. Check mle_retvals\n",
            "  \"Check mle_retvals\", ConvergenceWarning)\n"
          ]
        }
      ]
    },
    {
      "cell_type": "markdown",
      "metadata": {
        "id": "VTsiWFyA3pZL"
      },
      "source": [
        "In the output above, We can see that `Weighted Average Time on Page` is a useful variable to predict if the Quantity Sold for a particular month will be 0 or >0. However, we can also see that there is only one significant variable (Inflated Weighted Avg Time on Page (Current_and_Past_2_Months)) for the ZIP model. Given that the R-Squared value is -2.720, we conclude that the model is a poor fit and there are no relationships between the Quantity Sold and the Web Metrics."
      ]
    },
    {
      "cell_type": "code",
      "metadata": {
        "colab": {
          "base_uri": "https://localhost:8080/",
          "height": 434
        },
        "id": "BJY3_a8h2wNk",
        "outputId": "65db1418-4037-4f0c-daa5-03abb57c1200"
      },
      "source": [
        "zip_predictions = zip_training_results.predict(X_test,exog_infl=X_test)\n",
        "predicted_counts=np.round(zip_predictions)\n",
        "actual_counts = y_test['Qty_Sold']\n",
        "\n",
        "fig = plt.figure()\n",
        "fig = plt.figure(figsize = (8, 6)) # Control plot size (length, height)\n",
        "fig.suptitle('Predicted versus actual counts using the ZIP model')\n",
        "predicted, = plt.plot(X_test.index, predicted_counts, 'go-', label='Predicted')\n",
        "actual, = plt.plot(X_test.index, actual_counts, 'ro-', label='Actual')\n",
        "plt.legend(handles=[predicted, actual])\n",
        "plt.show()\n",
        "#fig.savefig('ZIP2 Predicted versus actual Qty Sold.png', bbox_inches='tight')"
      ],
      "execution_count": null,
      "outputs": [
        {
          "output_type": "display_data",
          "data": {
            "text/plain": [
              "<Figure size 432x288 with 0 Axes>"
            ]
          },
          "metadata": {}
        },
        {
          "output_type": "display_data",
          "data": {
            "image/png": "[encoded data removed]",
            "text/plain": [
              "<Figure size 576x432 with 1 Axes>"
            ]
          },
          "metadata": {
            "needs_background": "light"
          }
        }
      ]
    }
  ]
}