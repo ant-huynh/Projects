{
  "nbformat": 4,
  "nbformat_minor": 0,
  "metadata": {
    "colab": {
      "name": "Data Preparation - Aggregated Dataset.ipynb",
      "provenance": [],
      "collapsed_sections": []
    },
    "kernelspec": {
      "display_name": "Python 3",
      "name": "python3"
    },
    "language_info": {
      "name": "python"
    }
  },
  "cells": [
    {
      "cell_type": "code",
      "metadata": {
        "id": "4tYBg0s5Tn6R"
      },
      "source": [
        "import pandas as pd\n",
        "import re\n",
        "import numpy as np"
      ],
      "execution_count": null,
      "outputs": []
    },
    {
      "cell_type": "markdown",
      "metadata": {
        "id": "T-Q_0Sl1uewS"
      },
      "source": [
        "## Upload files and convert to dataframe using pandas to prepare for data manipulation \n",
        "\n",
        "There will be 3 datasets to upload:\n",
        "\n",
        "\n",
        "*   bom_result.csv (contains item details such as category data)\n",
        "*   ItemSoldoveraperiodDigicorResults.xls (contains quantity sold for each item)\n",
        "*   customer_search.csv (website data from 2018)"
      ]
    },
    {
      "cell_type": "code",
      "metadata": {
        "colab": {
          "resources": {
            "http://localhost:8080/nbextensions/google.colab/files.js": {
              "data": "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",
              "ok": true,
              "headers": [
                [
                  "content-type",
                  "application/javascript"
                ]
              ],
              "status": 200,
              "status_text": ""
            }
          },
          "base_uri": "https://localhost:8080/",
          "height": 128
        },
        "id": "lc5f_VoYUwsS",
        "outputId": "308d04c9-338f-40c2-9f8f-5038276a70c4"
      },
      "source": [
        "from google.colab import files \n",
        "uploaded = files.upload()"
      ],
      "execution_count": null,
      "outputs": [
        {
          "output_type": "display_data",
          "data": {
            "text/html": [
              "\n",
              "     <input type=\"file\" id=\"files-e24fddb8-e620-47f4-971b-6c900a3a18ad\" name=\"files[]\" multiple disabled\n",
              "        style=\"border:none\" />\n",
              "     <output id=\"result-e24fddb8-e620-47f4-971b-6c900a3a18ad\">\n",
              "      Upload widget is only available when the cell has been executed in the\n",
              "      current browser session. Please rerun this cell to enable.\n",
              "      </output>\n",
              "      <script src=\"/nbextensions/google.colab/files.js\"></script> "
            ],
            "text/plain": [
              "<IPython.core.display.HTML object>"
            ]
          },
          "metadata": {}
        },
        {
          "output_type": "stream",
          "name": "stdout",
          "text": [
            "Saving bom_result.csv to bom_result.csv\n",
            "Saving customer_search.csv to customer_search.csv\n",
            "Saving ItemSoldoveraperiodDigicorResults.xls to ItemSoldoveraperiodDigicorResults.xls\n"
          ]
        }
      ]
    },
    {
      "cell_type": "code",
      "metadata": {
        "id": "FVi9HfbhUjkv"
      },
      "source": [
        "data = pd.read_csv('customer_search.csv')\n",
        "qtySold = pd.read_excel('ItemSoldoveraperiodDigicorResults.xls')\n",
        "\n",
        "fields = ['name', 'desc', 'Category', 'bom_type ID', 'BOM Type'] \n",
        "bom_result = pd.read_csv('bom_result.csv', usecols = fields)"
      ],
      "execution_count": null,
      "outputs": []
    },
    {
      "cell_type": "markdown",
      "metadata": {
        "id": "2doXd19Nztnq"
      },
      "source": [
        "## 'qtySold' Preparation"
      ]
    },
    {
      "cell_type": "markdown",
      "metadata": {
        "id": "rCZHo-QUwPiT"
      },
      "source": [
        "Items that start with 'BB-' are the items to focus on in this project. This code removes all items that do not have 'BB-' in their name. "
      ]
    },
    {
      "cell_type": "code",
      "metadata": {
        "id": "M0FOvYkE3qMf"
      },
      "source": [
        "qtySold = qtySold[qtySold['Item Code'].str.contains(\"BB-\")]"
      ],
      "execution_count": null,
      "outputs": []
    },
    {
      "cell_type": "markdown",
      "metadata": {
        "id": "Lw2re5OiwjZ7"
      },
      "source": [
        "In 'qtySold' and item name will be listed as BB-{Item Name}\n",
        "\n",
        "'BB-' is stripped from the item name so it could match with other tables."
      ]
    },
    {
      "cell_type": "code",
      "metadata": {
        "id": "6jTMNs8YUWM4"
      },
      "source": [
        "qtySold['Item Code'] = qtySold['Item Code'].map(lambda x: x.lstrip('BB-'))"
      ],
      "execution_count": null,
      "outputs": []
    },
    {
      "cell_type": "markdown",
      "metadata": {
        "id": "nJbb5y1oV58-"
      },
      "source": [
        "Sum total quantity sold for each item."
      ]
    },
    {
      "cell_type": "code",
      "metadata": {
        "id": "fmWWC4Zv0525"
      },
      "source": [
        "qtySold = qtySold.groupby(['Item Code']).agg({'Qty Sold': [sum]})"
      ],
      "execution_count": null,
      "outputs": []
    },
    {
      "cell_type": "markdown",
      "metadata": {
        "id": "4HOemyrizJ2G"
      },
      "source": [
        "Every time data is aggregated, Python likes to create a multi-level index. The following code simply resets the index back to a single level to avoid potential complications. "
      ]
    },
    {
      "cell_type": "code",
      "metadata": {
        "id": "72BWAifz3BGE"
      },
      "source": [
        "qtySold.columns = qtySold.columns.droplevel(level=0)\n",
        "qtySold = qtySold.add_suffix('_sum').reset_index()"
      ],
      "execution_count": null,
      "outputs": []
    },
    {
      "cell_type": "code",
      "metadata": {
        "id": "H8FrbwWX8TAc"
      },
      "source": [
        "qtySold = qtySold.rename(columns={\"sum_sum\": \"Qty Sold\"}) "
      ],
      "execution_count": null,
      "outputs": []
    },
    {
      "cell_type": "code",
      "metadata": {
        "id": "HqRQ6y8ukebt",
        "colab": {
          "base_uri": "https://localhost:8080/",
          "height": 423
        },
        "outputId": "33afdedd-eb38-4c93-8645-966f4f9fe725"
      },
      "source": [
        "qtySold"
      ],
      "execution_count": null,
      "outputs": [
        {
          "output_type": "execute_result",
          "data": {
            "text/html": [
              "<div>\n",
              "<style scoped>\n",
              "    .dataframe tbody tr th:only-of-type {\n",
              "        vertical-align: middle;\n",
              "    }\n",
              "\n",
              "    .dataframe tbody tr th {\n",
              "        vertical-align: top;\n",
              "    }\n",
              "\n",
              "    .dataframe thead th {\n",
              "        text-align: right;\n",
              "    }\n",
              "</style>\n",
              "<table border=\"1\" class=\"dataframe\">\n",
              "  <thead>\n",
              "    <tr style=\"text-align: right;\">\n",
              "      <th></th>\n",
              "      <th>Item Code</th>\n",
              "      <th>Qty Sold</th>\n",
              "    </tr>\n",
              "  </thead>\n",
              "  <tbody>\n",
              "    <tr>\n",
              "      <th>0</th>\n",
              "      <td>1013S-MTR</td>\n",
              "      <td>8.0</td>\n",
              "    </tr>\n",
              "    <tr>\n",
              "      <th>1</th>\n",
              "      <td>1014S-WTRT</td>\n",
              "      <td>31.0</td>\n",
              "    </tr>\n",
              "    <tr>\n",
              "      <th>2</th>\n",
              "      <td>1019C-HTN2</td>\n",
              "      <td>13.0</td>\n",
              "    </tr>\n",
              "    <tr>\n",
              "      <th>3</th>\n",
              "      <td>1019P-FHN2T</td>\n",
              "      <td>3.0</td>\n",
              "    </tr>\n",
              "    <tr>\n",
              "      <th>4</th>\n",
              "      <td>1019P-WTR</td>\n",
              "      <td>26.0</td>\n",
              "    </tr>\n",
              "    <tr>\n",
              "      <th>...</th>\n",
              "      <td>...</td>\n",
              "      <td>...</td>\n",
              "    </tr>\n",
              "    <tr>\n",
              "      <th>140</th>\n",
              "      <td>SBA-4119S-C2N</td>\n",
              "      <td>18.0</td>\n",
              "    </tr>\n",
              "    <tr>\n",
              "      <th>141</th>\n",
              "      <td>SBE-820J-622</td>\n",
              "      <td>5.0</td>\n",
              "    </tr>\n",
              "    <tr>\n",
              "      <th>142</th>\n",
              "      <td>SBI-4129P-C2N</td>\n",
              "      <td>64.0</td>\n",
              "    </tr>\n",
              "    <tr>\n",
              "      <th>143</th>\n",
              "      <td>SBI-7428R-C3N</td>\n",
              "      <td>54.0</td>\n",
              "    </tr>\n",
              "    <tr>\n",
              "      <th>144</th>\n",
              "      <td>SBi7127R-S6</td>\n",
              "      <td>1.0</td>\n",
              "    </tr>\n",
              "  </tbody>\n",
              "</table>\n",
              "<p>145 rows × 2 columns</p>\n",
              "</div>"
            ],
            "text/plain": [
              "         Item Code  Qty Sold\n",
              "0        1013S-MTR       8.0\n",
              "1       1014S-WTRT      31.0\n",
              "2       1019C-HTN2      13.0\n",
              "3      1019P-FHN2T       3.0\n",
              "4        1019P-WTR      26.0\n",
              "..             ...       ...\n",
              "140  SBA-4119S-C2N      18.0\n",
              "141   SBE-820J-622       5.0\n",
              "142  SBI-4129P-C2N      64.0\n",
              "143  SBI-7428R-C3N      54.0\n",
              "144    SBi7127R-S6       1.0\n",
              "\n",
              "[145 rows x 2 columns]"
            ]
          },
          "metadata": {},
          "execution_count": 9
        }
      ]
    },
    {
      "cell_type": "markdown",
      "metadata": {
        "id": "38jBLzVMz8mG"
      },
      "source": [
        "## Website data preparation"
      ]
    },
    {
      "cell_type": "markdown",
      "metadata": {
        "id": "fl5s-PcEz5oP"
      },
      "source": [
        "'Avg. Time on Page' is a feature that has NaN values. NaN values have been interpreted as a user clicking on a page and not having any activity and or has somehow immediately left the page. Based on this interpretation, each NaN value was changed to 0."
      ]
    },
    {
      "cell_type": "code",
      "metadata": {
        "id": "3MIzJIZtz1zp"
      },
      "source": [
        "data['Avg. Time on Page'] = data['Avg. Time on Page'].fillna(0)"
      ],
      "execution_count": null,
      "outputs": []
    },
    {
      "cell_type": "code",
      "metadata": {
        "colab": {
          "base_uri": "https://localhost:8080/"
        },
        "id": "0iwJoWE76AHx",
        "outputId": "4a4cd609-e234-44f0-d190-d1df08a97ec3"
      },
      "source": [
        "data['Pageviews']"
      ],
      "execution_count": null,
      "outputs": [
        {
          "output_type": "execute_result",
          "data": {
            "text/plain": [
              "0         1\n",
              "1         3\n",
              "2         2\n",
              "3         5\n",
              "4         9\n",
              "         ..\n",
              "47729     1\n",
              "47730     1\n",
              "47731     1\n",
              "47732     1\n",
              "47733    14\n",
              "Name: Pageviews, Length: 47734, dtype: int64"
            ]
          },
          "metadata": {},
          "execution_count": 11
        }
      ]
    },
    {
      "cell_type": "markdown",
      "metadata": {
        "id": "udfOO5Rr0E9S"
      },
      "source": [
        "Before aggregating by date: New column = avg time on page * page views\n",
        "Aggregate by date and divide newcolumn/total number of page views to get an approximate inferred avg time on page.\n",
        "\n",
        "We calculate the 'Avg. Time on Page' per item by:\n",
        "\n",
        "\n",
        "*   Creating a new column that contains Avg. Time on Page * Page Views. \n",
        "*   Aggregate by Page so that all the website metrics are summed into a total for each Page\n",
        "*   Divide the new column by page views so that Avg. Time on Page is now properly represents a weighted average \n",
        "\n",
        "\n",
        "\n",
        "\n",
        "\n"
      ]
    },
    {
      "cell_type": "code",
      "metadata": {
        "id": "0BFIQxUTa_f_"
      },
      "source": [
        "avgt_pv = data['Avg. Time on Page']*data['Pageviews']"
      ],
      "execution_count": null,
      "outputs": []
    },
    {
      "cell_type": "code",
      "metadata": {
        "id": "eSPIXcTXawA5"
      },
      "source": [
        "data['avg*pv'] = avgt_pv"
      ],
      "execution_count": null,
      "outputs": []
    },
    {
      "cell_type": "code",
      "metadata": {
        "id": "g9A8YGd6bPys"
      },
      "source": [
        "x = data.groupby(['Page']).agg({\n",
        "    \n",
        "    'Pageviews' : [sum],\n",
        "    \n",
        "    'Organic Searches': [sum],\n",
        "    \n",
        "    'New Users': [sum],\n",
        "    \n",
        "    'Avg. Time on Page': [sum],\n",
        "\n",
        "    'Number of Sessions per User': [sum],\n",
        "\n",
        "    'Users': [sum],\n",
        "\n",
        "    'avg*pv': [sum]\n",
        "  }  \n",
        ")"
      ],
      "execution_count": null,
      "outputs": []
    },
    {
      "cell_type": "code",
      "metadata": {
        "id": "GR11RSAYfrTx"
      },
      "source": [
        "x.columns = x.columns.droplevel(level=0)\n",
        "x = x.add_suffix('_sum').reset_index()"
      ],
      "execution_count": null,
      "outputs": []
    },
    {
      "cell_type": "code",
      "metadata": {
        "id": "iN0mOVu4f1TV"
      },
      "source": [
        "x = x.set_axis(['Page', 'Page_Views', 'Organic_Searches', 'New_Users', 'Avg_Time_on_Page', 'Number_of_Sessions_per_User', 'Users', 'avg*sum'], axis=1, inplace=False)"
      ],
      "execution_count": null,
      "outputs": []
    },
    {
      "cell_type": "code",
      "metadata": {
        "id": "mG2jp448gHcT"
      },
      "source": [
        "weighted_avg = x['avg*sum']/x['Page_Views']"
      ],
      "execution_count": null,
      "outputs": []
    },
    {
      "cell_type": "code",
      "metadata": {
        "id": "h_bxdaImozPF"
      },
      "source": [
        "x['Weighted_Avg_Time_on_Page'] = weighted_avg"
      ],
      "execution_count": null,
      "outputs": []
    },
    {
      "cell_type": "code",
      "metadata": {
        "id": "mCuguO9vpv0n"
      },
      "source": [
        "data = x"
      ],
      "execution_count": null,
      "outputs": []
    },
    {
      "cell_type": "markdown",
      "metadata": {
        "id": "hEL4jVEp2KRn"
      },
      "source": [
        "## Join tables and final cleanup\n",
        "Add a column to 'qtySold' table to store the 'Page' name that is associated with the item."
      ]
    },
    {
      "cell_type": "code",
      "metadata": {
        "id": "0Zz0oIOOgOOT"
      },
      "source": [
        "qtySold['Page'] = \"n/a\""
      ],
      "execution_count": null,
      "outputs": []
    },
    {
      "cell_type": "markdown",
      "metadata": {
        "id": "5fGMprS92fE6"
      },
      "source": [
        "Each page in the website data has the item name in it. \n",
        "\n",
        "I.E The item '1013S-MTR' will be associated with the page '/systems/AS-1013S-MTR'\n",
        "\n",
        "To match each item from 'qtySold' with its page in the website data table, we use regex so that for each item, it will iterate through each webpage until there is a match. Once there is a match, that webpage is stored in the 'qtySold' table. "
      ]
    },
    {
      "cell_type": "code",
      "metadata": {
        "id": "LGKpJ6ctVXIL"
      },
      "source": [
        "for item in qtySold['Item Code']:\n",
        "  for page in data['Page']:\n",
        "    x = re.search(item + '$', page)\n",
        "    if x != None:\n",
        "      qtySold.loc[qtySold['Item Code'] == item, 'Page'] = page"
      ],
      "execution_count": null,
      "outputs": []
    },
    {
      "cell_type": "markdown",
      "metadata": {
        "id": "-ZNoZCoJ3hrG"
      },
      "source": [
        "Merge bom_result and qtySold to form qtySold_bom_result using an outer join.\n",
        "\n",
        "Since it was an outer join, we will have a bunch of irrelevant rows. We remove these by dropping NaN rows."
      ]
    },
    {
      "cell_type": "code",
      "metadata": {
        "id": "JnODHzjBZEd8"
      },
      "source": [
        "bom_result = bom_result.rename(columns={\"desc\": \"Item Code\"})"
      ],
      "execution_count": null,
      "outputs": []
    },
    {
      "cell_type": "code",
      "metadata": {
        "id": "lUYKmeSPVD5c"
      },
      "source": [
        "qtySold_bom_result = pd.merge(qtySold, bom_result, how = \"outer\", on = ['Item Code'])"
      ],
      "execution_count": null,
      "outputs": []
    },
    {
      "cell_type": "code",
      "metadata": {
        "id": "HK44OoBXWXpL"
      },
      "source": [
        "qtySold_bom_result.rename(columns={\"Qty Sold\": \"Qty_Sold\"}, inplace=True)\n",
        "qtySold_bom_result = qtySold_bom_result.dropna(subset=['Qty_Sold'])\n",
        "qtySold_bom_result['name'].fillna(\"n/a\", inplace = True)"
      ],
      "execution_count": null,
      "outputs": []
    },
    {
      "cell_type": "markdown",
      "metadata": {
        "id": "sIy2yFGE7ybD"
      },
      "source": [
        "We were interested in using BOM ID to see investigate relationships per BOM type. 'Name' and 'Category' became irrelevent so it was dropped."
      ]
    },
    {
      "cell_type": "code",
      "metadata": {
        "id": "LaA9yZMZyG8D"
      },
      "source": [
        "qtySold_bom_result = qtySold_bom_result.drop(columns=['name', 'Category'])"
      ],
      "execution_count": null,
      "outputs": []
    },
    {
      "cell_type": "markdown",
      "metadata": {
        "id": "ZvG26d1s8MSe"
      },
      "source": [
        "Merge qtySold_bom_result with website data"
      ]
    },
    {
      "cell_type": "code",
      "metadata": {
        "id": "5TJHajfvSLzY"
      },
      "source": [
        "webdata_qtySold = pd.merge(qtySold_bom_result, data, how = \"inner\", on = ['Page'])"
      ],
      "execution_count": null,
      "outputs": []
    },
    {
      "cell_type": "markdown",
      "metadata": {
        "id": "C5oJ2q6N8RMc"
      },
      "source": [
        "Drop rows with NaN organic searches and NaN item code"
      ]
    },
    {
      "cell_type": "code",
      "metadata": {
        "id": "yyAsHRMfVzjD"
      },
      "source": [
        "webdata_qtySold = webdata_qtySold.dropna(subset=['Organic_Searches', 'Item Code'])"
      ],
      "execution_count": null,
      "outputs": []
    },
    {
      "cell_type": "markdown",
      "metadata": {
        "id": "HUfozDXu8ZB4"
      },
      "source": [
        "Items with a NaN Bom type listed as 'Other'"
      ]
    },
    {
      "cell_type": "code",
      "metadata": {
        "id": "jAC22ipg5ITk"
      },
      "source": [
        "webdata_qtySold['bom_type ID'] = webdata_qtySold['bom_type ID'].replace(np.nan, 'Other')"
      ],
      "execution_count": null,
      "outputs": []
    },
    {
      "cell_type": "code",
      "metadata": {
        "id": "DLpVKOnTFKIk"
      },
      "source": [
        "webdata_qtySold['BOM Type'] = webdata_qtySold['BOM Type'].replace(np.nan, 'Other')"
      ],
      "execution_count": null,
      "outputs": []
    },
    {
      "cell_type": "markdown",
      "metadata": {
        "id": "o6IJ5fnk8hDH"
      },
      "source": [
        "Advised to ignore pages that are missing or have '/searchGlobal?q=' in the page name.  These pages are queries for DiGiCOR's embedded search feature."
      ]
    },
    {
      "cell_type": "code",
      "metadata": {
        "id": "wYn-PaBRFvSe"
      },
      "source": [
        "index = 0\n",
        "for page in webdata_qtySold['Page']:\n",
        "    x = re.search('^/searchGlobal', page)\n",
        "    if x != None:\n",
        "      webdata_qtySold = webdata_qtySold.drop([index])\n",
        "    \n",
        "    index += 1"
      ],
      "execution_count": null,
      "outputs": []
    },
    {
      "cell_type": "markdown",
      "metadata": {
        "id": "lIvSJeIs88ch"
      },
      "source": [
        "Some cleaning up:\n",
        "*   Removing duplicates\n",
        "*   Dropping unwanted columns\n",
        "\n"
      ]
    },
    {
      "cell_type": "code",
      "metadata": {
        "id": "Hg0WgenrSk9C"
      },
      "source": [
        "webdata_qtySold = webdata_qtySold.drop_duplicates(subset=['Item Code'])"
      ],
      "execution_count": null,
      "outputs": []
    },
    {
      "cell_type": "code",
      "metadata": {
        "id": "6liuBHqdq2Pq"
      },
      "source": [
        "webdata_qtySold = webdata_qtySold.drop(columns=['Avg_Time_on_Page', 'avg*sum'])"
      ],
      "execution_count": null,
      "outputs": []
    },
    {
      "cell_type": "code",
      "metadata": {
        "id": "3vixHmbgS95a"
      },
      "source": [
        "webdata_qtySold = webdata_qtySold.reset_index()"
      ],
      "execution_count": null,
      "outputs": []
    },
    {
      "cell_type": "code",
      "metadata": {
        "id": "9MFQtcdaj7lf",
        "colab": {
          "base_uri": "https://localhost:8080/",
          "height": 634
        },
        "outputId": "8f53463a-29d8-4ed2-b9e0-475e13cd8768"
      },
      "source": [
        "webdata_qtySold"
      ],
      "execution_count": null,
      "outputs": [
        {
          "output_type": "execute_result",
          "data": {
            "text/html": [
              "<div>\n",
              "<style scoped>\n",
              "    .dataframe tbody tr th:only-of-type {\n",
              "        vertical-align: middle;\n",
              "    }\n",
              "\n",
              "    .dataframe tbody tr th {\n",
              "        vertical-align: top;\n",
              "    }\n",
              "\n",
              "    .dataframe thead th {\n",
              "        text-align: right;\n",
              "    }\n",
              "</style>\n",
              "<table border=\"1\" class=\"dataframe\">\n",
              "  <thead>\n",
              "    <tr style=\"text-align: right;\">\n",
              "      <th></th>\n",
              "      <th>index</th>\n",
              "      <th>Item Code</th>\n",
              "      <th>Qty_Sold</th>\n",
              "      <th>Page</th>\n",
              "      <th>bom_type ID</th>\n",
              "      <th>BOM Type</th>\n",
              "      <th>Page_Views</th>\n",
              "      <th>Organic_Searches</th>\n",
              "      <th>New_Users</th>\n",
              "      <th>Number_of_Sessions_per_User</th>\n",
              "      <th>Users</th>\n",
              "      <th>Weighted_Avg_Time_on_Page</th>\n",
              "    </tr>\n",
              "  </thead>\n",
              "  <tbody>\n",
              "    <tr>\n",
              "      <th>0</th>\n",
              "      <td>0</td>\n",
              "      <td>1013S-MTR</td>\n",
              "      <td>8.0</td>\n",
              "      <td>/systems/AS-1013S-MTR</td>\n",
              "      <td>2</td>\n",
              "      <td>BB</td>\n",
              "      <td>96</td>\n",
              "      <td>15</td>\n",
              "      <td>17</td>\n",
              "      <td>27.500000</td>\n",
              "      <td>80</td>\n",
              "      <td>175.812500</td>\n",
              "    </tr>\n",
              "    <tr>\n",
              "      <th>1</th>\n",
              "      <td>2</td>\n",
              "      <td>1014S-WTRT</td>\n",
              "      <td>31.0</td>\n",
              "      <td>/systems/AS-1014S-WTRT</td>\n",
              "      <td>2</td>\n",
              "      <td>BB</td>\n",
              "      <td>184</td>\n",
              "      <td>40</td>\n",
              "      <td>51</td>\n",
              "      <td>65.666667</td>\n",
              "      <td>142</td>\n",
              "      <td>141.908514</td>\n",
              "    </tr>\n",
              "    <tr>\n",
              "      <th>2</th>\n",
              "      <td>3</td>\n",
              "      <td>1019C-HTN2</td>\n",
              "      <td>13.0</td>\n",
              "      <td>/systems/superServer-1019C-HTN2</td>\n",
              "      <td>2</td>\n",
              "      <td>BB</td>\n",
              "      <td>5</td>\n",
              "      <td>2</td>\n",
              "      <td>4</td>\n",
              "      <td>4.000000</td>\n",
              "      <td>5</td>\n",
              "      <td>10.800000</td>\n",
              "    </tr>\n",
              "    <tr>\n",
              "      <th>3</th>\n",
              "      <td>5</td>\n",
              "      <td>1019P-FHN2T</td>\n",
              "      <td>3.0</td>\n",
              "      <td>/systems/SuperServer-1019P-FHN2T</td>\n",
              "      <td>2</td>\n",
              "      <td>BB</td>\n",
              "      <td>101</td>\n",
              "      <td>13</td>\n",
              "      <td>20</td>\n",
              "      <td>28.500000</td>\n",
              "      <td>87</td>\n",
              "      <td>78.643564</td>\n",
              "    </tr>\n",
              "    <tr>\n",
              "      <th>4</th>\n",
              "      <td>6</td>\n",
              "      <td>1019P-WTR</td>\n",
              "      <td>26.0</td>\n",
              "      <td>/systems/superServer-1019P-WTR</td>\n",
              "      <td>2</td>\n",
              "      <td>BB</td>\n",
              "      <td>1</td>\n",
              "      <td>1</td>\n",
              "      <td>1</td>\n",
              "      <td>1.000000</td>\n",
              "      <td>1</td>\n",
              "      <td>0.000000</td>\n",
              "    </tr>\n",
              "    <tr>\n",
              "      <th>...</th>\n",
              "      <td>...</td>\n",
              "      <td>...</td>\n",
              "      <td>...</td>\n",
              "      <td>...</td>\n",
              "      <td>...</td>\n",
              "      <td>...</td>\n",
              "      <td>...</td>\n",
              "      <td>...</td>\n",
              "      <td>...</td>\n",
              "      <td>...</td>\n",
              "      <td>...</td>\n",
              "      <td>...</td>\n",
              "    </tr>\n",
              "    <tr>\n",
              "      <th>85</th>\n",
              "      <td>124</td>\n",
              "      <td>MBI-6118G-T41X</td>\n",
              "      <td>1.0</td>\n",
              "      <td>/systems/MBI-6118G-T41X</td>\n",
              "      <td>5</td>\n",
              "      <td>Node</td>\n",
              "      <td>1</td>\n",
              "      <td>0</td>\n",
              "      <td>0</td>\n",
              "      <td>0.000000</td>\n",
              "      <td>1</td>\n",
              "      <td>30.000000</td>\n",
              "    </tr>\n",
              "    <tr>\n",
              "      <th>86</th>\n",
              "      <td>125</td>\n",
              "      <td>R1208WFTYS</td>\n",
              "      <td>9.0</td>\n",
              "      <td>/systems/intel-R1208WFTYS</td>\n",
              "      <td>2</td>\n",
              "      <td>BB</td>\n",
              "      <td>5</td>\n",
              "      <td>2</td>\n",
              "      <td>5</td>\n",
              "      <td>3.000000</td>\n",
              "      <td>5</td>\n",
              "      <td>0.000000</td>\n",
              "    </tr>\n",
              "    <tr>\n",
              "      <th>87</th>\n",
              "      <td>127</td>\n",
              "      <td>R2224WFTZSR</td>\n",
              "      <td>10.0</td>\n",
              "      <td>/systems/Intel-R2224WFTZSR</td>\n",
              "      <td>2</td>\n",
              "      <td>BB</td>\n",
              "      <td>13</td>\n",
              "      <td>1</td>\n",
              "      <td>1</td>\n",
              "      <td>1.000000</td>\n",
              "      <td>10</td>\n",
              "      <td>80.461538</td>\n",
              "    </tr>\n",
              "    <tr>\n",
              "      <th>88</th>\n",
              "      <td>128</td>\n",
              "      <td>RS500A-E9-RS4</td>\n",
              "      <td>8.0</td>\n",
              "      <td>/systems/RS500A-E9-RS4</td>\n",
              "      <td>2</td>\n",
              "      <td>BB</td>\n",
              "      <td>117</td>\n",
              "      <td>11</td>\n",
              "      <td>14</td>\n",
              "      <td>19.000000</td>\n",
              "      <td>85</td>\n",
              "      <td>88.733211</td>\n",
              "    </tr>\n",
              "    <tr>\n",
              "      <th>89</th>\n",
              "      <td>129</td>\n",
              "      <td>SBI-4129P-C2N</td>\n",
              "      <td>64.0</td>\n",
              "      <td>/systems/SBI-4129P-C2N</td>\n",
              "      <td>5</td>\n",
              "      <td>Node</td>\n",
              "      <td>1</td>\n",
              "      <td>0</td>\n",
              "      <td>0</td>\n",
              "      <td>0.000000</td>\n",
              "      <td>1</td>\n",
              "      <td>10.000000</td>\n",
              "    </tr>\n",
              "  </tbody>\n",
              "</table>\n",
              "<p>90 rows × 12 columns</p>\n",
              "</div>"
            ],
            "text/plain": [
              "    index       Item Code  ...  Users Weighted_Avg_Time_on_Page\n",
              "0       0       1013S-MTR  ...     80                175.812500\n",
              "1       2      1014S-WTRT  ...    142                141.908514\n",
              "2       3      1019C-HTN2  ...      5                 10.800000\n",
              "3       5     1019P-FHN2T  ...     87                 78.643564\n",
              "4       6       1019P-WTR  ...      1                  0.000000\n",
              "..    ...             ...  ...    ...                       ...\n",
              "85    124  MBI-6118G-T41X  ...      1                 30.000000\n",
              "86    125      R1208WFTYS  ...      5                  0.000000\n",
              "87    127     R2224WFTZSR  ...     10                 80.461538\n",
              "88    128   RS500A-E9-RS4  ...     85                 88.733211\n",
              "89    129   SBI-4129P-C2N  ...      1                 10.000000\n",
              "\n",
              "[90 rows x 12 columns]"
            ]
          },
          "metadata": {},
          "execution_count": 34
        }
      ]
    },
    {
      "cell_type": "markdown",
      "metadata": {
        "id": "gdH5Aq3S9QQ7"
      },
      "source": [
        "Final dataset to use for modelling called 'webdata_qtySold'."
      ]
    },
    {
      "cell_type": "code",
      "metadata": {
        "id": "aAx8f9jQGyjr",
        "colab": {
          "base_uri": "https://localhost:8080/",
          "height": 17
        },
        "outputId": "a9249a65-796c-425a-8f52-48c8dc1f2cc5"
      },
      "source": [
        "webdata_qtySold.to_csv(\"webdata_qtySold.csv\")\n",
        "files.download('webdata_qtySold.csv')"
      ],
      "execution_count": null,
      "outputs": [
        {
          "output_type": "display_data",
          "data": {
            "application/javascript": [
              "\n",
              "    async function download(id, filename, size) {\n",
              "      if (!google.colab.kernel.accessAllowed) {\n",
              "        return;\n",
              "      }\n",
              "      const div = document.createElement('div');\n",
              "      const label = document.createElement('label');\n",
              "      label.textContent = `Downloading \"${filename}\": `;\n",
              "      div.appendChild(label);\n",
              "      const progress = document.createElement('progress');\n",
              "      progress.max = size;\n",
              "      div.appendChild(progress);\n",
              "      document.body.appendChild(div);\n",
              "\n",
              "      const buffers = [];\n",
              "      let downloaded = 0;\n",
              "\n",
              "      const channel = await google.colab.kernel.comms.open(id);\n",
              "      // Send a message to notify the kernel that we're ready.\n",
              "      channel.send({})\n",
              "\n",
              "      for await (const message of channel.messages) {\n",
              "        // Send a message to notify the kernel that we're ready.\n",
              "        channel.send({})\n",
              "        if (message.buffers) {\n",
              "          for (const buffer of message.buffers) {\n",
              "            buffers.push(buffer);\n",
              "            downloaded += buffer.byteLength;\n",
              "            progress.value = downloaded;\n",
              "          }\n",
              "        }\n",
              "      }\n",
              "      const blob = new Blob(buffers, {type: 'application/binary'});\n",
              "      const a = document.createElement('a');\n",
              "      a.href = window.URL.createObjectURL(blob);\n",
              "      a.download = filename;\n",
              "      div.appendChild(a);\n",
              "      a.click();\n",
              "      div.remove();\n",
              "    }\n",
              "  "
            ],
            "text/plain": [
              "<IPython.core.display.Javascript object>"
            ]
          },
          "metadata": {}
        },
        {
          "output_type": "display_data",
          "data": {
            "application/javascript": [
              "download(\"download_7370d42f-17de-492e-80ff-481dc9346f93\", \"webdata_qtySold.csv\", 7999)"
            ],
            "text/plain": [
              "<IPython.core.display.Javascript object>"
            ]
          },
          "metadata": {}
        }
      ]
    },
    {
      "cell_type": "markdown",
      "metadata": {
        "id": "w0JUaQKa1slj"
      },
      "source": [
        "## Missing data\n",
        "This code was used to compile a dataset that contained:\n",
        "\n",
        "\n",
        "*   Items with a missing webpage\n",
        "*   Items with a missing category, bom type ID\n",
        "\n",
        "\n",
        "\n"
      ]
    },
    {
      "cell_type": "code",
      "metadata": {
        "id": "98rPayJLiP1F"
      },
      "source": [
        "missing_page_items = qtySold_bom_result.loc[qtySold_bom_result['Page'] == \"n/a\"]"
      ],
      "execution_count": null,
      "outputs": []
    },
    {
      "cell_type": "code",
      "metadata": {
        "id": "0dEKee-8jJLm"
      },
      "source": [
        "missing_bom_result = qtySold_bom_result.loc[qtySold_bom_result['Page'] != \"n/a\"]"
      ],
      "execution_count": null,
      "outputs": []
    },
    {
      "cell_type": "code",
      "metadata": {
        "id": "UW5o9IvYk2eN"
      },
      "source": [
        "missing_page_items.to_csv(\"Items with missing pages.csv\")\n",
        "missing_bom_result.to_csv(\"Items with missing category, name, bom_type ID and bom type.csv\")"
      ],
      "execution_count": null,
      "outputs": []
    }
  ]
}